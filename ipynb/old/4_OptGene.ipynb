{
 "cells": [
  {
   "cell_type": "code",
   "execution_count": 5,
   "metadata": {
    "collapsed": false
   },
   "outputs": [],
   "source": [
    "import cobra\n",
    "import pandas as pd\n",
    "import escher\n",
    "import cameo\n",
    "from cameo.strain_design.heuristic.evolutionary_based import OptGene"
   ]
  },
  {
   "cell_type": "code",
   "execution_count": 6,
   "metadata": {
    "collapsed": true
   },
   "outputs": [],
   "source": [
    "wd = '/Users/aalarcon/Documents/Jupyter/3_Isopropanol/'"
   ]
  },
  {
   "cell_type": "code",
   "execution_count": 7,
   "metadata": {
    "collapsed": true
   },
   "outputs": [],
   "source": [
    "model = cobra.io.read_sbml_model(wd+'input/model_PKT_iprop.xml')"
   ]
  },
  {
   "cell_type": "markdown",
   "metadata": {},
   "source": [
    "## Simulation OptGene"
   ]
  },
  {
   "cell_type": "code",
   "execution_count": 8,
   "metadata": {
    "collapsed": true
   },
   "outputs": [],
   "source": [
    "model.reactions.IPRNADPH.bounds=(0,0)\n",
    "model.reactions.IPRNADH.bounds=(0,1000)"
   ]
  },
  {
   "cell_type": "code",
   "execution_count": 9,
   "metadata": {
    "collapsed": true
   },
   "outputs": [],
   "source": [
    "optgene = OptGene(model)"
   ]
  },
  {
   "cell_type": "code",
   "execution_count": null,
   "metadata": {
    "collapsed": false
   },
   "outputs": [
    {
     "name": "stdout",
     "output_type": "stream",
     "text": [
      "Starting optimization at Thu, 05 Oct 2017 15:58:28\n"
     ]
    },
    {
     "data": {
      "text/html": [
       "\n",
       "\n",
       "    <div class=\"bk-root\">\n",
       "        <div class=\"bk-plotdiv\" id=\"f4caea65-16da-45d3-8e08-28aa3c3c2761\"></div>\n",
       "    </div>\n",
       "<script type=\"text/javascript\">\n",
       "  \n",
       "  (function(global) {\n",
       "    function now() {\n",
       "      return new Date();\n",
       "    }\n",
       "  \n",
       "    var force = false;\n",
       "  \n",
       "    if (typeof (window._bokeh_onload_callbacks) === \"undefined\" || force === true) {\n",
       "      window._bokeh_onload_callbacks = [];\n",
       "      window._bokeh_is_loading = undefined;\n",
       "    }\n",
       "  \n",
       "  \n",
       "    \n",
       "    if (typeof (window._bokeh_timeout) === \"undefined\" || force === true) {\n",
       "      window._bokeh_timeout = Date.now() + 0;\n",
       "      window._bokeh_failed_load = false;\n",
       "    }\n",
       "  \n",
       "    var NB_LOAD_WARNING = {'data': {'text/html':\n",
       "       \"<div style='background-color: #fdd'>\\n\"+\n",
       "       \"<p>\\n\"+\n",
       "       \"BokehJS does not appear to have successfully loaded. If loading BokehJS from CDN, this \\n\"+\n",
       "       \"may be due to a slow or bad network connection. Possible fixes:\\n\"+\n",
       "       \"</p>\\n\"+\n",
       "       \"<ul>\\n\"+\n",
       "       \"<li>re-rerun `output_notebook()` to attempt to load from CDN again, or</li>\\n\"+\n",
       "       \"<li>use INLINE resources instead, as so:</li>\\n\"+\n",
       "       \"</ul>\\n\"+\n",
       "       \"<code>\\n\"+\n",
       "       \"from bokeh.resources import INLINE\\n\"+\n",
       "       \"output_notebook(resources=INLINE)\\n\"+\n",
       "       \"</code>\\n\"+\n",
       "       \"</div>\"}};\n",
       "  \n",
       "    function display_loaded() {\n",
       "      if (window.Bokeh !== undefined) {\n",
       "        document.getElementById(\"f4caea65-16da-45d3-8e08-28aa3c3c2761\").textContent = \"BokehJS successfully loaded.\";\n",
       "      } else if (Date.now() < window._bokeh_timeout) {\n",
       "        setTimeout(display_loaded, 100)\n",
       "      }\n",
       "    }if ((window.Jupyter !== undefined) && Jupyter.notebook.kernel) {\n",
       "      comm_manager = Jupyter.notebook.kernel.comm_manager\n",
       "      comm_manager.register_target(\"9fbb0a18-568b-4aed-86bd-9f0494f0eae8\", function () {});\n",
       "    }\n",
       "  \n",
       "    function run_callbacks() {\n",
       "      window._bokeh_onload_callbacks.forEach(function(callback) { callback() });\n",
       "      delete window._bokeh_onload_callbacks\n",
       "      console.info(\"Bokeh: all callbacks have finished\");\n",
       "    }\n",
       "  \n",
       "    function load_libs(js_urls, callback) {\n",
       "      window._bokeh_onload_callbacks.push(callback);\n",
       "      if (window._bokeh_is_loading > 0) {\n",
       "        console.log(\"Bokeh: BokehJS is being loaded, scheduling callback at\", now());\n",
       "        return null;\n",
       "      }\n",
       "      if (js_urls == null || js_urls.length === 0) {\n",
       "        run_callbacks();\n",
       "        return null;\n",
       "      }\n",
       "      console.log(\"Bokeh: BokehJS not loaded, scheduling load and callback at\", now());\n",
       "      window._bokeh_is_loading = js_urls.length;\n",
       "      for (var i = 0; i < js_urls.length; i++) {\n",
       "        var url = js_urls[i];\n",
       "        var s = document.createElement('script');\n",
       "        s.src = url;\n",
       "        s.async = false;\n",
       "        s.onreadystatechange = s.onload = function() {\n",
       "          window._bokeh_is_loading--;\n",
       "          if (window._bokeh_is_loading === 0) {\n",
       "            console.log(\"Bokeh: all BokehJS libraries loaded\");\n",
       "            run_callbacks()\n",
       "          }\n",
       "        };\n",
       "        s.onerror = function() {\n",
       "          console.warn(\"failed to load library \" + url);\n",
       "        };\n",
       "        console.log(\"Bokeh: injecting script tag for BokehJS library: \", url);\n",
       "        document.getElementsByTagName(\"head\")[0].appendChild(s);\n",
       "      }\n",
       "    };var element = document.getElementById(\"f4caea65-16da-45d3-8e08-28aa3c3c2761\");\n",
       "    if (element == null) {\n",
       "      console.log(\"Bokeh: ERROR: autoload.js configured with elementid 'f4caea65-16da-45d3-8e08-28aa3c3c2761' but no matching script tag was found. \")\n",
       "      return false;\n",
       "    }\n",
       "  \n",
       "    var js_urls = [];\n",
       "  \n",
       "    var inline_js = [\n",
       "      function(Bokeh) {\n",
       "        (function() {\n",
       "          var fn = function() {\n",
       "            var docs_json = {\"026deaa6-0fce-4606-b79b-e6178414492e\":{\"roots\":{\"references\":[{\"attributes\":{},\"id\":\"de409c38-1dc7-41fd-ae29-bd3ec6b3345c\",\"type\":\"BasicTickFormatter\"},{\"attributes\":{\"fill_color\":{\"value\":\"#1f77b4\"},\"line_color\":{\"value\":\"#1f77b4\"},\"x\":{\"field\":\"x\"},\"y\":{\"field\":\"y\"}},\"id\":\"2b413ad0-2a04-4631-bf99-2b6daa7d4b4a\",\"type\":\"Circle\"},{\"attributes\":{\"active_drag\":\"auto\",\"active_scroll\":\"auto\",\"active_tap\":\"auto\"},\"id\":\"26518422-af3e-45fa-95d0-4b868e35ebae\",\"type\":\"Toolbar\"},{\"attributes\":{},\"id\":\"5b9d923a-f7dd-44a3-bd9a-1a735defde76\",\"type\":\"BasicTicker\"},{\"attributes\":{\"plot\":null,\"text\":\"Fitness plot\"},\"id\":\"098e593f-a0ae-400a-8113-e9ccb8252b20\",\"type\":\"Title\"},{\"attributes\":{\"dimension\":1,\"plot\":{\"id\":\"290b7cf7-adfb-46ad-aee0-19bcad6a948f\",\"subtype\":\"Figure\",\"type\":\"Plot\"},\"ticker\":{\"id\":\"5b9d923a-f7dd-44a3-bd9a-1a735defde76\",\"type\":\"BasicTicker\"}},\"id\":\"55333892-7278-4c8b-89b6-b41b5492c83b\",\"type\":\"Grid\"},{\"attributes\":{\"callback\":null},\"id\":\"24e29d9d-bbf6-4b46-b4ad-eee8b65ff05f\",\"type\":\"DataRange1d\"},{\"attributes\":{\"fill_alpha\":{\"value\":0.1},\"fill_color\":{\"value\":\"#1f77b4\"},\"line_alpha\":{\"value\":0.1},\"line_color\":{\"value\":\"#1f77b4\"},\"x\":{\"field\":\"x\"},\"y\":{\"field\":\"y\"}},\"id\":\"bb2a47e2-4b1b-48ec-a0e8-c877c4485be4\",\"type\":\"Circle\"},{\"attributes\":{},\"id\":\"3e671e06-8393-4699-b9d2-5c483ff6278f\",\"type\":\"ToolEvents\"},{\"attributes\":{},\"id\":\"db803d62-1c34-4ede-bd9c-42deb7cf4166\",\"type\":\"BasicTicker\"},{\"attributes\":{\"axis_label\":\"Fitness\",\"formatter\":{\"id\":\"08b56c6a-6bf5-4ce1-93de-b944f520aa0c\",\"type\":\"BasicTickFormatter\"},\"plot\":{\"id\":\"290b7cf7-adfb-46ad-aee0-19bcad6a948f\",\"subtype\":\"Figure\",\"type\":\"Plot\"},\"ticker\":{\"id\":\"5b9d923a-f7dd-44a3-bd9a-1a735defde76\",\"type\":\"BasicTicker\"}},\"id\":\"7166a4f4-fd9e-4b98-80a8-8b948bf67cb1\",\"type\":\"LinearAxis\"},{\"attributes\":{},\"id\":\"08b56c6a-6bf5-4ce1-93de-b944f520aa0c\",\"type\":\"BasicTickFormatter\"},{\"attributes\":{\"data_source\":{\"id\":\"f0b38f76-1e26-45e4-ae6c-f537cade12a0\",\"type\":\"ColumnDataSource\"},\"glyph\":{\"id\":\"2b413ad0-2a04-4631-bf99-2b6daa7d4b4a\",\"type\":\"Circle\"},\"hover_glyph\":null,\"nonselection_glyph\":{\"id\":\"bb2a47e2-4b1b-48ec-a0e8-c877c4485be4\",\"type\":\"Circle\"},\"selection_glyph\":null},\"id\":\"4638f5eb-0c9a-4c3d-9588-f61a1b756973\",\"type\":\"GlyphRenderer\"},{\"attributes\":{\"axis_label\":\"Iteration\",\"formatter\":{\"id\":\"de409c38-1dc7-41fd-ae29-bd3ec6b3345c\",\"type\":\"BasicTickFormatter\"},\"plot\":{\"id\":\"290b7cf7-adfb-46ad-aee0-19bcad6a948f\",\"subtype\":\"Figure\",\"type\":\"Plot\"},\"ticker\":{\"id\":\"db803d62-1c34-4ede-bd9c-42deb7cf4166\",\"type\":\"BasicTicker\"}},\"id\":\"78f9cad9-f602-48c5-9a9a-15cc4a65624c\",\"type\":\"LinearAxis\"},{\"attributes\":{\"plot\":{\"id\":\"290b7cf7-adfb-46ad-aee0-19bcad6a948f\",\"subtype\":\"Figure\",\"type\":\"Plot\"},\"ticker\":{\"id\":\"db803d62-1c34-4ede-bd9c-42deb7cf4166\",\"type\":\"BasicTicker\"}},\"id\":\"162608d9-b70a-473b-bfb8-15908ea3fca3\",\"type\":\"Grid\"},{\"attributes\":{\"callback\":null},\"id\":\"309d4d04-fad5-4600-a4cf-74d4e55eaa97\",\"type\":\"DataRange1d\"},{\"attributes\":{\"callback\":null,\"column_names\":[\"y\",\"x\"],\"data\":{\"x\":[],\"y\":[]}},\"id\":\"f0b38f76-1e26-45e4-ae6c-f537cade12a0\",\"type\":\"ColumnDataSource\"},{\"attributes\":{\"below\":[{\"id\":\"78f9cad9-f602-48c5-9a9a-15cc4a65624c\",\"type\":\"LinearAxis\"}],\"left\":[{\"id\":\"7166a4f4-fd9e-4b98-80a8-8b948bf67cb1\",\"type\":\"LinearAxis\"}],\"plot_height\":400,\"plot_width\":650,\"renderers\":[{\"id\":\"78f9cad9-f602-48c5-9a9a-15cc4a65624c\",\"type\":\"LinearAxis\"},{\"id\":\"162608d9-b70a-473b-bfb8-15908ea3fca3\",\"type\":\"Grid\"},{\"id\":\"7166a4f4-fd9e-4b98-80a8-8b948bf67cb1\",\"type\":\"LinearAxis\"},{\"id\":\"55333892-7278-4c8b-89b6-b41b5492c83b\",\"type\":\"Grid\"},{\"id\":\"4638f5eb-0c9a-4c3d-9588-f61a1b756973\",\"type\":\"GlyphRenderer\"}],\"title\":{\"id\":\"098e593f-a0ae-400a-8113-e9ccb8252b20\",\"type\":\"Title\"},\"tool_events\":{\"id\":\"3e671e06-8393-4699-b9d2-5c483ff6278f\",\"type\":\"ToolEvents\"},\"toolbar\":{\"id\":\"26518422-af3e-45fa-95d0-4b868e35ebae\",\"type\":\"Toolbar\"},\"x_range\":{\"id\":\"309d4d04-fad5-4600-a4cf-74d4e55eaa97\",\"type\":\"DataRange1d\"},\"y_range\":{\"id\":\"24e29d9d-bbf6-4b46-b4ad-eee8b65ff05f\",\"type\":\"DataRange1d\"}},\"id\":\"290b7cf7-adfb-46ad-aee0-19bcad6a948f\",\"subtype\":\"Figure\",\"type\":\"Plot\"}],\"root_ids\":[\"290b7cf7-adfb-46ad-aee0-19bcad6a948f\"]},\"title\":\"Bokeh Application\",\"version\":\"0.12.4\"}};\n",
       "            var render_items = [{\"docid\":\"026deaa6-0fce-4606-b79b-e6178414492e\",\"elementid\":\"f4caea65-16da-45d3-8e08-28aa3c3c2761\",\"modelid\":\"290b7cf7-adfb-46ad-aee0-19bcad6a948f\",\"notebook_comms_target\":\"9fbb0a18-568b-4aed-86bd-9f0494f0eae8\"}];\n",
       "            \n",
       "            Bokeh.embed.embed_items(docs_json, render_items);\n",
       "          };\n",
       "          if (document.readyState != \"loading\") fn();\n",
       "          else document.addEventListener(\"DOMContentLoaded\", fn);\n",
       "        })();\n",
       "      },\n",
       "      function(Bokeh) {\n",
       "      }\n",
       "    ];\n",
       "  \n",
       "    function run_inline_js() {\n",
       "      \n",
       "      if ((window.Bokeh !== undefined) || (force === true)) {\n",
       "        for (var i = 0; i < inline_js.length; i++) {\n",
       "          inline_js[i](window.Bokeh);\n",
       "        }if (force === true) {\n",
       "          display_loaded();\n",
       "        }} else if (Date.now() < window._bokeh_timeout) {\n",
       "        setTimeout(run_inline_js, 100);\n",
       "      } else if (!window._bokeh_failed_load) {\n",
       "        console.log(\"Bokeh: BokehJS failed to load within specified timeout.\");\n",
       "        window._bokeh_failed_load = true;\n",
       "      } else if (force !== true) {\n",
       "        var cell = $(document.getElementById(\"f4caea65-16da-45d3-8e08-28aa3c3c2761\")).parents('.cell').data().cell;\n",
       "        cell.output_area.append_execute_result(NB_LOAD_WARNING)\n",
       "      }\n",
       "  \n",
       "    }\n",
       "  \n",
       "    if (window._bokeh_is_loading === 0) {\n",
       "      console.log(\"Bokeh: BokehJS loaded, going straight to plotting\");\n",
       "      run_inline_js();\n",
       "    } else {\n",
       "      load_libs(js_urls, function() {\n",
       "        console.log(\"Bokeh: BokehJS plotting callback run at\", now());\n",
       "        run_inline_js();\n",
       "      });\n",
       "    }\n",
       "  }(this));\n",
       "</script>"
      ]
     },
     "metadata": {},
     "output_type": "display_data"
    },
    {
     "name": "stderr",
     "output_type": "stream",
     "text": [
      "/Users/aalarcon/anaconda/envs/cameo3.4/lib/python3.4/site-packages/bokeh/models/sources.py:81 \u001b[1;31mBokehUserWarning\u001b[0m: ColumnDataSource's columns must be of the same length\n",
      "/Users/aalarcon/anaconda/envs/cameo3.4/lib/python3.4/site-packages/bokeh/models/sources.py:81 \u001b[1;31mBokehUserWarning\u001b[0m: ColumnDataSource's columns must be of the same length\n",
      "/Users/aalarcon/anaconda/envs/cameo3.4/lib/python3.4/site-packages/bokeh/models/sources.py:81 \u001b[1;31mBokehUserWarning\u001b[0m: ColumnDataSource's columns must be of the same length\n",
      "/Users/aalarcon/anaconda/envs/cameo3.4/lib/python3.4/site-packages/bokeh/models/sources.py:81 \u001b[1;31mBokehUserWarning\u001b[0m: ColumnDataSource's columns must be of the same length\n",
      "/Users/aalarcon/anaconda/envs/cameo3.4/lib/python3.4/site-packages/bokeh/models/sources.py:81 \u001b[1;31mBokehUserWarning\u001b[0m: ColumnDataSource's columns must be of the same length\n",
      "/Users/aalarcon/anaconda/envs/cameo3.4/lib/python3.4/site-packages/bokeh/models/sources.py:81 \u001b[1;31mBokehUserWarning\u001b[0m: ColumnDataSource's columns must be of the same length\n",
      "/Users/aalarcon/anaconda/envs/cameo3.4/lib/python3.4/site-packages/bokeh/models/sources.py:81 \u001b[1;31mBokehUserWarning\u001b[0m: ColumnDataSource's columns must be of the same length\n",
      "/Users/aalarcon/anaconda/envs/cameo3.4/lib/python3.4/site-packages/bokeh/models/sources.py:81 \u001b[1;31mBokehUserWarning\u001b[0m: ColumnDataSource's columns must be of the same length\n",
      "/Users/aalarcon/anaconda/envs/cameo3.4/lib/python3.4/site-packages/bokeh/models/sources.py:81 \u001b[1;31mBokehUserWarning\u001b[0m: ColumnDataSource's columns must be of the same length\n",
      "/Users/aalarcon/anaconda/envs/cameo3.4/lib/python3.4/site-packages/bokeh/models/sources.py:81 \u001b[1;31mBokehUserWarning\u001b[0m: ColumnDataSource's columns must be of the same length\n",
      "/Users/aalarcon/anaconda/envs/cameo3.4/lib/python3.4/site-packages/bokeh/models/sources.py:81 \u001b[1;31mBokehUserWarning\u001b[0m: ColumnDataSource's columns must be of the same length\n",
      "/Users/aalarcon/anaconda/envs/cameo3.4/lib/python3.4/site-packages/bokeh/models/sources.py:81 \u001b[1;31mBokehUserWarning\u001b[0m: ColumnDataSource's columns must be of the same length\n",
      "/Users/aalarcon/anaconda/envs/cameo3.4/lib/python3.4/site-packages/bokeh/models/sources.py:81 \u001b[1;31mBokehUserWarning\u001b[0m: ColumnDataSource's columns must be of the same length\n",
      "/Users/aalarcon/anaconda/envs/cameo3.4/lib/python3.4/site-packages/bokeh/models/sources.py:81 \u001b[1;31mBokehUserWarning\u001b[0m: ColumnDataSource's columns must be of the same length\n",
      "/Users/aalarcon/anaconda/envs/cameo3.4/lib/python3.4/site-packages/bokeh/models/sources.py:81 \u001b[1;31mBokehUserWarning\u001b[0m: ColumnDataSource's columns must be of the same length\n",
      "/Users/aalarcon/anaconda/envs/cameo3.4/lib/python3.4/site-packages/bokeh/models/sources.py:81 \u001b[1;31mBokehUserWarning\u001b[0m: ColumnDataSource's columns must be of the same length\n",
      "/Users/aalarcon/anaconda/envs/cameo3.4/lib/python3.4/site-packages/bokeh/models/sources.py:81 \u001b[1;31mBokehUserWarning\u001b[0m: ColumnDataSource's columns must be of the same length\n",
      "/Users/aalarcon/anaconda/envs/cameo3.4/lib/python3.4/site-packages/bokeh/models/sources.py:81 \u001b[1;31mBokehUserWarning\u001b[0m: ColumnDataSource's columns must be of the same length\n",
      "/Users/aalarcon/anaconda/envs/cameo3.4/lib/python3.4/site-packages/bokeh/models/sources.py:81 \u001b[1;31mBokehUserWarning\u001b[0m: ColumnDataSource's columns must be of the same length\n",
      "/Users/aalarcon/anaconda/envs/cameo3.4/lib/python3.4/site-packages/bokeh/models/sources.py:81 \u001b[1;31mBokehUserWarning\u001b[0m: ColumnDataSource's columns must be of the same length\n",
      "/Users/aalarcon/anaconda/envs/cameo3.4/lib/python3.4/site-packages/bokeh/models/sources.py:81 \u001b[1;31mBokehUserWarning\u001b[0m: ColumnDataSource's columns must be of the same length\n",
      "/Users/aalarcon/anaconda/envs/cameo3.4/lib/python3.4/site-packages/bokeh/models/sources.py:81 \u001b[1;31mBokehUserWarning\u001b[0m: ColumnDataSource's columns must be of the same length\n",
      "/Users/aalarcon/anaconda/envs/cameo3.4/lib/python3.4/site-packages/bokeh/models/sources.py:81 \u001b[1;31mBokehUserWarning\u001b[0m: ColumnDataSource's columns must be of the same length\n",
      "/Users/aalarcon/anaconda/envs/cameo3.4/lib/python3.4/site-packages/bokeh/models/sources.py:81 \u001b[1;31mBokehUserWarning\u001b[0m: ColumnDataSource's columns must be of the same length\n",
      "/Users/aalarcon/anaconda/envs/cameo3.4/lib/python3.4/site-packages/bokeh/models/sources.py:81 \u001b[1;31mBokehUserWarning\u001b[0m: ColumnDataSource's columns must be of the same length\n",
      "/Users/aalarcon/anaconda/envs/cameo3.4/lib/python3.4/site-packages/bokeh/models/sources.py:81 \u001b[1;31mBokehUserWarning\u001b[0m: ColumnDataSource's columns must be of the same length\n",
      "/Users/aalarcon/anaconda/envs/cameo3.4/lib/python3.4/site-packages/bokeh/models/sources.py:81 \u001b[1;31mBokehUserWarning\u001b[0m: ColumnDataSource's columns must be of the same length\n",
      "/Users/aalarcon/anaconda/envs/cameo3.4/lib/python3.4/site-packages/bokeh/models/sources.py:81 \u001b[1;31mBokehUserWarning\u001b[0m: ColumnDataSource's columns must be of the same length\n",
      "/Users/aalarcon/anaconda/envs/cameo3.4/lib/python3.4/site-packages/bokeh/models/sources.py:81 \u001b[1;31mBokehUserWarning\u001b[0m: ColumnDataSource's columns must be of the same length\n",
      "/Users/aalarcon/anaconda/envs/cameo3.4/lib/python3.4/site-packages/bokeh/models/sources.py:81 \u001b[1;31mBokehUserWarning\u001b[0m: ColumnDataSource's columns must be of the same length\n",
      "/Users/aalarcon/anaconda/envs/cameo3.4/lib/python3.4/site-packages/bokeh/models/sources.py:81 \u001b[1;31mBokehUserWarning\u001b[0m: ColumnDataSource's columns must be of the same length\n",
      "/Users/aalarcon/anaconda/envs/cameo3.4/lib/python3.4/site-packages/bokeh/models/sources.py:81 \u001b[1;31mBokehUserWarning\u001b[0m: ColumnDataSource's columns must be of the same length\n",
      "/Users/aalarcon/anaconda/envs/cameo3.4/lib/python3.4/site-packages/bokeh/models/sources.py:81 \u001b[1;31mBokehUserWarning\u001b[0m: ColumnDataSource's columns must be of the same length\n",
      "/Users/aalarcon/anaconda/envs/cameo3.4/lib/python3.4/site-packages/bokeh/models/sources.py:81 \u001b[1;31mBokehUserWarning\u001b[0m: ColumnDataSource's columns must be of the same length\n",
      "/Users/aalarcon/anaconda/envs/cameo3.4/lib/python3.4/site-packages/bokeh/models/sources.py:81 \u001b[1;31mBokehUserWarning\u001b[0m: ColumnDataSource's columns must be of the same length\n",
      "/Users/aalarcon/anaconda/envs/cameo3.4/lib/python3.4/site-packages/bokeh/models/sources.py:81 \u001b[1;31mBokehUserWarning\u001b[0m: ColumnDataSource's columns must be of the same length\n",
      "/Users/aalarcon/anaconda/envs/cameo3.4/lib/python3.4/site-packages/bokeh/models/sources.py:81 \u001b[1;31mBokehUserWarning\u001b[0m: ColumnDataSource's columns must be of the same length\n",
      "/Users/aalarcon/anaconda/envs/cameo3.4/lib/python3.4/site-packages/bokeh/models/sources.py:81 \u001b[1;31mBokehUserWarning\u001b[0m: ColumnDataSource's columns must be of the same length\n",
      "/Users/aalarcon/anaconda/envs/cameo3.4/lib/python3.4/site-packages/bokeh/models/sources.py:81 \u001b[1;31mBokehUserWarning\u001b[0m: ColumnDataSource's columns must be of the same length\n",
      "/Users/aalarcon/anaconda/envs/cameo3.4/lib/python3.4/site-packages/bokeh/models/sources.py:81 \u001b[1;31mBokehUserWarning\u001b[0m: ColumnDataSource's columns must be of the same length\n",
      "/Users/aalarcon/anaconda/envs/cameo3.4/lib/python3.4/site-packages/bokeh/models/sources.py:81 \u001b[1;31mBokehUserWarning\u001b[0m: ColumnDataSource's columns must be of the same length\n",
      "/Users/aalarcon/anaconda/envs/cameo3.4/lib/python3.4/site-packages/bokeh/models/sources.py:81 \u001b[1;31mBokehUserWarning\u001b[0m: ColumnDataSource's columns must be of the same length\n",
      "/Users/aalarcon/anaconda/envs/cameo3.4/lib/python3.4/site-packages/bokeh/models/sources.py:81 \u001b[1;31mBokehUserWarning\u001b[0m: ColumnDataSource's columns must be of the same length\n",
      "/Users/aalarcon/anaconda/envs/cameo3.4/lib/python3.4/site-packages/bokeh/models/sources.py:81 \u001b[1;31mBokehUserWarning\u001b[0m: ColumnDataSource's columns must be of the same length\n",
      "/Users/aalarcon/anaconda/envs/cameo3.4/lib/python3.4/site-packages/bokeh/models/sources.py:81 \u001b[1;31mBokehUserWarning\u001b[0m: ColumnDataSource's columns must be of the same length\n",
      "/Users/aalarcon/anaconda/envs/cameo3.4/lib/python3.4/site-packages/bokeh/models/sources.py:81 \u001b[1;31mBokehUserWarning\u001b[0m: ColumnDataSource's columns must be of the same length\n",
      "/Users/aalarcon/anaconda/envs/cameo3.4/lib/python3.4/site-packages/bokeh/models/sources.py:81 \u001b[1;31mBokehUserWarning\u001b[0m: ColumnDataSource's columns must be of the same length\n",
      "/Users/aalarcon/anaconda/envs/cameo3.4/lib/python3.4/site-packages/bokeh/models/sources.py:81 \u001b[1;31mBokehUserWarning\u001b[0m: ColumnDataSource's columns must be of the same length\n",
      "/Users/aalarcon/anaconda/envs/cameo3.4/lib/python3.4/site-packages/bokeh/models/sources.py:81 \u001b[1;31mBokehUserWarning\u001b[0m: ColumnDataSource's columns must be of the same length\n",
      "/Users/aalarcon/anaconda/envs/cameo3.4/lib/python3.4/site-packages/bokeh/models/sources.py:81 \u001b[1;31mBokehUserWarning\u001b[0m: ColumnDataSource's columns must be of the same length\n",
      "/Users/aalarcon/anaconda/envs/cameo3.4/lib/python3.4/site-packages/bokeh/models/sources.py:81 \u001b[1;31mBokehUserWarning\u001b[0m: ColumnDataSource's columns must be of the same length\n",
      "/Users/aalarcon/anaconda/envs/cameo3.4/lib/python3.4/site-packages/bokeh/models/sources.py:81 \u001b[1;31mBokehUserWarning\u001b[0m: ColumnDataSource's columns must be of the same length\n",
      "/Users/aalarcon/anaconda/envs/cameo3.4/lib/python3.4/site-packages/bokeh/models/sources.py:81 \u001b[1;31mBokehUserWarning\u001b[0m: ColumnDataSource's columns must be of the same length\n",
      "/Users/aalarcon/anaconda/envs/cameo3.4/lib/python3.4/site-packages/bokeh/models/sources.py:81 \u001b[1;31mBokehUserWarning\u001b[0m: ColumnDataSource's columns must be of the same length\n",
      "/Users/aalarcon/anaconda/envs/cameo3.4/lib/python3.4/site-packages/bokeh/models/sources.py:81 \u001b[1;31mBokehUserWarning\u001b[0m: ColumnDataSource's columns must be of the same length\n",
      "/Users/aalarcon/anaconda/envs/cameo3.4/lib/python3.4/site-packages/bokeh/models/sources.py:81 \u001b[1;31mBokehUserWarning\u001b[0m: ColumnDataSource's columns must be of the same length\n",
      "/Users/aalarcon/anaconda/envs/cameo3.4/lib/python3.4/site-packages/bokeh/models/sources.py:81 \u001b[1;31mBokehUserWarning\u001b[0m: ColumnDataSource's columns must be of the same length\n",
      "/Users/aalarcon/anaconda/envs/cameo3.4/lib/python3.4/site-packages/bokeh/models/sources.py:81 \u001b[1;31mBokehUserWarning\u001b[0m: ColumnDataSource's columns must be of the same length\n",
      "/Users/aalarcon/anaconda/envs/cameo3.4/lib/python3.4/site-packages/bokeh/models/sources.py:81 \u001b[1;31mBokehUserWarning\u001b[0m: ColumnDataSource's columns must be of the same length\n",
      "/Users/aalarcon/anaconda/envs/cameo3.4/lib/python3.4/site-packages/bokeh/models/sources.py:81 \u001b[1;31mBokehUserWarning\u001b[0m: ColumnDataSource's columns must be of the same length\n",
      "/Users/aalarcon/anaconda/envs/cameo3.4/lib/python3.4/site-packages/bokeh/models/sources.py:81 \u001b[1;31mBokehUserWarning\u001b[0m: ColumnDataSource's columns must be of the same length\n",
      "/Users/aalarcon/anaconda/envs/cameo3.4/lib/python3.4/site-packages/bokeh/models/sources.py:81 \u001b[1;31mBokehUserWarning\u001b[0m: ColumnDataSource's columns must be of the same length\n",
      "/Users/aalarcon/anaconda/envs/cameo3.4/lib/python3.4/site-packages/bokeh/models/sources.py:81 \u001b[1;31mBokehUserWarning\u001b[0m: ColumnDataSource's columns must be of the same length\n",
      "/Users/aalarcon/anaconda/envs/cameo3.4/lib/python3.4/site-packages/bokeh/models/sources.py:81 \u001b[1;31mBokehUserWarning\u001b[0m: ColumnDataSource's columns must be of the same length\n",
      "/Users/aalarcon/anaconda/envs/cameo3.4/lib/python3.4/site-packages/bokeh/models/sources.py:81 \u001b[1;31mBokehUserWarning\u001b[0m: ColumnDataSource's columns must be of the same length\n",
      "/Users/aalarcon/anaconda/envs/cameo3.4/lib/python3.4/site-packages/bokeh/models/sources.py:81 \u001b[1;31mBokehUserWarning\u001b[0m: ColumnDataSource's columns must be of the same length\n",
      "/Users/aalarcon/anaconda/envs/cameo3.4/lib/python3.4/site-packages/bokeh/models/sources.py:81 \u001b[1;31mBokehUserWarning\u001b[0m: ColumnDataSource's columns must be of the same length\n",
      "/Users/aalarcon/anaconda/envs/cameo3.4/lib/python3.4/site-packages/bokeh/models/sources.py:81 \u001b[1;31mBokehUserWarning\u001b[0m: ColumnDataSource's columns must be of the same length\n",
      "/Users/aalarcon/anaconda/envs/cameo3.4/lib/python3.4/site-packages/bokeh/models/sources.py:81 \u001b[1;31mBokehUserWarning\u001b[0m: ColumnDataSource's columns must be of the same length\n",
      "/Users/aalarcon/anaconda/envs/cameo3.4/lib/python3.4/site-packages/bokeh/models/sources.py:81 \u001b[1;31mBokehUserWarning\u001b[0m: ColumnDataSource's columns must be of the same length\n",
      "/Users/aalarcon/anaconda/envs/cameo3.4/lib/python3.4/site-packages/bokeh/models/sources.py:81 \u001b[1;31mBokehUserWarning\u001b[0m: ColumnDataSource's columns must be of the same length\n",
      "/Users/aalarcon/anaconda/envs/cameo3.4/lib/python3.4/site-packages/bokeh/models/sources.py:81 \u001b[1;31mBokehUserWarning\u001b[0m: ColumnDataSource's columns must be of the same length\n",
      "/Users/aalarcon/anaconda/envs/cameo3.4/lib/python3.4/site-packages/bokeh/models/sources.py:81 \u001b[1;31mBokehUserWarning\u001b[0m: ColumnDataSource's columns must be of the same length\n",
      "/Users/aalarcon/anaconda/envs/cameo3.4/lib/python3.4/site-packages/bokeh/models/sources.py:81 \u001b[1;31mBokehUserWarning\u001b[0m: ColumnDataSource's columns must be of the same length\n",
      "/Users/aalarcon/anaconda/envs/cameo3.4/lib/python3.4/site-packages/bokeh/models/sources.py:81 \u001b[1;31mBokehUserWarning\u001b[0m: ColumnDataSource's columns must be of the same length\n",
      "/Users/aalarcon/anaconda/envs/cameo3.4/lib/python3.4/site-packages/bokeh/models/sources.py:81 \u001b[1;31mBokehUserWarning\u001b[0m: ColumnDataSource's columns must be of the same length\n",
      "/Users/aalarcon/anaconda/envs/cameo3.4/lib/python3.4/site-packages/bokeh/models/sources.py:81 \u001b[1;31mBokehUserWarning\u001b[0m: ColumnDataSource's columns must be of the same length\n",
      "/Users/aalarcon/anaconda/envs/cameo3.4/lib/python3.4/site-packages/bokeh/models/sources.py:81 \u001b[1;31mBokehUserWarning\u001b[0m: ColumnDataSource's columns must be of the same length\n",
      "/Users/aalarcon/anaconda/envs/cameo3.4/lib/python3.4/site-packages/bokeh/models/sources.py:81 \u001b[1;31mBokehUserWarning\u001b[0m: ColumnDataSource's columns must be of the same length\n",
      "/Users/aalarcon/anaconda/envs/cameo3.4/lib/python3.4/site-packages/bokeh/models/sources.py:81 \u001b[1;31mBokehUserWarning\u001b[0m: ColumnDataSource's columns must be of the same length\n",
      "/Users/aalarcon/anaconda/envs/cameo3.4/lib/python3.4/site-packages/bokeh/models/sources.py:81 \u001b[1;31mBokehUserWarning\u001b[0m: ColumnDataSource's columns must be of the same length\n",
      "/Users/aalarcon/anaconda/envs/cameo3.4/lib/python3.4/site-packages/bokeh/models/sources.py:81 \u001b[1;31mBokehUserWarning\u001b[0m: ColumnDataSource's columns must be of the same length\n",
      "/Users/aalarcon/anaconda/envs/cameo3.4/lib/python3.4/site-packages/bokeh/models/sources.py:81 \u001b[1;31mBokehUserWarning\u001b[0m: ColumnDataSource's columns must be of the same length\n",
      "/Users/aalarcon/anaconda/envs/cameo3.4/lib/python3.4/site-packages/bokeh/models/sources.py:81 \u001b[1;31mBokehUserWarning\u001b[0m: ColumnDataSource's columns must be of the same length\n",
      "/Users/aalarcon/anaconda/envs/cameo3.4/lib/python3.4/site-packages/bokeh/models/sources.py:81 \u001b[1;31mBokehUserWarning\u001b[0m: ColumnDataSource's columns must be of the same length\n",
      "/Users/aalarcon/anaconda/envs/cameo3.4/lib/python3.4/site-packages/bokeh/models/sources.py:81 \u001b[1;31mBokehUserWarning\u001b[0m: ColumnDataSource's columns must be of the same length\n",
      "/Users/aalarcon/anaconda/envs/cameo3.4/lib/python3.4/site-packages/bokeh/models/sources.py:81 \u001b[1;31mBokehUserWarning\u001b[0m: ColumnDataSource's columns must be of the same length\n",
      "/Users/aalarcon/anaconda/envs/cameo3.4/lib/python3.4/site-packages/bokeh/models/sources.py:81 \u001b[1;31mBokehUserWarning\u001b[0m: ColumnDataSource's columns must be of the same length\n",
      "/Users/aalarcon/anaconda/envs/cameo3.4/lib/python3.4/site-packages/bokeh/models/sources.py:81 \u001b[1;31mBokehUserWarning\u001b[0m: ColumnDataSource's columns must be of the same length\n",
      "/Users/aalarcon/anaconda/envs/cameo3.4/lib/python3.4/site-packages/bokeh/models/sources.py:81 \u001b[1;31mBokehUserWarning\u001b[0m: ColumnDataSource's columns must be of the same length\n",
      "/Users/aalarcon/anaconda/envs/cameo3.4/lib/python3.4/site-packages/bokeh/models/sources.py:81 \u001b[1;31mBokehUserWarning\u001b[0m: ColumnDataSource's columns must be of the same length\n",
      "/Users/aalarcon/anaconda/envs/cameo3.4/lib/python3.4/site-packages/bokeh/models/sources.py:81 \u001b[1;31mBokehUserWarning\u001b[0m: ColumnDataSource's columns must be of the same length\n",
      "/Users/aalarcon/anaconda/envs/cameo3.4/lib/python3.4/site-packages/bokeh/models/sources.py:81 \u001b[1;31mBokehUserWarning\u001b[0m: ColumnDataSource's columns must be of the same length\n",
      "/Users/aalarcon/anaconda/envs/cameo3.4/lib/python3.4/site-packages/bokeh/models/sources.py:81 \u001b[1;31mBokehUserWarning\u001b[0m: ColumnDataSource's columns must be of the same length\n",
      "/Users/aalarcon/anaconda/envs/cameo3.4/lib/python3.4/site-packages/bokeh/models/sources.py:81 \u001b[1;31mBokehUserWarning\u001b[0m: ColumnDataSource's columns must be of the same length\n",
      "/Users/aalarcon/anaconda/envs/cameo3.4/lib/python3.4/site-packages/bokeh/models/sources.py:81 \u001b[1;31mBokehUserWarning\u001b[0m: ColumnDataSource's columns must be of the same length\n",
      "/Users/aalarcon/anaconda/envs/cameo3.4/lib/python3.4/site-packages/bokeh/models/sources.py:81 \u001b[1;31mBokehUserWarning\u001b[0m: ColumnDataSource's columns must be of the same length\n",
      "/Users/aalarcon/anaconda/envs/cameo3.4/lib/python3.4/site-packages/bokeh/models/sources.py:81 \u001b[1;31mBokehUserWarning\u001b[0m: ColumnDataSource's columns must be of the same length\n",
      "/Users/aalarcon/anaconda/envs/cameo3.4/lib/python3.4/site-packages/bokeh/models/sources.py:81 \u001b[1;31mBokehUserWarning\u001b[0m: ColumnDataSource's columns must be of the same length\n",
      "/Users/aalarcon/anaconda/envs/cameo3.4/lib/python3.4/site-packages/bokeh/models/sources.py:81 \u001b[1;31mBokehUserWarning\u001b[0m: ColumnDataSource's columns must be of the same length\n",
      "/Users/aalarcon/anaconda/envs/cameo3.4/lib/python3.4/site-packages/bokeh/models/sources.py:81 \u001b[1;31mBokehUserWarning\u001b[0m: ColumnDataSource's columns must be of the same length\n",
      "/Users/aalarcon/anaconda/envs/cameo3.4/lib/python3.4/site-packages/bokeh/models/sources.py:81 \u001b[1;31mBokehUserWarning\u001b[0m: ColumnDataSource's columns must be of the same length\n",
      "/Users/aalarcon/anaconda/envs/cameo3.4/lib/python3.4/site-packages/bokeh/models/sources.py:81 \u001b[1;31mBokehUserWarning\u001b[0m: ColumnDataSource's columns must be of the same length\n",
      "/Users/aalarcon/anaconda/envs/cameo3.4/lib/python3.4/site-packages/bokeh/models/sources.py:81 \u001b[1;31mBokehUserWarning\u001b[0m: ColumnDataSource's columns must be of the same length\n",
      "/Users/aalarcon/anaconda/envs/cameo3.4/lib/python3.4/site-packages/bokeh/models/sources.py:81 \u001b[1;31mBokehUserWarning\u001b[0m: ColumnDataSource's columns must be of the same length\n",
      "/Users/aalarcon/anaconda/envs/cameo3.4/lib/python3.4/site-packages/bokeh/models/sources.py:81 \u001b[1;31mBokehUserWarning\u001b[0m: ColumnDataSource's columns must be of the same length\n",
      "/Users/aalarcon/anaconda/envs/cameo3.4/lib/python3.4/site-packages/bokeh/models/sources.py:81 \u001b[1;31mBokehUserWarning\u001b[0m: ColumnDataSource's columns must be of the same length\n",
      "/Users/aalarcon/anaconda/envs/cameo3.4/lib/python3.4/site-packages/bokeh/models/sources.py:81 \u001b[1;31mBokehUserWarning\u001b[0m: ColumnDataSource's columns must be of the same length\n",
      "/Users/aalarcon/anaconda/envs/cameo3.4/lib/python3.4/site-packages/bokeh/models/sources.py:81 \u001b[1;31mBokehUserWarning\u001b[0m: ColumnDataSource's columns must be of the same length\n",
      "/Users/aalarcon/anaconda/envs/cameo3.4/lib/python3.4/site-packages/bokeh/models/sources.py:81 \u001b[1;31mBokehUserWarning\u001b[0m: ColumnDataSource's columns must be of the same length\n",
      "/Users/aalarcon/anaconda/envs/cameo3.4/lib/python3.4/site-packages/bokeh/models/sources.py:81 \u001b[1;31mBokehUserWarning\u001b[0m: ColumnDataSource's columns must be of the same length\n",
      "/Users/aalarcon/anaconda/envs/cameo3.4/lib/python3.4/site-packages/bokeh/models/sources.py:81 \u001b[1;31mBokehUserWarning\u001b[0m: ColumnDataSource's columns must be of the same length\n",
      "/Users/aalarcon/anaconda/envs/cameo3.4/lib/python3.4/site-packages/bokeh/models/sources.py:81 \u001b[1;31mBokehUserWarning\u001b[0m: ColumnDataSource's columns must be of the same length\n",
      "/Users/aalarcon/anaconda/envs/cameo3.4/lib/python3.4/site-packages/bokeh/models/sources.py:81 \u001b[1;31mBokehUserWarning\u001b[0m: ColumnDataSource's columns must be of the same length\n",
      "/Users/aalarcon/anaconda/envs/cameo3.4/lib/python3.4/site-packages/bokeh/models/sources.py:81 \u001b[1;31mBokehUserWarning\u001b[0m: ColumnDataSource's columns must be of the same length\n",
      "/Users/aalarcon/anaconda/envs/cameo3.4/lib/python3.4/site-packages/bokeh/models/sources.py:81 \u001b[1;31mBokehUserWarning\u001b[0m: ColumnDataSource's columns must be of the same length\n",
      "/Users/aalarcon/anaconda/envs/cameo3.4/lib/python3.4/site-packages/bokeh/models/sources.py:81 \u001b[1;31mBokehUserWarning\u001b[0m: ColumnDataSource's columns must be of the same length\n",
      "/Users/aalarcon/anaconda/envs/cameo3.4/lib/python3.4/site-packages/bokeh/models/sources.py:81 \u001b[1;31mBokehUserWarning\u001b[0m: ColumnDataSource's columns must be of the same length\n",
      "/Users/aalarcon/anaconda/envs/cameo3.4/lib/python3.4/site-packages/bokeh/models/sources.py:81 \u001b[1;31mBokehUserWarning\u001b[0m: ColumnDataSource's columns must be of the same length\n",
      "/Users/aalarcon/anaconda/envs/cameo3.4/lib/python3.4/site-packages/bokeh/models/sources.py:81 \u001b[1;31mBokehUserWarning\u001b[0m: ColumnDataSource's columns must be of the same length\n",
      "/Users/aalarcon/anaconda/envs/cameo3.4/lib/python3.4/site-packages/bokeh/models/sources.py:81 \u001b[1;31mBokehUserWarning\u001b[0m: ColumnDataSource's columns must be of the same length\n",
      "/Users/aalarcon/anaconda/envs/cameo3.4/lib/python3.4/site-packages/bokeh/models/sources.py:81 \u001b[1;31mBokehUserWarning\u001b[0m: ColumnDataSource's columns must be of the same length\n",
      "/Users/aalarcon/anaconda/envs/cameo3.4/lib/python3.4/site-packages/bokeh/models/sources.py:81 \u001b[1;31mBokehUserWarning\u001b[0m: ColumnDataSource's columns must be of the same length\n",
      "/Users/aalarcon/anaconda/envs/cameo3.4/lib/python3.4/site-packages/bokeh/models/sources.py:81 \u001b[1;31mBokehUserWarning\u001b[0m: ColumnDataSource's columns must be of the same length\n",
      "/Users/aalarcon/anaconda/envs/cameo3.4/lib/python3.4/site-packages/bokeh/models/sources.py:81 \u001b[1;31mBokehUserWarning\u001b[0m: ColumnDataSource's columns must be of the same length\n",
      "/Users/aalarcon/anaconda/envs/cameo3.4/lib/python3.4/site-packages/bokeh/models/sources.py:81 \u001b[1;31mBokehUserWarning\u001b[0m: ColumnDataSource's columns must be of the same length\n",
      "/Users/aalarcon/anaconda/envs/cameo3.4/lib/python3.4/site-packages/bokeh/models/sources.py:81 \u001b[1;31mBokehUserWarning\u001b[0m: ColumnDataSource's columns must be of the same length\n",
      "/Users/aalarcon/anaconda/envs/cameo3.4/lib/python3.4/site-packages/bokeh/models/sources.py:81 \u001b[1;31mBokehUserWarning\u001b[0m: ColumnDataSource's columns must be of the same length\n",
      "/Users/aalarcon/anaconda/envs/cameo3.4/lib/python3.4/site-packages/bokeh/models/sources.py:81 \u001b[1;31mBokehUserWarning\u001b[0m: ColumnDataSource's columns must be of the same length\n"
     ]
    }
   ],
   "source": [
    "result = optgene.run(target=\"IPRNADH\", \n",
    "                     biomass=\"Biomass_core\",\n",
    "                     substrate=\"glc_D_e\",\n",
    "                     max_evaluations=50000,\n",
    "                     plot=False)"
   ]
  },
  {
   "cell_type": "code",
   "execution_count": null,
   "metadata": {
    "collapsed": true
   },
   "outputs": [],
   "source": [
    "result"
   ]
  }
 ],
 "metadata": {
  "kernelspec": {
   "display_name": "Python 3",
   "language": "python",
   "name": "python3"
  },
  "language_info": {
   "codemirror_mode": {
    "name": "ipython",
    "version": 3
   },
   "file_extension": ".py",
   "mimetype": "text/x-python",
   "name": "python",
   "nbconvert_exporter": "python",
   "pygments_lexer": "ipython3",
   "version": "3.4.5"
  },
  "widgets": {
   "state": {
    "471c9123dceb44e8bf69523c9d8f3b14": {
     "views": [
      {
       "cell_index": 6
      }
     ]
    }
   },
   "version": "1.2.0"
  }
 },
 "nbformat": 4,
 "nbformat_minor": 2
}
