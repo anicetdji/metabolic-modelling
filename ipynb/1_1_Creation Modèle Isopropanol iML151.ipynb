{
 "cells": [
  {
   "cell_type": "code",
   "execution_count": 45,
   "metadata": {
    "collapsed": true
   },
   "outputs": [],
   "source": [
    "import cobra\n",
    "import pandas as pd"
   ]
  },
  {
   "cell_type": "code",
   "execution_count": 46,
   "metadata": {
    "collapsed": true
   },
   "outputs": [],
   "source": [
    "wd = '/Users/aalarcon/Documents/Jupyter/3_Isopropanol/'"
   ]
  },
  {
   "cell_type": "code",
   "execution_count": 47,
   "metadata": {
    "collapsed": false
   },
   "outputs": [],
   "source": [
    "model = cobra.io.read_sbml_model(wd+'files/models/model_PKT_Acetone_iML1515.xml')\n",
    "model.name = 'PKT'"
   ]
  },
  {
   "cell_type": "code",
   "execution_count": 48,
   "metadata": {
    "collapsed": true
   },
   "outputs": [],
   "source": [
    "iprop_c = cobra.Metabolite(id='2ppoh_c', formula='C3H8O', name='isopropanol', compartment='c')\n",
    "model.add_metabolites(iprop_c)"
   ]
  },
  {
   "cell_type": "code",
   "execution_count": 49,
   "metadata": {
    "collapsed": false
   },
   "outputs": [],
   "source": [
    "r_isoprop_nadh = cobra.Reaction(id='IPRNADH', name='Propane 2-Monooxygenase (EC 1.14.13.227)', lower_bound=0, upper_bound=1000)\n",
    "r_isoprop_nadph = cobra.Reaction(id='IPRNADPH', name='Isopropanol Dehydrogenase (EC 1.1.1.80)', lower_bound=0, upper_bound=1000)\n",
    "model.add_reactions([r_isoprop_nadh, r_isoprop_nadph])\n",
    "r_isoprop_nadh.add_metabolites({'acetone_c':-1, 'nadh_c':-1, 'h_c':-1, '2ppoh_c':1, 'nad_c':1})\n",
    "r_isoprop_nadph.add_metabolites({'acetone_c':-1, 'nadph_c':-1, 'h_c':-1, '2ppoh_c':1, 'nadp_c':1})"
   ]
  },
  {
   "cell_type": "code",
   "execution_count": 50,
   "metadata": {
    "collapsed": false
   },
   "outputs": [],
   "source": [
    "r_isoprop_exch = cobra.Reaction(id='EX_2ppoh_e', name='Isopropanol Exchange')\n",
    "model.add_reaction(r_isoprop_exch)\n",
    "r_isoprop_exch.add_metabolites({'2ppoh_c':-1})"
   ]
  },
  {
   "cell_type": "code",
   "execution_count": 51,
   "metadata": {
    "collapsed": false
   },
   "outputs": [],
   "source": [
    "# Agregar aarC\n",
    "r_aarC = cobra.Reaction(id='AARC', name='Succinyl-CoA:Acetate CoA-Transferase', lower_bound=-1000, upper_bound=1000)\n",
    "model.add_reactions(r_aarC)\n",
    "r_aarC.build_reaction_from_string('succoa_c + ac_c <-> succ_c + accoa_c')"
   ]
  },
  {
   "cell_type": "code",
   "execution_count": 53,
   "metadata": {
    "collapsed": false
   },
   "outputs": [],
   "source": [
    "# Glucose Consumption to 10\n",
    "model.reactions.EX_glc__D_e.bounds = (-10,0)"
   ]
  },
  {
   "cell_type": "code",
   "execution_count": null,
   "metadata": {
    "collapsed": false
   },
   "outputs": [],
   "source": []
  },
  {
   "cell_type": "code",
   "execution_count": null,
   "metadata": {
    "collapsed": true
   },
   "outputs": [],
   "source": []
  },
  {
   "cell_type": "code",
   "execution_count": 54,
   "metadata": {
    "collapsed": false
   },
   "outputs": [],
   "source": [
    "cobra.io.write_sbml_model(model, wd+'files/models/model_PKT_Isopropanol_iML1515.xml')"
   ]
  },
  {
   "cell_type": "code",
   "execution_count": null,
   "metadata": {
    "collapsed": true
   },
   "outputs": [],
   "source": []
  }
 ],
 "metadata": {
  "kernelspec": {
   "display_name": "Python 3",
   "language": "python",
   "name": "python3"
  },
  "language_info": {
   "codemirror_mode": {
    "name": "ipython",
    "version": 3
   },
   "file_extension": ".py",
   "mimetype": "text/x-python",
   "name": "python",
   "nbconvert_exporter": "python",
   "pygments_lexer": "ipython3",
   "version": "3.6.8"
  }
 },
 "nbformat": 4,
 "nbformat_minor": 2
}
