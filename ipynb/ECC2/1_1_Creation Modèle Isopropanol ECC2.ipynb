{
 "cells": [
  {
   "cell_type": "code",
   "execution_count": 2,
   "metadata": {
    "collapsed": false
   },
   "outputs": [
    {
     "data": {
      "text/html": []
     },
     "metadata": {},
     "output_type": "display_data"
    },
    {
     "data": {
      "application/javascript": [
       "\n",
       "(function(global) {\n",
       "  function now() {\n",
       "    return new Date();\n",
       "  }\n",
       "\n",
       "  var force = true;\n",
       "\n",
       "  if (typeof (window._bokeh_onload_callbacks) === \"undefined\" || force === true) {\n",
       "    window._bokeh_onload_callbacks = [];\n",
       "    window._bokeh_is_loading = undefined;\n",
       "  }\n",
       "\n",
       "\n",
       "  \n",
       "  if (typeof (window._bokeh_timeout) === \"undefined\" || force === true) {\n",
       "    window._bokeh_timeout = Date.now() + 5000;\n",
       "    window._bokeh_failed_load = false;\n",
       "  }\n",
       "\n",
       "  var NB_LOAD_WARNING = {'data': {'text/html':\n",
       "     \"<div style='background-color: #fdd'>\\n\"+\n",
       "     \"<p>\\n\"+\n",
       "     \"BokehJS does not appear to have successfully loaded. If loading BokehJS from CDN, this \\n\"+\n",
       "     \"may be due to a slow or bad network connection. Possible fixes:\\n\"+\n",
       "     \"</p>\\n\"+\n",
       "     \"<ul>\\n\"+\n",
       "     \"<li>re-rerun `output_notebook()` to attempt to load from CDN again, or</li>\\n\"+\n",
       "     \"<li>use INLINE resources instead, as so:</li>\\n\"+\n",
       "     \"</ul>\\n\"+\n",
       "     \"<code>\\n\"+\n",
       "     \"from bokeh.resources import INLINE\\n\"+\n",
       "     \"output_notebook(resources=INLINE)\\n\"+\n",
       "     \"</code>\\n\"+\n",
       "     \"</div>\"}};\n",
       "\n",
       "  function display_loaded() {\n",
       "    if (window.Bokeh !== undefined) {\n",
       "      document.getElementById(\"\").textContent = \"BokehJS successfully loaded.\";\n",
       "    } else if (Date.now() < window._bokeh_timeout) {\n",
       "      setTimeout(display_loaded, 100)\n",
       "    }\n",
       "  }\n",
       "\n",
       "  function run_callbacks() {\n",
       "    window._bokeh_onload_callbacks.forEach(function(callback) { callback() });\n",
       "    delete window._bokeh_onload_callbacks\n",
       "    console.info(\"Bokeh: all callbacks have finished\");\n",
       "  }\n",
       "\n",
       "  function load_libs(js_urls, callback) {\n",
       "    window._bokeh_onload_callbacks.push(callback);\n",
       "    if (window._bokeh_is_loading > 0) {\n",
       "      console.log(\"Bokeh: BokehJS is being loaded, scheduling callback at\", now());\n",
       "      return null;\n",
       "    }\n",
       "    if (js_urls == null || js_urls.length === 0) {\n",
       "      run_callbacks();\n",
       "      return null;\n",
       "    }\n",
       "    console.log(\"Bokeh: BokehJS not loaded, scheduling load and callback at\", now());\n",
       "    window._bokeh_is_loading = js_urls.length;\n",
       "    for (var i = 0; i < js_urls.length; i++) {\n",
       "      var url = js_urls[i];\n",
       "      var s = document.createElement('script');\n",
       "      s.src = url;\n",
       "      s.async = false;\n",
       "      s.onreadystatechange = s.onload = function() {\n",
       "        window._bokeh_is_loading--;\n",
       "        if (window._bokeh_is_loading === 0) {\n",
       "          console.log(\"Bokeh: all BokehJS libraries loaded\");\n",
       "          run_callbacks()\n",
       "        }\n",
       "      };\n",
       "      s.onerror = function() {\n",
       "        console.warn(\"failed to load library \" + url);\n",
       "      };\n",
       "      console.log(\"Bokeh: injecting script tag for BokehJS library: \", url);\n",
       "      document.getElementsByTagName(\"head\")[0].appendChild(s);\n",
       "    }\n",
       "  };\n",
       "\n",
       "  var js_urls = [\"https://cdn.pydata.org/bokeh/release/bokeh-0.12.4.min.js\", \"https://cdn.pydata.org/bokeh/release/bokeh-widgets-0.12.4.min.js\"];\n",
       "\n",
       "  var inline_js = [\n",
       "    function(Bokeh) {\n",
       "      Bokeh.set_log_level(\"info\");\n",
       "    },\n",
       "    function(Bokeh) {\n",
       "      console.log(\"Bokeh: injecting CSS: https://cdn.pydata.org/bokeh/release/bokeh-0.12.4.min.css\");\n",
       "      Bokeh.embed.inject_css(\"https://cdn.pydata.org/bokeh/release/bokeh-0.12.4.min.css\");\n",
       "      console.log(\"Bokeh: injecting CSS: https://cdn.pydata.org/bokeh/release/bokeh-widgets-0.12.4.min.css\");\n",
       "      Bokeh.embed.inject_css(\"https://cdn.pydata.org/bokeh/release/bokeh-widgets-0.12.4.min.css\");\n",
       "    }\n",
       "  ];\n",
       "\n",
       "  function run_inline_js() {\n",
       "    \n",
       "    if ((window.Bokeh !== undefined) || (force === true)) {\n",
       "      for (var i = 0; i < inline_js.length; i++) {\n",
       "        inline_js[i](window.Bokeh);\n",
       "      }} else if (Date.now() < window._bokeh_timeout) {\n",
       "      setTimeout(run_inline_js, 100);\n",
       "    } else if (!window._bokeh_failed_load) {\n",
       "      console.log(\"Bokeh: BokehJS failed to load within specified timeout.\");\n",
       "      window._bokeh_failed_load = true;\n",
       "    } else if (force !== true) {\n",
       "      var cell = $(document.getElementById(\"\")).parents('.cell').data().cell;\n",
       "      cell.output_area.append_execute_result(NB_LOAD_WARNING)\n",
       "    }\n",
       "\n",
       "  }\n",
       "\n",
       "  if (window._bokeh_is_loading === 0) {\n",
       "    console.log(\"Bokeh: BokehJS loaded, going straight to plotting\");\n",
       "    run_inline_js();\n",
       "  } else {\n",
       "    load_libs(js_urls, function() {\n",
       "      console.log(\"Bokeh: BokehJS plotting callback run at\", now());\n",
       "      run_inline_js();\n",
       "    });\n",
       "  }\n",
       "}(this));"
      ]
     },
     "metadata": {},
     "output_type": "display_data"
    },
    {
     "data": {
      "text/html": []
     },
     "metadata": {},
     "output_type": "display_data"
    },
    {
     "data": {
      "application/javascript": [
       "\n",
       "(function(global) {\n",
       "  function now() {\n",
       "    return new Date();\n",
       "  }\n",
       "\n",
       "  var force = true;\n",
       "\n",
       "  if (typeof (window._bokeh_onload_callbacks) === \"undefined\" || force === true) {\n",
       "    window._bokeh_onload_callbacks = [];\n",
       "    window._bokeh_is_loading = undefined;\n",
       "  }\n",
       "\n",
       "\n",
       "  \n",
       "  if (typeof (window._bokeh_timeout) === \"undefined\" || force === true) {\n",
       "    window._bokeh_timeout = Date.now() + 5000;\n",
       "    window._bokeh_failed_load = false;\n",
       "  }\n",
       "\n",
       "  var NB_LOAD_WARNING = {'data': {'text/html':\n",
       "     \"<div style='background-color: #fdd'>\\n\"+\n",
       "     \"<p>\\n\"+\n",
       "     \"BokehJS does not appear to have successfully loaded. If loading BokehJS from CDN, this \\n\"+\n",
       "     \"may be due to a slow or bad network connection. Possible fixes:\\n\"+\n",
       "     \"</p>\\n\"+\n",
       "     \"<ul>\\n\"+\n",
       "     \"<li>re-rerun `output_notebook()` to attempt to load from CDN again, or</li>\\n\"+\n",
       "     \"<li>use INLINE resources instead, as so:</li>\\n\"+\n",
       "     \"</ul>\\n\"+\n",
       "     \"<code>\\n\"+\n",
       "     \"from bokeh.resources import INLINE\\n\"+\n",
       "     \"output_notebook(resources=INLINE)\\n\"+\n",
       "     \"</code>\\n\"+\n",
       "     \"</div>\"}};\n",
       "\n",
       "  function display_loaded() {\n",
       "    if (window.Bokeh !== undefined) {\n",
       "      document.getElementById(\"\").textContent = \"BokehJS successfully loaded.\";\n",
       "    } else if (Date.now() < window._bokeh_timeout) {\n",
       "      setTimeout(display_loaded, 100)\n",
       "    }\n",
       "  }\n",
       "\n",
       "  function run_callbacks() {\n",
       "    window._bokeh_onload_callbacks.forEach(function(callback) { callback() });\n",
       "    delete window._bokeh_onload_callbacks\n",
       "    console.info(\"Bokeh: all callbacks have finished\");\n",
       "  }\n",
       "\n",
       "  function load_libs(js_urls, callback) {\n",
       "    window._bokeh_onload_callbacks.push(callback);\n",
       "    if (window._bokeh_is_loading > 0) {\n",
       "      console.log(\"Bokeh: BokehJS is being loaded, scheduling callback at\", now());\n",
       "      return null;\n",
       "    }\n",
       "    if (js_urls == null || js_urls.length === 0) {\n",
       "      run_callbacks();\n",
       "      return null;\n",
       "    }\n",
       "    console.log(\"Bokeh: BokehJS not loaded, scheduling load and callback at\", now());\n",
       "    window._bokeh_is_loading = js_urls.length;\n",
       "    for (var i = 0; i < js_urls.length; i++) {\n",
       "      var url = js_urls[i];\n",
       "      var s = document.createElement('script');\n",
       "      s.src = url;\n",
       "      s.async = false;\n",
       "      s.onreadystatechange = s.onload = function() {\n",
       "        window._bokeh_is_loading--;\n",
       "        if (window._bokeh_is_loading === 0) {\n",
       "          console.log(\"Bokeh: all BokehJS libraries loaded\");\n",
       "          run_callbacks()\n",
       "        }\n",
       "      };\n",
       "      s.onerror = function() {\n",
       "        console.warn(\"failed to load library \" + url);\n",
       "      };\n",
       "      console.log(\"Bokeh: injecting script tag for BokehJS library: \", url);\n",
       "      document.getElementsByTagName(\"head\")[0].appendChild(s);\n",
       "    }\n",
       "  };\n",
       "\n",
       "  var js_urls = [\"https://cdn.pydata.org/bokeh/release/bokeh-0.12.4.min.js\", \"https://cdn.pydata.org/bokeh/release/bokeh-widgets-0.12.4.min.js\"];\n",
       "\n",
       "  var inline_js = [\n",
       "    function(Bokeh) {\n",
       "      Bokeh.set_log_level(\"info\");\n",
       "    },\n",
       "    function(Bokeh) {\n",
       "      console.log(\"Bokeh: injecting CSS: https://cdn.pydata.org/bokeh/release/bokeh-0.12.4.min.css\");\n",
       "      Bokeh.embed.inject_css(\"https://cdn.pydata.org/bokeh/release/bokeh-0.12.4.min.css\");\n",
       "      console.log(\"Bokeh: injecting CSS: https://cdn.pydata.org/bokeh/release/bokeh-widgets-0.12.4.min.css\");\n",
       "      Bokeh.embed.inject_css(\"https://cdn.pydata.org/bokeh/release/bokeh-widgets-0.12.4.min.css\");\n",
       "    }\n",
       "  ];\n",
       "\n",
       "  function run_inline_js() {\n",
       "    \n",
       "    if ((window.Bokeh !== undefined) || (force === true)) {\n",
       "      for (var i = 0; i < inline_js.length; i++) {\n",
       "        inline_js[i](window.Bokeh);\n",
       "      }} else if (Date.now() < window._bokeh_timeout) {\n",
       "      setTimeout(run_inline_js, 100);\n",
       "    } else if (!window._bokeh_failed_load) {\n",
       "      console.log(\"Bokeh: BokehJS failed to load within specified timeout.\");\n",
       "      window._bokeh_failed_load = true;\n",
       "    } else if (force !== true) {\n",
       "      var cell = $(document.getElementById(\"\")).parents('.cell').data().cell;\n",
       "      cell.output_area.append_execute_result(NB_LOAD_WARNING)\n",
       "    }\n",
       "\n",
       "  }\n",
       "\n",
       "  if (window._bokeh_is_loading === 0) {\n",
       "    console.log(\"Bokeh: BokehJS loaded, going straight to plotting\");\n",
       "    run_inline_js();\n",
       "  } else {\n",
       "    load_libs(js_urls, function() {\n",
       "      console.log(\"Bokeh: BokehJS plotting callback run at\", now());\n",
       "      run_inline_js();\n",
       "    });\n",
       "  }\n",
       "}(this));"
      ]
     },
     "metadata": {},
     "output_type": "display_data"
    }
   ],
   "source": [
    "import cobra\n",
    "import pandas as pd\n",
    "import cameo"
   ]
  },
  {
   "cell_type": "code",
   "execution_count": 3,
   "metadata": {
    "collapsed": true
   },
   "outputs": [],
   "source": [
    "wd = '/Users/aalarcon/Documents/Jupyter/3_Isopropanol/'"
   ]
  },
  {
   "cell_type": "code",
   "execution_count": 7,
   "metadata": {
    "collapsed": false
   },
   "outputs": [
    {
     "name": "stderr",
     "output_type": "stream",
     "text": [
      "cobra/io/sbml3.py:340 \u001b[1;31mUserWarning\u001b[0m: Boundary metabolite '4CRSOL_ex' used in reaction 'DM_4CRSOL'\n",
      "cobra/io/sbml3.py:340 \u001b[1;31mUserWarning\u001b[0m: Boundary metabolite '5DRIB_ex' used in reaction 'DM_5DRIB'\n",
      "cobra/io/sbml3.py:340 \u001b[1;31mUserWarning\u001b[0m: Boundary metabolite 'AMOB_ex' used in reaction 'DM_AMOB'\n",
      "cobra/io/sbml3.py:340 \u001b[1;31mUserWarning\u001b[0m: Boundary metabolite 'MTHTHF_ex' used in reaction 'DM_MTHTHF'\n",
      "cobra/io/sbml3.py:340 \u001b[1;31mUserWarning\u001b[0m: Boundary metabolite 'Biomass' used in reaction 'Ec_biomass_iJO1366_core_53p95M'\n",
      "cobra/io/sbml3.py:340 \u001b[1;31mUserWarning\u001b[0m: Boundary metabolite 'ac_ex' used in reaction 'EX_ac_LPAREN_e_RPAREN_'\n",
      "cobra/io/sbml3.py:340 \u001b[1;31mUserWarning\u001b[0m: Boundary metabolite 'ca2_ex' used in reaction 'EX_ca2_LPAREN_e_RPAREN_'\n",
      "cobra/io/sbml3.py:340 \u001b[1;31mUserWarning\u001b[0m: Boundary metabolite 'cl_ex' used in reaction 'EX_cl_LPAREN_e_RPAREN_'\n",
      "cobra/io/sbml3.py:340 \u001b[1;31mUserWarning\u001b[0m: Boundary metabolite 'co2_ex' used in reaction 'EX_co2_LPAREN_e_RPAREN_'\n",
      "cobra/io/sbml3.py:340 \u001b[1;31mUserWarning\u001b[0m: Boundary metabolite 'cobalt2_ex' used in reaction 'EX_cobalt2_LPAREN_e_RPAREN_'\n",
      "cobra/io/sbml3.py:340 \u001b[1;31mUserWarning\u001b[0m: Boundary metabolite 'cu2_ex' used in reaction 'EX_cu2_LPAREN_e_RPAREN_'\n",
      "cobra/io/sbml3.py:340 \u001b[1;31mUserWarning\u001b[0m: Boundary metabolite 'etoh_ex' used in reaction 'EX_etoh_LPAREN_e_RPAREN_'\n",
      "cobra/io/sbml3.py:340 \u001b[1;31mUserWarning\u001b[0m: Boundary metabolite 'fe2_ex' used in reaction 'EX_fe2_LPAREN_e_RPAREN_'\n",
      "cobra/io/sbml3.py:340 \u001b[1;31mUserWarning\u001b[0m: Boundary metabolite 'fe3_ex' used in reaction 'EX_fe3_LPAREN_e_RPAREN_'\n",
      "cobra/io/sbml3.py:340 \u001b[1;31mUserWarning\u001b[0m: Boundary metabolite 'for_ex' used in reaction 'EX_for_LPAREN_e_RPAREN_'\n",
      "cobra/io/sbml3.py:340 \u001b[1;31mUserWarning\u001b[0m: Boundary metabolite 'glc_DASH_D_ex' used in reaction 'EX_glc_LPAREN_e_RPAREN_'\n",
      "cobra/io/sbml3.py:340 \u001b[1;31mUserWarning\u001b[0m: Boundary metabolite 'glyc_ex' used in reaction 'EX_glyc_LPAREN_e_RPAREN_'\n",
      "cobra/io/sbml3.py:340 \u001b[1;31mUserWarning\u001b[0m: Boundary metabolite 'h_ex' used in reaction 'EX_h_LPAREN_e_RPAREN_'\n",
      "cobra/io/sbml3.py:340 \u001b[1;31mUserWarning\u001b[0m: Boundary metabolite 'h2_ex' used in reaction 'EX_h2_LPAREN_e_RPAREN_'\n",
      "cobra/io/sbml3.py:340 \u001b[1;31mUserWarning\u001b[0m: Boundary metabolite 'h2o_ex' used in reaction 'EX_h2o_LPAREN_e_RPAREN_'\n",
      "cobra/io/sbml3.py:340 \u001b[1;31mUserWarning\u001b[0m: Boundary metabolite 'k_ex' used in reaction 'EX_k_LPAREN_e_RPAREN_'\n",
      "cobra/io/sbml3.py:340 \u001b[1;31mUserWarning\u001b[0m: Boundary metabolite 'lac_ex' used in reaction 'EX_lac_DASH_D_LPAREN_e_RPAREN_'\n",
      "cobra/io/sbml3.py:340 \u001b[1;31mUserWarning\u001b[0m: Boundary metabolite 'meoh_ex' used in reaction 'EX_meoh_LPAREN_e_RPAREN_'\n",
      "cobra/io/sbml3.py:340 \u001b[1;31mUserWarning\u001b[0m: Boundary metabolite 'mg2_ex' used in reaction 'EX_mg2_LPAREN_e_RPAREN_'\n",
      "cobra/io/sbml3.py:340 \u001b[1;31mUserWarning\u001b[0m: Boundary metabolite 'mn2_ex' used in reaction 'EX_mn2_LPAREN_e_RPAREN_'\n",
      "cobra/io/sbml3.py:340 \u001b[1;31mUserWarning\u001b[0m: Boundary metabolite 'mobd_ex' used in reaction 'EX_mobd_LPAREN_e_RPAREN_'\n",
      "cobra/io/sbml3.py:340 \u001b[1;31mUserWarning\u001b[0m: Boundary metabolite 'nh4_ex' used in reaction 'EX_nh4_LPAREN_e_RPAREN_'\n",
      "cobra/io/sbml3.py:340 \u001b[1;31mUserWarning\u001b[0m: Boundary metabolite 'ni2_ex' used in reaction 'EX_ni2_LPAREN_e_RPAREN_'\n",
      "cobra/io/sbml3.py:340 \u001b[1;31mUserWarning\u001b[0m: Boundary metabolite 'o2_ex' used in reaction 'EX_o2_LPAREN_e_RPAREN_'\n",
      "cobra/io/sbml3.py:340 \u001b[1;31mUserWarning\u001b[0m: Boundary metabolite 'pi_ex' used in reaction 'EX_pi_LPAREN_e_RPAREN_'\n",
      "cobra/io/sbml3.py:340 \u001b[1;31mUserWarning\u001b[0m: Boundary metabolite 'so4_ex' used in reaction 'EX_so4_LPAREN_e_RPAREN_'\n",
      "cobra/io/sbml3.py:340 \u001b[1;31mUserWarning\u001b[0m: Boundary metabolite 'succ_ex' used in reaction 'EX_succ_LPAREN_e_RPAREN_'\n",
      "cobra/io/sbml3.py:340 \u001b[1;31mUserWarning\u001b[0m: Boundary metabolite 'zn2_ex' used in reaction 'EX_zn2_LPAREN_e_RPAREN_'\n"
     ]
    }
   ],
   "source": [
    "model = cobra.io.read_sbml_model(wd+'files/models/ECC2/ECC2.xml')"
   ]
  },
  {
   "cell_type": "code",
   "execution_count": null,
   "metadata": {
    "collapsed": true
   },
   "outputs": [],
   "source": [
    "for r in model.reactions:\n",
    "    p"
   ]
  },
  {
   "cell_type": "code",
   "execution_count": null,
   "metadata": {
    "collapsed": true
   },
   "outputs": [],
   "source": []
  },
  {
   "cell_type": "code",
   "execution_count": null,
   "metadata": {
    "collapsed": true
   },
   "outputs": [],
   "source": []
  },
  {
   "cell_type": "code",
   "execution_count": 4,
   "metadata": {
    "collapsed": true
   },
   "outputs": [],
   "source": [
    "iprop_c = cobra.Metabolite(id='2ppoh_c', formula='C3H8O', name='isopropanol', compartment='c')\n",
    "model.add_metabolites(iprop_c)"
   ]
  },
  {
   "cell_type": "code",
   "execution_count": 5,
   "metadata": {
    "collapsed": true
   },
   "outputs": [],
   "source": [
    "r_isoprop_nadh = cobra.Reaction(id='IPRNADH', name='Propane 2-Monooxygenase (EC 1.14.13.227)', lower_bound=0, upper_bound=1000)\n",
    "r_isoprop_nadph = cobra.Reaction(id='IPRNADPH', name='Isopropanol Dehydrogenase (EC 1.1.1.80)', lower_bound=0, upper_bound=1000)\n",
    "model.add_reactions([r_isoprop_nadh, r_isoprop_nadph])\n",
    "r_isoprop_nadh.add_metabolites({'acetone_c':-1, 'nadh_c':-1, 'h_c':-1, '2ppoh_c':1, 'nad_c':1})\n",
    "r_isoprop_nadph.add_metabolites({'acetone_c':-1, 'nadph_c':-1, 'h_c':-1, '2ppoh_c':1, 'nadp_c':1})"
   ]
  },
  {
   "cell_type": "code",
   "execution_count": 17,
   "metadata": {
    "collapsed": true
   },
   "outputs": [],
   "source": [
    "r_isoprop_exch = cobra.Reaction(id='EX_2ppoh_e', name='Isopropanol Exchange')\n",
    "model.add_reaction(r_isoprop_exch)\n",
    "r_isoprop_exch.add_metabolites({'2ppoh_c':-1})"
   ]
  },
  {
   "cell_type": "code",
   "execution_count": 18,
   "metadata": {
    "collapsed": true
   },
   "outputs": [],
   "source": [
    "cobra.io.write_sbml_model(model, wd+'files/models/model_Saccha_Isopropanol_iML1515.xml')"
   ]
  },
  {
   "cell_type": "code",
   "execution_count": null,
   "metadata": {
    "collapsed": true
   },
   "outputs": [],
   "source": [
    "r_isoprop_nadh.b"
   ]
  }
 ],
 "metadata": {
  "kernelspec": {
   "display_name": "Python 3",
   "language": "python",
   "name": "python3"
  },
  "language_info": {
   "codemirror_mode": {
    "name": "ipython",
    "version": 3
   },
   "file_extension": ".py",
   "mimetype": "text/x-python",
   "name": "python",
   "nbconvert_exporter": "python",
   "pygments_lexer": "ipython3",
   "version": "3.4.5"
  }
 },
 "nbformat": 4,
 "nbformat_minor": 2
}
