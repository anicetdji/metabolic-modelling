{
 "cells": [
  {
   "cell_type": "code",
   "execution_count": 1,
   "metadata": {
    "collapsed": true
   },
   "outputs": [],
   "source": [
    "import cobra\n",
    "import pandas as pd"
   ]
  },
  {
   "cell_type": "code",
   "execution_count": 2,
   "metadata": {
    "collapsed": true
   },
   "outputs": [],
   "source": [
    "wd = '/Users/aalarcon/Documents/Jupyter/3_Isopropanol/'"
   ]
  },
  {
   "cell_type": "code",
   "execution_count": 14,
   "metadata": {
    "collapsed": false
   },
   "outputs": [],
   "source": [
    "model = cobra.io.read_sbml_model(wd+'files/models/model_Saccha_Acetone_iML1515.xml')\n",
    "model.name = 'Saccha'"
   ]
  },
  {
   "cell_type": "code",
   "execution_count": 15,
   "metadata": {
    "collapsed": true
   },
   "outputs": [],
   "source": [
    "iprop_c = cobra.Metabolite(id='2ppoh_c', formula='C3H8O', name='isopropanol', compartment='c')\n",
    "model.add_metabolites(iprop_c)"
   ]
  },
  {
   "cell_type": "code",
   "execution_count": 16,
   "metadata": {
    "collapsed": false
   },
   "outputs": [],
   "source": [
    "r_isoprop_nadh = cobra.Reaction(id='IPRNADH', name='Propane 2-Monooxygenase (EC 1.14.13.227)', lower_bound=0, upper_bound=1000)\n",
    "r_isoprop_nadph = cobra.Reaction(id='IPRNADPH', name='Isopropanol Dehydrogenase (EC 1.1.1.80)', lower_bound=0, upper_bound=1000)\n",
    "model.add_reactions([r_isoprop_nadh, r_isoprop_nadph])\n",
    "r_isoprop_nadh.add_metabolites({'acetone_c':-1, 'nadh_c':-1, 'h_c':-1, '2ppoh_c':1, 'nad_c':1})\n",
    "r_isoprop_nadph.add_metabolites({'acetone_c':-1, 'nadph_c':-1, 'h_c':-1, '2ppoh_c':1, 'nadp_c':1})"
   ]
  },
  {
   "cell_type": "code",
   "execution_count": 17,
   "metadata": {
    "collapsed": false
   },
   "outputs": [],
   "source": [
    "r_isoprop_exch = cobra.Reaction(id='EX_2ppoh_e', name='Isopropanol Exchange')\n",
    "model.add_reaction(r_isoprop_exch)\n",
    "r_isoprop_exch.add_metabolites({'2ppoh_c':-1})"
   ]
  },
  {
   "cell_type": "code",
   "execution_count": 18,
   "metadata": {
    "collapsed": false
   },
   "outputs": [],
   "source": [
    "cobra.io.write_sbml_model(model, wd+'files/models/model_Saccha_Isopropanol_iML1515.xml')"
   ]
  },
  {
   "cell_type": "code",
   "execution_count": null,
   "metadata": {
    "collapsed": true
   },
   "outputs": [],
   "source": []
  }
 ],
 "metadata": {
  "kernelspec": {
   "display_name": "Python 3",
   "language": "python",
   "name": "python3"
  },
  "language_info": {
   "codemirror_mode": {
    "name": "ipython",
    "version": 3
   },
   "file_extension": ".py",
   "mimetype": "text/x-python",
   "name": "python",
   "nbconvert_exporter": "python",
   "pygments_lexer": "ipython3",
   "version": "3.4.5"
  }
 },
 "nbformat": 4,
 "nbformat_minor": 2
}
