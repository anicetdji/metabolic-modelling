{
 "cells": [
  {
   "cell_type": "markdown",
   "metadata": {},
   "source": [
    "# Etude de décarboxylases au sein de la souce PKT pour expliquer l'excès de CO2"
   ]
  },
  {
   "cell_type": "code",
   "execution_count": 20,
   "metadata": {
    "collapsed": false
   },
   "outputs": [],
   "source": [
    "import cobra\n",
    "import pandas as pd\n",
    "import escher\n",
    "import cameo\n",
    "%matplotlib inline\n",
    "from math import fabs"
   ]
  },
  {
   "cell_type": "code",
   "execution_count": 21,
   "metadata": {
    "collapsed": false
   },
   "outputs": [],
   "source": [
    "def decarbox_reacts(model, result):\n",
    "    df_decarbox = pd.DataFrame(columns=['flux_co2', 'reaction', 'name', 'genes'])\n",
    "    df_loci = pd.read_excel('/Users/aalarcon/Documents/Jupyter/3_Isopropanol/files/data_model.xlsx', sheetname='genes', index_col=0)[['name1']]\n",
    "    \n",
    "    for r in model.metabolites.co2_c.reactions:\n",
    "        if fabs(result.data_frame.loc[r.id, 'flux'])>1:\n",
    "            flux = result.data_frame.loc[r.id, 'flux']*r.get_coefficient('co2_c')\n",
    "            genes = ', '.join(g.id for g in r.genes)\n",
    "            try:\n",
    "                genes = ', '.join([df_loci.loc[g.id,'name1'] for g in r.genes])\n",
    "            except:\n",
    "                genes = ''\n",
    "            df_decarbox.loc[r.id] = [float(format(flux,'.2f')), r.reaction, r.name, genes]\n",
    "            \n",
    "    return df_decarbox.sort_values('flux_co2', ascending=False)"
   ]
  },
  {
   "cell_type": "code",
   "execution_count": 22,
   "metadata": {
    "collapsed": true
   },
   "outputs": [],
   "source": [
    "df_loci = pd.read_excel('/Users/aalarcon/Documents/Jupyter/3_Isopropanol/files/data_model.xlsx', sheetname='genes', index_col=0)[['name1']]"
   ]
  },
  {
   "cell_type": "code",
   "execution_count": 23,
   "metadata": {
    "collapsed": true
   },
   "outputs": [],
   "source": [
    "wd = '/Users/aalarcon/Documents/Jupyter/3_Isopropanol/'"
   ]
  },
  {
   "cell_type": "code",
   "execution_count": 24,
   "metadata": {
    "collapsed": false
   },
   "outputs": [],
   "source": [
    "model = cobra.io.read_sbml_model(wd+'input/model_PKT_iprop.xml')"
   ]
  },
  {
   "cell_type": "code",
   "execution_count": 25,
   "metadata": {
    "collapsed": false
   },
   "outputs": [
    {
     "data": {
      "text/plain": [
       "81"
      ]
     },
     "execution_count": 25,
     "metadata": {},
     "output_type": "execute_result"
    }
   ],
   "source": [
    "len(model.metabolites.co2_c.reactions)"
   ]
  },
  {
   "cell_type": "markdown",
   "metadata": {},
   "source": [
    "--> Le modèle contient 81 réactions qui utilisent du co2 comme substrat ou produit."
   ]
  },
  {
   "cell_type": "code",
   "execution_count": 26,
   "metadata": {
    "collapsed": false
   },
   "outputs": [
    {
     "data": {
      "text/html": [
       "\n",
       "\n",
       "    <div class=\"bk-root\">\n",
       "        <div class=\"bk-plotdiv\" id=\"cbee599d-33be-4c8e-a9cb-ad1976ad8001\"></div>\n",
       "    </div>\n",
       "<script type=\"text/javascript\">\n",
       "  \n",
       "  (function(global) {\n",
       "    function now() {\n",
       "      return new Date();\n",
       "    }\n",
       "  \n",
       "    var force = false;\n",
       "  \n",
       "    if (typeof (window._bokeh_onload_callbacks) === \"undefined\" || force === true) {\n",
       "      window._bokeh_onload_callbacks = [];\n",
       "      window._bokeh_is_loading = undefined;\n",
       "    }\n",
       "  \n",
       "  \n",
       "    \n",
       "    if (typeof (window._bokeh_timeout) === \"undefined\" || force === true) {\n",
       "      window._bokeh_timeout = Date.now() + 0;\n",
       "      window._bokeh_failed_load = false;\n",
       "    }\n",
       "  \n",
       "    var NB_LOAD_WARNING = {'data': {'text/html':\n",
       "       \"<div style='background-color: #fdd'>\\n\"+\n",
       "       \"<p>\\n\"+\n",
       "       \"BokehJS does not appear to have successfully loaded. If loading BokehJS from CDN, this \\n\"+\n",
       "       \"may be due to a slow or bad network connection. Possible fixes:\\n\"+\n",
       "       \"</p>\\n\"+\n",
       "       \"<ul>\\n\"+\n",
       "       \"<li>re-rerun `output_notebook()` to attempt to load from CDN again, or</li>\\n\"+\n",
       "       \"<li>use INLINE resources instead, as so:</li>\\n\"+\n",
       "       \"</ul>\\n\"+\n",
       "       \"<code>\\n\"+\n",
       "       \"from bokeh.resources import INLINE\\n\"+\n",
       "       \"output_notebook(resources=INLINE)\\n\"+\n",
       "       \"</code>\\n\"+\n",
       "       \"</div>\"}};\n",
       "  \n",
       "    function display_loaded() {\n",
       "      if (window.Bokeh !== undefined) {\n",
       "        document.getElementById(\"cbee599d-33be-4c8e-a9cb-ad1976ad8001\").textContent = \"BokehJS successfully loaded.\";\n",
       "      } else if (Date.now() < window._bokeh_timeout) {\n",
       "        setTimeout(display_loaded, 100)\n",
       "      }\n",
       "    }\n",
       "  \n",
       "    function run_callbacks() {\n",
       "      window._bokeh_onload_callbacks.forEach(function(callback) { callback() });\n",
       "      delete window._bokeh_onload_callbacks\n",
       "      console.info(\"Bokeh: all callbacks have finished\");\n",
       "    }\n",
       "  \n",
       "    function load_libs(js_urls, callback) {\n",
       "      window._bokeh_onload_callbacks.push(callback);\n",
       "      if (window._bokeh_is_loading > 0) {\n",
       "        console.log(\"Bokeh: BokehJS is being loaded, scheduling callback at\", now());\n",
       "        return null;\n",
       "      }\n",
       "      if (js_urls == null || js_urls.length === 0) {\n",
       "        run_callbacks();\n",
       "        return null;\n",
       "      }\n",
       "      console.log(\"Bokeh: BokehJS not loaded, scheduling load and callback at\", now());\n",
       "      window._bokeh_is_loading = js_urls.length;\n",
       "      for (var i = 0; i < js_urls.length; i++) {\n",
       "        var url = js_urls[i];\n",
       "        var s = document.createElement('script');\n",
       "        s.src = url;\n",
       "        s.async = false;\n",
       "        s.onreadystatechange = s.onload = function() {\n",
       "          window._bokeh_is_loading--;\n",
       "          if (window._bokeh_is_loading === 0) {\n",
       "            console.log(\"Bokeh: all BokehJS libraries loaded\");\n",
       "            run_callbacks()\n",
       "          }\n",
       "        };\n",
       "        s.onerror = function() {\n",
       "          console.warn(\"failed to load library \" + url);\n",
       "        };\n",
       "        console.log(\"Bokeh: injecting script tag for BokehJS library: \", url);\n",
       "        document.getElementsByTagName(\"head\")[0].appendChild(s);\n",
       "      }\n",
       "    };var element = document.getElementById(\"cbee599d-33be-4c8e-a9cb-ad1976ad8001\");\n",
       "    if (element == null) {\n",
       "      console.log(\"Bokeh: ERROR: autoload.js configured with elementid 'cbee599d-33be-4c8e-a9cb-ad1976ad8001' but no matching script tag was found. \")\n",
       "      return false;\n",
       "    }\n",
       "  \n",
       "    var js_urls = [];\n",
       "  \n",
       "    var inline_js = [\n",
       "      function(Bokeh) {\n",
       "        (function() {\n",
       "          var fn = function() {\n",
       "            var docs_json = {\"92e84071-6c7f-4e7f-a013-2c85ec833d44\":{\"roots\":{\"references\":[{\"attributes\":{\"active_drag\":\"auto\",\"active_scroll\":\"auto\",\"active_tap\":\"auto\",\"tools\":[{\"id\":\"918e84b1-5dc7-44ad-b245-8640abe2f82d\",\"type\":\"PanTool\"},{\"id\":\"c175811c-9636-4437-88e9-cc2ef248dc87\",\"type\":\"WheelZoomTool\"},{\"id\":\"4fc2656c-5a88-48aa-a69a-2b8b55775e13\",\"type\":\"BoxZoomTool\"},{\"id\":\"a9c343b0-be75-469a-9e8c-ecf5deded5d2\",\"type\":\"SaveTool\"},{\"id\":\"c81c9a5b-62e0-4713-a820-f0593e8c54ad\",\"type\":\"ResetTool\"},{\"id\":\"68fcb3e6-e9bc-49c2-a07d-df4bb62ba9a7\",\"type\":\"HelpTool\"}]},\"id\":\"0d9c05dc-e99d-4e71-951e-17947652f477\",\"type\":\"Toolbar\"},{\"attributes\":{\"plot\":{\"id\":\"b1c75f80-a726-43a8-8da1-416357477969\",\"subtype\":\"Figure\",\"type\":\"Plot\"}},\"id\":\"a9c343b0-be75-469a-9e8c-ecf5deded5d2\",\"type\":\"SaveTool\"},{\"attributes\":{},\"id\":\"a37c0a47-a0e1-4fca-8dee-3c3eaef8dc6b\",\"type\":\"BasicTicker\"},{\"attributes\":{\"plot\":null,\"text\":\"Phenotypic Phase Plane (flux)\"},\"id\":\"938c31cd-5910-476d-8e5a-2b40e04c4d6d\",\"type\":\"Title\"},{\"attributes\":{},\"id\":\"806bcc90-88dc-4ab5-9e3b-cff0f7f8992c\",\"type\":\"ToolEvents\"},{\"attributes\":{\"fill_alpha\":{\"value\":0.3},\"fill_color\":{\"value\":\"#B3E2CD\"},\"line_color\":{\"value\":\"#1f77b4\"},\"x\":{\"field\":\"x\"},\"y\":{\"field\":\"y\"}},\"id\":\"36a17d4b-df0a-45d1-846f-c361bfe98884\",\"type\":\"Patch\"},{\"attributes\":{},\"id\":\"18a67f17-91f0-4d47-badc-474b0c719220\",\"type\":\"BasicTicker\"},{\"attributes\":{\"plot\":{\"id\":\"b1c75f80-a726-43a8-8da1-416357477969\",\"subtype\":\"Figure\",\"type\":\"Plot\"}},\"id\":\"918e84b1-5dc7-44ad-b245-8640abe2f82d\",\"type\":\"PanTool\"},{\"attributes\":{\"items\":[{\"id\":\"06bb0462-94f6-4f7c-b25c-4f6f720c723d\",\"type\":\"LegendItem\"}],\"plot\":{\"id\":\"b1c75f80-a726-43a8-8da1-416357477969\",\"subtype\":\"Figure\",\"type\":\"Plot\"}},\"id\":\"7adec9bb-fb4b-44a5-9041-6662350ceaab\",\"type\":\"Legend\"},{\"attributes\":{\"label\":{\"value\":\"WT\"},\"renderers\":[{\"id\":\"b8332131-bab3-4110-899d-3c5435a92ed3\",\"type\":\"GlyphRenderer\"}]},\"id\":\"06bb0462-94f6-4f7c-b25c-4f6f720c723d\",\"type\":\"LegendItem\"},{\"attributes\":{\"plot\":{\"id\":\"b1c75f80-a726-43a8-8da1-416357477969\",\"subtype\":\"Figure\",\"type\":\"Plot\"}},\"id\":\"c81c9a5b-62e0-4713-a820-f0593e8c54ad\",\"type\":\"ResetTool\"},{\"attributes\":{\"data_source\":{\"id\":\"a87d260d-8010-48f3-b19c-819cfb923250\",\"type\":\"ColumnDataSource\"},\"glyph\":{\"id\":\"081bea88-6025-476b-95c1-17131fdeb0d1\",\"type\":\"Line\"},\"hover_glyph\":null,\"nonselection_glyph\":{\"id\":\"b64af083-4a4c-4954-83fe-ea7eaafda21c\",\"type\":\"Line\"},\"selection_glyph\":null},\"id\":\"b66166c1-bb88-4f5a-a4da-ee3e5d906513\",\"type\":\"GlyphRenderer\"},{\"attributes\":{\"plot\":{\"id\":\"b1c75f80-a726-43a8-8da1-416357477969\",\"subtype\":\"Figure\",\"type\":\"Plot\"},\"ticker\":{\"id\":\"a37c0a47-a0e1-4fca-8dee-3c3eaef8dc6b\",\"type\":\"BasicTicker\"}},\"id\":\"5b6f0cef-e934-44cd-a1fc-37febd58e30c\",\"type\":\"Grid\"},{\"attributes\":{},\"id\":\"4b118c02-c6b4-4f74-9821-fde6fd745edf\",\"type\":\"BasicTickFormatter\"},{\"attributes\":{\"line_alpha\":{\"value\":0.1},\"line_color\":{\"value\":\"#1f77b4\"},\"x\":{\"field\":\"x\"},\"y\":{\"field\":\"y\"}},\"id\":\"71c1a80c-d123-46ee-a8b1-433a6bc75390\",\"type\":\"Line\"},{\"attributes\":{\"dimension\":1,\"plot\":{\"id\":\"b1c75f80-a726-43a8-8da1-416357477969\",\"subtype\":\"Figure\",\"type\":\"Plot\"},\"ticker\":{\"id\":\"18a67f17-91f0-4d47-badc-474b0c719220\",\"type\":\"BasicTicker\"}},\"id\":\"f93a303d-4f68-4e91-945f-7669527f13cb\",\"type\":\"Grid\"},{\"attributes\":{\"line_color\":{\"value\":\"#B3E2CD\"},\"x\":{\"field\":\"x\"},\"y\":{\"field\":\"y\"}},\"id\":\"081bea88-6025-476b-95c1-17131fdeb0d1\",\"type\":\"Line\"},{\"attributes\":{\"overlay\":{\"id\":\"2e53cb77-aeaf-47f7-a217-699eda57f9bb\",\"type\":\"BoxAnnotation\"},\"plot\":{\"id\":\"b1c75f80-a726-43a8-8da1-416357477969\",\"subtype\":\"Figure\",\"type\":\"Plot\"}},\"id\":\"4fc2656c-5a88-48aa-a69a-2b8b55775e13\",\"type\":\"BoxZoomTool\"},{\"attributes\":{\"callback\":null},\"id\":\"e70a1eba-3a6c-4b47-b163-caf8860ac771\",\"type\":\"DataRange1d\"},{\"attributes\":{\"data_source\":{\"id\":\"7a1cad42-e6f9-46cc-bf7a-c7ba48b0d6e7\",\"type\":\"ColumnDataSource\"},\"glyph\":{\"id\":\"35950cac-32a4-4a27-8a59-3f1b34296880\",\"type\":\"Line\"},\"hover_glyph\":null,\"nonselection_glyph\":{\"id\":\"82406bab-1a85-4e09-821b-a17d072726ed\",\"type\":\"Line\"},\"selection_glyph\":null},\"id\":\"95fe7892-c1f2-40ff-92c7-b2e454d7088f\",\"type\":\"GlyphRenderer\"},{\"attributes\":{\"bottom_units\":\"screen\",\"fill_alpha\":{\"value\":0.5},\"fill_color\":{\"value\":\"lightgrey\"},\"left_units\":\"screen\",\"level\":\"overlay\",\"line_alpha\":{\"value\":1.0},\"line_color\":{\"value\":\"black\"},\"line_dash\":[4,4],\"line_width\":{\"value\":2},\"plot\":null,\"render_mode\":\"css\",\"right_units\":\"screen\",\"top_units\":\"screen\"},\"id\":\"2e53cb77-aeaf-47f7-a217-699eda57f9bb\",\"type\":\"BoxAnnotation\"},{\"attributes\":{\"line_alpha\":{\"value\":0.1},\"line_color\":{\"value\":\"#1f77b4\"},\"x\":{\"field\":\"x\"},\"y\":{\"field\":\"y\"}},\"id\":\"b64af083-4a4c-4954-83fe-ea7eaafda21c\",\"type\":\"Line\"},{\"attributes\":{\"data_source\":{\"id\":\"9ab128c6-0dbc-47a1-8c3d-29a947451a62\",\"type\":\"ColumnDataSource\"},\"glyph\":{\"id\":\"e1d4775a-d352-4c03-bf7a-52610fbdbd33\",\"type\":\"Line\"},\"hover_glyph\":null,\"nonselection_glyph\":{\"id\":\"71c1a80c-d123-46ee-a8b1-433a6bc75390\",\"type\":\"Line\"},\"selection_glyph\":null},\"id\":\"d533fb73-d90a-4090-a7e6-4e0654f86900\",\"type\":\"GlyphRenderer\"},{\"attributes\":{\"data_source\":{\"id\":\"038639c4-62d2-456d-a50b-94ca974715b9\",\"type\":\"ColumnDataSource\"},\"glyph\":{\"id\":\"36a17d4b-df0a-45d1-846f-c361bfe98884\",\"type\":\"Patch\"},\"hover_glyph\":null,\"nonselection_glyph\":{\"id\":\"afddcff4-8afb-4666-80e9-3955c1511503\",\"type\":\"Patch\"},\"selection_glyph\":null},\"id\":\"b8332131-bab3-4110-899d-3c5435a92ed3\",\"type\":\"GlyphRenderer\"},{\"attributes\":{\"below\":[{\"id\":\"e097b682-9046-43ec-87cc-c55c04d0f0fd\",\"type\":\"LinearAxis\"}],\"left\":[{\"id\":\"4695a9db-5981-4af8-a73c-1b98a515da47\",\"type\":\"LinearAxis\"}],\"plot_height\":432,\"plot_width\":700,\"renderers\":[{\"id\":\"e097b682-9046-43ec-87cc-c55c04d0f0fd\",\"type\":\"LinearAxis\"},{\"id\":\"5b6f0cef-e934-44cd-a1fc-37febd58e30c\",\"type\":\"Grid\"},{\"id\":\"4695a9db-5981-4af8-a73c-1b98a515da47\",\"type\":\"LinearAxis\"},{\"id\":\"f93a303d-4f68-4e91-945f-7669527f13cb\",\"type\":\"Grid\"},{\"id\":\"2e53cb77-aeaf-47f7-a217-699eda57f9bb\",\"type\":\"BoxAnnotation\"},{\"id\":\"7adec9bb-fb4b-44a5-9041-6662350ceaab\",\"type\":\"Legend\"},{\"id\":\"b8332131-bab3-4110-899d-3c5435a92ed3\",\"type\":\"GlyphRenderer\"},{\"id\":\"d533fb73-d90a-4090-a7e6-4e0654f86900\",\"type\":\"GlyphRenderer\"},{\"id\":\"b66166c1-bb88-4f5a-a4da-ee3e5d906513\",\"type\":\"GlyphRenderer\"},{\"id\":\"95fe7892-c1f2-40ff-92c7-b2e454d7088f\",\"type\":\"GlyphRenderer\"}],\"title\":{\"id\":\"938c31cd-5910-476d-8e5a-2b40e04c4d6d\",\"type\":\"Title\"},\"tool_events\":{\"id\":\"806bcc90-88dc-4ab5-9e3b-cff0f7f8992c\",\"type\":\"ToolEvents\"},\"toolbar\":{\"id\":\"0d9c05dc-e99d-4e71-951e-17947652f477\",\"type\":\"Toolbar\"},\"x_range\":{\"id\":\"e70a1eba-3a6c-4b47-b163-caf8860ac771\",\"type\":\"DataRange1d\"},\"y_range\":{\"id\":\"d249e7bd-db03-4bd7-a0ca-456e459fe556\",\"type\":\"DataRange1d\"}},\"id\":\"b1c75f80-a726-43a8-8da1-416357477969\",\"subtype\":\"Figure\",\"type\":\"Plot\"},{\"attributes\":{\"line_color\":{\"value\":\"#B3E2CD\"},\"x\":{\"field\":\"x\"},\"y\":{\"field\":\"y\"}},\"id\":\"35950cac-32a4-4a27-8a59-3f1b34296880\",\"type\":\"Line\"},{\"attributes\":{\"axis_label\":\"EX_co2 [mmol gDW^-1 h^-1]\",\"formatter\":{\"id\":\"6ab5222f-08a4-4492-97fc-0ac19db156d5\",\"type\":\"BasicTickFormatter\"},\"plot\":{\"id\":\"b1c75f80-a726-43a8-8da1-416357477969\",\"subtype\":\"Figure\",\"type\":\"Plot\"},\"ticker\":{\"id\":\"18a67f17-91f0-4d47-badc-474b0c719220\",\"type\":\"BasicTicker\"}},\"id\":\"4695a9db-5981-4af8-a73c-1b98a515da47\",\"type\":\"LinearAxis\"},{\"attributes\":{},\"id\":\"6ab5222f-08a4-4492-97fc-0ac19db156d5\",\"type\":\"BasicTickFormatter\"},{\"attributes\":{\"callback\":null},\"id\":\"d249e7bd-db03-4bd7-a0ca-456e459fe556\",\"type\":\"DataRange1d\"},{\"attributes\":{\"callback\":null,\"column_names\":[\"x\",\"y\"],\"data\":{\"x\":[0.0,0.5044793930135508,1.0089587860271017,1.5134381790406524,2.0179175720542033,2.5223969650677542,3.0268763580813047,3.5313557510948557,4.035835144108407,4.540314537121957,5.0447939301355085,5.549273323149059,6.0537527161626095,6.558232109176161,7.062711502189711,7.567190895203263,8.071670288216813,8.576149681230364,9.080629074243914,9.585108467257466,9.585108467257466,9.080629074243914,8.576149681230364,8.071670288216813,7.567190895203263,7.062711502189711,6.558232109176161,6.0537527161626095,5.549273323149059,5.0447939301355085,4.540314537121957,4.035835144108407,3.5313557510948557,3.0268763580813047,2.5223969650677542,2.0179175720542033,1.5134381790406524,1.0089587860271017,0.5044793930135508,0.0],\"y\":[-360.5692307692357,-333.69779740831933,-303.65559481663735,-273.6133922249549,-243.57118963326968,-213.52898704159165,-183.48678444991214,-153.44458185822256,-123.40237926652928,-93.36017667486168,-63.317974083179536,-33.27577149149769,-3.233568899818068,26.80863369186488,56.850836283545256,86.89303887523033,116.93524146690741,146.97744405859294,177.01964665027538,208.02178178573237,208.02178178574445,228.652214323338,249.28264686092203,269.913079398519,290.5435119361055,311.1739444737019,331.80437701129244,352.43480954888724,373.06524208647954,393.69567462407093,414.32610716166465,434.95653969925775,455.586972236849,476.21740477444246,496.8478373120361,517.4782698496258,538.108702387222,558.7391349248161,579.3695674624088,599.9999999999989]}},\"id\":\"038639c4-62d2-456d-a50b-94ca974715b9\",\"type\":\"ColumnDataSource\"},{\"attributes\":{\"plot\":{\"id\":\"b1c75f80-a726-43a8-8da1-416357477969\",\"subtype\":\"Figure\",\"type\":\"Plot\"}},\"id\":\"68fcb3e6-e9bc-49c2-a07d-df4bb62ba9a7\",\"type\":\"HelpTool\"},{\"attributes\":{\"plot\":{\"id\":\"b1c75f80-a726-43a8-8da1-416357477969\",\"subtype\":\"Figure\",\"type\":\"Plot\"}},\"id\":\"c175811c-9636-4437-88e9-cc2ef248dc87\",\"type\":\"WheelZoomTool\"},{\"attributes\":{\"fill_alpha\":{\"value\":0.1},\"fill_color\":{\"value\":\"#1f77b4\"},\"line_alpha\":{\"value\":0.1},\"line_color\":{\"value\":\"#1f77b4\"},\"x\":{\"field\":\"x\"},\"y\":{\"field\":\"y\"}},\"id\":\"afddcff4-8afb-4666-80e9-3955c1511503\",\"type\":\"Patch\"},{\"attributes\":{\"axis_label\":\"Biomass_WT [h^-1]\",\"formatter\":{\"id\":\"4b118c02-c6b4-4f74-9821-fde6fd745edf\",\"type\":\"BasicTickFormatter\"},\"plot\":{\"id\":\"b1c75f80-a726-43a8-8da1-416357477969\",\"subtype\":\"Figure\",\"type\":\"Plot\"},\"ticker\":{\"id\":\"a37c0a47-a0e1-4fca-8dee-3c3eaef8dc6b\",\"type\":\"BasicTicker\"}},\"id\":\"e097b682-9046-43ec-87cc-c55c04d0f0fd\",\"type\":\"LinearAxis\"},{\"attributes\":{\"callback\":null,\"column_names\":[\"x\",\"y\"],\"data\":{\"x\":{\"__ndarray__\":\"AAAAAAAAAADj+M/3sSTgP+P4z/exJPA/VPW38wo3+D/j+M/3sSQAQBz3w3XeLQRAVPW38wo3CECN86txN0AMQOP4z/exJBBA//fJNkgpEkAc98N13i0UQDj2vbR0MhZAVPW38wo3GEBx9LEyoTsaQI3zq3E3QBxAqvKlsM1EHkDj+M/3sSQgQHH4TBf9JiFA//fJNkgpIkCO90ZWkysjQA==\",\"dtype\":\"float64\",\"shape\":[20]},\"y\":[599.9999999999989,579.3695674624088,558.7391349248161,538.108702387222,517.4782698496258,496.8478373120361,476.21740477444246,455.586972236849,434.95653969925775,414.32610716166465,393.69567462407093,373.06524208647954,352.43480954888724,331.80437701129244,311.1739444737019,290.5435119361055,269.913079398519,249.28264686092203,228.652214323338,208.02178178574445]}},\"id\":\"9ab128c6-0dbc-47a1-8c3d-29a947451a62\",\"type\":\"ColumnDataSource\"},{\"attributes\":{\"line_alpha\":{\"value\":0.1},\"line_color\":{\"value\":\"#1f77b4\"},\"x\":{\"field\":\"x\"},\"y\":{\"field\":\"y\"}},\"id\":\"82406bab-1a85-4e09-821b-a17d072726ed\",\"type\":\"Line\"},{\"attributes\":{\"callback\":null,\"column_names\":[\"x\",\"y\"],\"data\":{\"x\":[9.585108467257466,9.585108467257466],\"y\":[208.02178178574445,208.02178178573237]}},\"id\":\"7a1cad42-e6f9-46cc-bf7a-c7ba48b0d6e7\",\"type\":\"ColumnDataSource\"},{\"attributes\":{\"callback\":null,\"column_names\":[\"x\",\"y\"],\"data\":{\"x\":{\"__ndarray__\":\"AAAAAAAAAADj+M/3sSTgP+P4z/exJPA/VPW38wo3+D/j+M/3sSQAQBz3w3XeLQRAVPW38wo3CECN86txN0AMQOP4z/exJBBA//fJNkgpEkAc98N13i0UQDj2vbR0MhZAVPW38wo3GEBx9LEyoTsaQI3zq3E3QBxAqvKlsM1EHkDj+M/3sSQgQHH4TBf9JiFA//fJNkgpIkCO90ZWkysjQA==\",\"dtype\":\"float64\",\"shape\":[20]},\"y\":[-360.5692307692357,-333.69779740831933,-303.65559481663735,-273.6133922249549,-243.57118963326968,-213.52898704159165,-183.48678444991214,-153.44458185822256,-123.40237926652928,-93.36017667486168,-63.317974083179536,-33.27577149149769,-3.233568899818068,26.80863369186488,56.850836283545256,86.89303887523033,116.93524146690741,146.97744405859294,177.01964665027538,208.02178178573237]}},\"id\":\"a87d260d-8010-48f3-b19c-819cfb923250\",\"type\":\"ColumnDataSource\"},{\"attributes\":{\"line_color\":{\"value\":\"#B3E2CD\"},\"x\":{\"field\":\"x\"},\"y\":{\"field\":\"y\"}},\"id\":\"e1d4775a-d352-4c03-bf7a-52610fbdbd33\",\"type\":\"Line\"}],\"root_ids\":[\"b1c75f80-a726-43a8-8da1-416357477969\"]},\"title\":\"Bokeh Application\",\"version\":\"0.12.4\"}};\n",
       "            var render_items = [{\"docid\":\"92e84071-6c7f-4e7f-a013-2c85ec833d44\",\"elementid\":\"cbee599d-33be-4c8e-a9cb-ad1976ad8001\",\"modelid\":\"b1c75f80-a726-43a8-8da1-416357477969\"}];\n",
       "            \n",
       "            Bokeh.embed.embed_items(docs_json, render_items);\n",
       "          };\n",
       "          if (document.readyState != \"loading\") fn();\n",
       "          else document.addEventListener(\"DOMContentLoaded\", fn);\n",
       "        })();\n",
       "      },\n",
       "      function(Bokeh) {\n",
       "      }\n",
       "    ];\n",
       "  \n",
       "    function run_inline_js() {\n",
       "      \n",
       "      if ((window.Bokeh !== undefined) || (force === true)) {\n",
       "        for (var i = 0; i < inline_js.length; i++) {\n",
       "          inline_js[i](window.Bokeh);\n",
       "        }if (force === true) {\n",
       "          display_loaded();\n",
       "        }} else if (Date.now() < window._bokeh_timeout) {\n",
       "        setTimeout(run_inline_js, 100);\n",
       "      } else if (!window._bokeh_failed_load) {\n",
       "        console.log(\"Bokeh: BokehJS failed to load within specified timeout.\");\n",
       "        window._bokeh_failed_load = true;\n",
       "      } else if (force !== true) {\n",
       "        var cell = $(document.getElementById(\"cbee599d-33be-4c8e-a9cb-ad1976ad8001\")).parents('.cell').data().cell;\n",
       "        cell.output_area.append_execute_result(NB_LOAD_WARNING)\n",
       "      }\n",
       "  \n",
       "    }\n",
       "  \n",
       "    if (window._bokeh_is_loading === 0) {\n",
       "      console.log(\"Bokeh: BokehJS loaded, going straight to plotting\");\n",
       "      run_inline_js();\n",
       "    } else {\n",
       "      load_libs(js_urls, function() {\n",
       "        console.log(\"Bokeh: BokehJS plotting callback run at\", now());\n",
       "        run_inline_js();\n",
       "      });\n",
       "    }\n",
       "  }(this));\n",
       "</script>"
      ]
     },
     "metadata": {},
     "output_type": "display_data"
    }
   ],
   "source": [
    "cameo.phenotypic_phase_plane(model,'Biomass_WT', 'EX_co2').plot()"
   ]
  },
  {
   "cell_type": "markdown",
   "metadata": {},
   "source": [
    "### Maximal Growth"
   ]
  },
  {
   "cell_type": "code",
   "execution_count": 27,
   "metadata": {
    "collapsed": false
   },
   "outputs": [],
   "source": [
    "res0 = cameo.pfba(model, objective='Biomass_WT')\n",
    "df_aux = decarbox_reacts(model, res0)"
   ]
  },
  {
   "cell_type": "code",
   "execution_count": 34,
   "metadata": {
    "collapsed": false
   },
   "outputs": [
    {
     "data": {
      "text/html": [
       "<div>\n",
       "<style>\n",
       "    .dataframe thead tr:only-child th {\n",
       "        text-align: right;\n",
       "    }\n",
       "\n",
       "    .dataframe thead th {\n",
       "        text-align: left;\n",
       "    }\n",
       "\n",
       "    .dataframe tbody tr th {\n",
       "        vertical-align: top;\n",
       "    }\n",
       "</style>\n",
       "<table border=\"1\" class=\"dataframe\">\n",
       "  <thead>\n",
       "    <tr style=\"text-align: right;\">\n",
       "      <th></th>\n",
       "      <th>flux_co2</th>\n",
       "      <th>reaction</th>\n",
       "      <th>name</th>\n",
       "      <th>genes</th>\n",
       "    </tr>\n",
       "  </thead>\n",
       "  <tbody>\n",
       "    <tr>\n",
       "      <th>ICDHyr</th>\n",
       "      <td>111.89</td>\n",
       "      <td>icit_c + nadp_c &lt;=&gt; akg_c + co2_c + nadph_c</td>\n",
       "      <td>isocitrate dehydrogenase (NADP)</td>\n",
       "      <td>icd</td>\n",
       "    </tr>\n",
       "    <tr>\n",
       "      <th>AKGDH</th>\n",
       "      <td>101.46</td>\n",
       "      <td>akg_c + coa_c + nad_c &lt;=&gt; co2_c + nadh_c + suc...</td>\n",
       "      <td>2-Oxogluterate dehydrogenase</td>\n",
       "      <td>sucB, lpdA, sucA</td>\n",
       "    </tr>\n",
       "    <tr>\n",
       "      <th>ACLS</th>\n",
       "      <td>8.14</td>\n",
       "      <td>h_c + 2.0 pyr_c --&gt; alac_S_c + co2_c</td>\n",
       "      <td>acetolactate synthase</td>\n",
       "      <td>ilvN, ilvI, ilvH, ilvB</td>\n",
       "    </tr>\n",
       "    <tr>\n",
       "      <th>PDH</th>\n",
       "      <td>4.77</td>\n",
       "      <td>coa_c + nad_c + pyr_c --&gt; accoa_c + co2_c + na...</td>\n",
       "      <td>pyruvate dehydrogenase</td>\n",
       "      <td>aceE, lpdA, aceF</td>\n",
       "    </tr>\n",
       "    <tr>\n",
       "      <th>OMCDC</th>\n",
       "      <td>4.20</td>\n",
       "      <td>3c4mop_c + h_c --&gt; 4mop_c + co2_c</td>\n",
       "      <td>2-Oxo-4-methyl-3-carboxypentanoate decarboxyla...</td>\n",
       "      <td></td>\n",
       "    </tr>\n",
       "    <tr>\n",
       "      <th>DAPDC</th>\n",
       "      <td>3.20</td>\n",
       "      <td>26dap_M_c + h_c --&gt; co2_c + lys_L_c</td>\n",
       "      <td>diaminopimelate decarboxylase</td>\n",
       "      <td>lysA</td>\n",
       "    </tr>\n",
       "    <tr>\n",
       "      <th>OMPDC</th>\n",
       "      <td>3.07</td>\n",
       "      <td>h_c + orot5p_c --&gt; co2_c + ump_c</td>\n",
       "      <td>orotidine-5'-phosphate decarboxylase</td>\n",
       "      <td>pyrF</td>\n",
       "    </tr>\n",
       "    <tr>\n",
       "      <th>ACHBS</th>\n",
       "      <td>2.71</td>\n",
       "      <td>2obut_c + h_c + pyr_c --&gt; 2ahbut_c + co2_c</td>\n",
       "      <td>2-aceto-2-hydroxybutanoate synthase</td>\n",
       "      <td>ilvN, ilvI, ilvH, ilvB</td>\n",
       "    </tr>\n",
       "    <tr>\n",
       "      <th>PPNDH</th>\n",
       "      <td>1.73</td>\n",
       "      <td>h_c + pphn_c --&gt; co2_c + h2o_c + phpyr_c</td>\n",
       "      <td>prephenate dehydratase</td>\n",
       "      <td>pheA</td>\n",
       "    </tr>\n",
       "    <tr>\n",
       "      <th>PPND</th>\n",
       "      <td>1.29</td>\n",
       "      <td>nad_c + pphn_c --&gt; 34hpp_c + co2_c + nadh_c</td>\n",
       "      <td>prephenate dehydrogenase</td>\n",
       "      <td>tyrA</td>\n",
       "    </tr>\n",
       "    <tr>\n",
       "      <th>POR5</th>\n",
       "      <td>1.03</td>\n",
       "      <td>coa_c + 2.0 flxso_c + pyr_c &lt;=&gt; accoa_c + co2_...</td>\n",
       "      <td>pyruvate synthase</td>\n",
       "      <td>fldB, fldA, ydbK</td>\n",
       "    </tr>\n",
       "    <tr>\n",
       "      <th>HCO3E</th>\n",
       "      <td>-4.48</td>\n",
       "      <td>co2_c + h2o_c &lt;=&gt; h_c + hco3_c</td>\n",
       "      <td>HCO3 equilibration reaction</td>\n",
       "      <td>can, cynT</td>\n",
       "    </tr>\n",
       "    <tr>\n",
       "      <th>CBMKr</th>\n",
       "      <td>-5.83</td>\n",
       "      <td>atp_c + co2_c + nh4_c &lt;=&gt; adp_c + cbp_c + 2.0 h_c</td>\n",
       "      <td>Carbamate kinase</td>\n",
       "      <td>yqeA, arcC, yahI</td>\n",
       "    </tr>\n",
       "    <tr>\n",
       "      <th>PPC</th>\n",
       "      <td>-28.04</td>\n",
       "      <td>co2_c + h2o_c + pep_c --&gt; h_c + oaa_c + pi_c</td>\n",
       "      <td>phosphoenolpyruvate carboxylase</td>\n",
       "      <td>ppc</td>\n",
       "    </tr>\n",
       "    <tr>\n",
       "      <th>CO2tpp</th>\n",
       "      <td>-208.02</td>\n",
       "      <td>co2_p &lt;=&gt; co2_c</td>\n",
       "      <td>CO2 transporter via diffusion (periplasm)</td>\n",
       "      <td></td>\n",
       "    </tr>\n",
       "  </tbody>\n",
       "</table>\n",
       "</div>"
      ],
      "text/plain": [
       "        flux_co2                                           reaction  \\\n",
       "ICDHyr    111.89        icit_c + nadp_c <=> akg_c + co2_c + nadph_c   \n",
       "AKGDH     101.46  akg_c + coa_c + nad_c <=> co2_c + nadh_c + suc...   \n",
       "ACLS        8.14               h_c + 2.0 pyr_c --> alac_S_c + co2_c   \n",
       "PDH         4.77  coa_c + nad_c + pyr_c --> accoa_c + co2_c + na...   \n",
       "OMCDC       4.20                  3c4mop_c + h_c --> 4mop_c + co2_c   \n",
       "DAPDC       3.20                26dap_M_c + h_c --> co2_c + lys_L_c   \n",
       "OMPDC       3.07                   h_c + orot5p_c --> co2_c + ump_c   \n",
       "ACHBS       2.71         2obut_c + h_c + pyr_c --> 2ahbut_c + co2_c   \n",
       "PPNDH       1.73           h_c + pphn_c --> co2_c + h2o_c + phpyr_c   \n",
       "PPND        1.29        nad_c + pphn_c --> 34hpp_c + co2_c + nadh_c   \n",
       "POR5        1.03  coa_c + 2.0 flxso_c + pyr_c <=> accoa_c + co2_...   \n",
       "HCO3E      -4.48                     co2_c + h2o_c <=> h_c + hco3_c   \n",
       "CBMKr      -5.83  atp_c + co2_c + nh4_c <=> adp_c + cbp_c + 2.0 h_c   \n",
       "PPC       -28.04       co2_c + h2o_c + pep_c --> h_c + oaa_c + pi_c   \n",
       "CO2tpp   -208.02                                    co2_p <=> co2_c   \n",
       "\n",
       "                                                     name  \\\n",
       "ICDHyr                    isocitrate dehydrogenase (NADP)   \n",
       "AKGDH                        2-Oxogluterate dehydrogenase   \n",
       "ACLS                                acetolactate synthase   \n",
       "PDH                                pyruvate dehydrogenase   \n",
       "OMCDC   2-Oxo-4-methyl-3-carboxypentanoate decarboxyla...   \n",
       "DAPDC                       diaminopimelate decarboxylase   \n",
       "OMPDC                orotidine-5'-phosphate decarboxylase   \n",
       "ACHBS                 2-aceto-2-hydroxybutanoate synthase   \n",
       "PPNDH                              prephenate dehydratase   \n",
       "PPND                             prephenate dehydrogenase   \n",
       "POR5                                    pyruvate synthase   \n",
       "HCO3E                         HCO3 equilibration reaction   \n",
       "CBMKr                                    Carbamate kinase   \n",
       "PPC                       phosphoenolpyruvate carboxylase   \n",
       "CO2tpp          CO2 transporter via diffusion (periplasm)   \n",
       "\n",
       "                         genes  \n",
       "ICDHyr                     icd  \n",
       "AKGDH         sucB, lpdA, sucA  \n",
       "ACLS    ilvN, ilvI, ilvH, ilvB  \n",
       "PDH           aceE, lpdA, aceF  \n",
       "OMCDC                           \n",
       "DAPDC                     lysA  \n",
       "OMPDC                     pyrF  \n",
       "ACHBS   ilvN, ilvI, ilvH, ilvB  \n",
       "PPNDH                     pheA  \n",
       "PPND                      tyrA  \n",
       "POR5          fldB, fldA, ydbK  \n",
       "HCO3E                can, cynT  \n",
       "CBMKr         yqeA, arcC, yahI  \n",
       "PPC                        ppc  \n",
       "CO2tpp                          "
      ]
     },
     "execution_count": 34,
     "metadata": {},
     "output_type": "execute_result"
    }
   ],
   "source": [
    "df_aux"
   ]
  },
  {
   "cell_type": "markdown",
   "metadata": {},
   "source": [
    "#### En croissance maximale, CO2 est produit en grande quantité par le cycle de Krebs.\n",
    "#### Il est consommé par PPC et carbamate kinase"
   ]
  },
  {
   "cell_type": "markdown",
   "metadata": {},
   "source": [
    "### Maximal CO2 production"
   ]
  },
  {
   "cell_type": "code",
   "execution_count": 9,
   "metadata": {
    "collapsed": false
   },
   "outputs": [
    {
     "name": "stdout",
     "output_type": "stream",
     "text": [
      "CO2 export: 600.00\n"
     ]
    }
   ],
   "source": [
    "res1 = cameo.pfba(model, objective='EX_co2')\n",
    "print('CO2 export:', format(res1.data_frame.loc['EX_co2', 'flux'], '.2f'))"
   ]
  },
  {
   "cell_type": "code",
   "execution_count": 10,
   "metadata": {
    "collapsed": false
   },
   "outputs": [
    {
     "data": {
      "text/html": [
       "<div>\n",
       "<style>\n",
       "    .dataframe thead tr:only-child th {\n",
       "        text-align: right;\n",
       "    }\n",
       "\n",
       "    .dataframe thead th {\n",
       "        text-align: left;\n",
       "    }\n",
       "\n",
       "    .dataframe tbody tr th {\n",
       "        vertical-align: top;\n",
       "    }\n",
       "</style>\n",
       "<table border=\"1\" class=\"dataframe\">\n",
       "  <thead>\n",
       "    <tr style=\"text-align: right;\">\n",
       "      <th></th>\n",
       "      <th>flux_co2</th>\n",
       "      <th>reaction</th>\n",
       "      <th>name</th>\n",
       "      <th>genes</th>\n",
       "    </tr>\n",
       "  </thead>\n",
       "  <tbody>\n",
       "    <tr>\n",
       "      <th>ICDHyr</th>\n",
       "      <td>250.00</td>\n",
       "      <td>icit_c + nadp_c &lt;=&gt; akg_c + co2_c + nadph_c</td>\n",
       "      <td>isocitrate dehydrogenase (NADP)</td>\n",
       "      <td>icd</td>\n",
       "    </tr>\n",
       "    <tr>\n",
       "      <th>AKGDH</th>\n",
       "      <td>184.38</td>\n",
       "      <td>akg_c + coa_c + nad_c &lt;=&gt; co2_c + nadh_c + suc...</td>\n",
       "      <td>2-Oxogluterate dehydrogenase</td>\n",
       "      <td>lpdA, sucA, sucB</td>\n",
       "    </tr>\n",
       "    <tr>\n",
       "      <th>PDH</th>\n",
       "      <td>100.00</td>\n",
       "      <td>coa_c + nad_c + pyr_c --&gt; accoa_c + co2_c + na...</td>\n",
       "      <td>pyruvate dehydrogenase</td>\n",
       "      <td>lpdA, aceE, aceF</td>\n",
       "    </tr>\n",
       "    <tr>\n",
       "      <th>GLUDC</th>\n",
       "      <td>65.62</td>\n",
       "      <td>glu_L_c + h_c --&gt; 4abut_c + co2_c</td>\n",
       "      <td>Glutamate Decarboxylase</td>\n",
       "      <td>gadA, gadB</td>\n",
       "    </tr>\n",
       "    <tr>\n",
       "      <th>CO2tpp</th>\n",
       "      <td>-600.00</td>\n",
       "      <td>co2_p &lt;=&gt; co2_c</td>\n",
       "      <td>CO2 transporter via diffusion (periplasm)</td>\n",
       "      <td></td>\n",
       "    </tr>\n",
       "  </tbody>\n",
       "</table>\n",
       "</div>"
      ],
      "text/plain": [
       "        flux_co2                                           reaction  \\\n",
       "ICDHyr    250.00        icit_c + nadp_c <=> akg_c + co2_c + nadph_c   \n",
       "AKGDH     184.38  akg_c + coa_c + nad_c <=> co2_c + nadh_c + suc...   \n",
       "PDH       100.00  coa_c + nad_c + pyr_c --> accoa_c + co2_c + na...   \n",
       "GLUDC      65.62                  glu_L_c + h_c --> 4abut_c + co2_c   \n",
       "CO2tpp   -600.00                                    co2_p <=> co2_c   \n",
       "\n",
       "                                             name             genes  \n",
       "ICDHyr            isocitrate dehydrogenase (NADP)               icd  \n",
       "AKGDH                2-Oxogluterate dehydrogenase  lpdA, sucA, sucB  \n",
       "PDH                        pyruvate dehydrogenase  lpdA, aceE, aceF  \n",
       "GLUDC                     Glutamate Decarboxylase        gadA, gadB  \n",
       "CO2tpp  CO2 transporter via diffusion (periplasm)                    "
      ]
     },
     "execution_count": 10,
     "metadata": {},
     "output_type": "execute_result"
    }
   ],
   "source": [
    "df_res1 = decarbox_reacts(model, res1)"
   ]
  },
  {
   "cell_type": "markdown",
   "metadata": {},
   "source": [
    "### Glutamate Décarboxylase ??"
   ]
  },
  {
   "cell_type": "markdown",
   "metadata": {},
   "source": [
    "#### Si je bloque ces 4 réactions ?"
   ]
  },
  {
   "cell_type": "code",
   "execution_count": 11,
   "metadata": {
    "collapsed": true
   },
   "outputs": [],
   "source": [
    "blocked_reacts = list(df_res1[df_res1['flux_co2']>0].index)\n",
    "for r in blocked_reacts:\n",
    "    model.reactions.get_by_id(r).bounds=(0,0)"
   ]
  },
  {
   "cell_type": "code",
   "execution_count": 12,
   "metadata": {
    "collapsed": false
   },
   "outputs": [
    {
     "name": "stdout",
     "output_type": "stream",
     "text": [
      "CO2 export: 600.00\n"
     ]
    }
   ],
   "source": [
    "res2 = cameo.pfba(model, objective='EX_co2')\n",
    "print('CO2 export:', format(res2.data_frame.loc['EX_co2', 'flux'], '.2f'))"
   ]
  },
  {
   "cell_type": "code",
   "execution_count": 13,
   "metadata": {
    "collapsed": false
   },
   "outputs": [
    {
     "data": {
      "text/html": [
       "<div>\n",
       "<style>\n",
       "    .dataframe thead tr:only-child th {\n",
       "        text-align: right;\n",
       "    }\n",
       "\n",
       "    .dataframe thead th {\n",
       "        text-align: left;\n",
       "    }\n",
       "\n",
       "    .dataframe tbody tr th {\n",
       "        vertical-align: top;\n",
       "    }\n",
       "</style>\n",
       "<table border=\"1\" class=\"dataframe\">\n",
       "  <thead>\n",
       "    <tr style=\"text-align: right;\">\n",
       "      <th></th>\n",
       "      <th>flux_co2</th>\n",
       "      <th>reaction</th>\n",
       "      <th>name</th>\n",
       "      <th>genes</th>\n",
       "    </tr>\n",
       "  </thead>\n",
       "  <tbody>\n",
       "    <tr>\n",
       "      <th>ME2</th>\n",
       "      <td>150.00</td>\n",
       "      <td>mal_L_c + nadp_c --&gt; co2_c + nadph_c + pyr_c</td>\n",
       "      <td>malic enzyme (NADP)</td>\n",
       "      <td>maeB</td>\n",
       "    </tr>\n",
       "    <tr>\n",
       "      <th>AOBUTDs</th>\n",
       "      <td>100.00</td>\n",
       "      <td>2aobut_c + h_c --&gt; aact_c + co2_c</td>\n",
       "      <td>L-2-amino-3-oxobutanoate decarboxylation (spon...</td>\n",
       "      <td></td>\n",
       "    </tr>\n",
       "    <tr>\n",
       "      <th>POX</th>\n",
       "      <td>67.48</td>\n",
       "      <td>h2o_c + pyr_c + q8_c --&gt; ac_c + co2_c + q8h2_c</td>\n",
       "      <td>pyruvate oxidase</td>\n",
       "      <td>poxB</td>\n",
       "    </tr>\n",
       "    <tr>\n",
       "      <th>CO2tpp</th>\n",
       "      <td>-317.48</td>\n",
       "      <td>co2_p &lt;=&gt; co2_c</td>\n",
       "      <td>CO2 transporter via diffusion (periplasm)</td>\n",
       "      <td></td>\n",
       "    </tr>\n",
       "  </tbody>\n",
       "</table>\n",
       "</div>"
      ],
      "text/plain": [
       "         flux_co2                                        reaction  \\\n",
       "ME2        150.00    mal_L_c + nadp_c --> co2_c + nadph_c + pyr_c   \n",
       "AOBUTDs    100.00               2aobut_c + h_c --> aact_c + co2_c   \n",
       "POX         67.48  h2o_c + pyr_c + q8_c --> ac_c + co2_c + q8h2_c   \n",
       "CO2tpp    -317.48                                 co2_p <=> co2_c   \n",
       "\n",
       "                                                      name genes  \n",
       "ME2                                    malic enzyme (NADP)  maeB  \n",
       "AOBUTDs  L-2-amino-3-oxobutanoate decarboxylation (spon...        \n",
       "POX                                       pyruvate oxidase  poxB  \n",
       "CO2tpp           CO2 transporter via diffusion (periplasm)        "
      ]
     },
     "execution_count": 13,
     "metadata": {},
     "output_type": "execute_result"
    }
   ],
   "source": [
    "decarbox_reacts(model, res2)"
   ]
  },
  {
   "cell_type": "code",
   "execution_count": null,
   "metadata": {
    "collapsed": true
   },
   "outputs": [],
   "source": []
  },
  {
   "cell_type": "code",
   "execution_count": null,
   "metadata": {
    "collapsed": true
   },
   "outputs": [],
   "source": []
  },
  {
   "cell_type": "markdown",
   "metadata": {},
   "source": [
    "## Visualisation des résultats escher"
   ]
  },
  {
   "cell_type": "code",
   "execution_count": null,
   "metadata": {
    "collapsed": false
   },
   "outputs": [
    {
     "name": "stdout",
     "output_type": "stream",
     "text": [
      "\n",
      "Note: You must interrupt the kernel to end this command\n",
      "\n",
      "Serving to http://127.0.0.1:7655/\n",
      "[Ctrl-C to exit from terminal, or Ctrl-M i i to interrupt notebook kernel]\n"
     ]
    },
    {
     "name": "stderr",
     "output_type": "stream",
     "text": [
      "127.0.0.1 - - [16/Oct/2017 15:31:31] \"GET / HTTP/1.1\" 200 -\n"
     ]
    }
   ],
   "source": [
    "res = res1\n",
    "b=escher.Builder(map_json=wd+'files/Map_EM_iprop.json', reaction_data=res.data_frame.to_dict()['flux'],\n",
    "                model=model)\n",
    "b.display_in_browser()"
   ]
  },
  {
   "cell_type": "code",
   "execution_count": null,
   "metadata": {
    "collapsed": true
   },
   "outputs": [],
   "source": []
  },
  {
   "cell_type": "code",
   "execution_count": null,
   "metadata": {
    "collapsed": true
   },
   "outputs": [],
   "source": []
  }
 ],
 "metadata": {
  "kernelspec": {
   "display_name": "Python 3",
   "language": "python",
   "name": "python3"
  },
  "language_info": {
   "codemirror_mode": {
    "name": "ipython",
    "version": 3
   },
   "file_extension": ".py",
   "mimetype": "text/x-python",
   "name": "python",
   "nbconvert_exporter": "python",
   "pygments_lexer": "ipython3",
   "version": "3.4.5"
  }
 },
 "nbformat": 4,
 "nbformat_minor": 2
}
