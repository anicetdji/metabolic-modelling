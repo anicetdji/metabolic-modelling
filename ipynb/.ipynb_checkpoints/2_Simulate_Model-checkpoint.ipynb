{
 "cells": [
  {
   "cell_type": "markdown",
   "metadata": {},
   "source": [
    "# Simulate Model PKT Isopropanol."
   ]
  },
  {
   "cell_type": "code",
   "execution_count": 25,
   "metadata": {
    "collapsed": false
   },
   "outputs": [],
   "source": [
    "import pandas as pd\n",
    "import cobra\n",
    "import cameo\n",
    "%matplotlib inline\n",
    "import escher\n",
    "import matplotlib.pyplot as plt"
   ]
  },
  {
   "cell_type": "code",
   "execution_count": 2,
   "metadata": {
    "collapsed": true
   },
   "outputs": [],
   "source": [
    "wd = '/Users/aalarcon/Documents/Jupyter/3_Isopropanol/'"
   ]
  },
  {
   "cell_type": "code",
   "execution_count": 28,
   "metadata": {
    "collapsed": false
   },
   "outputs": [],
   "source": [
    "model = cobra.io.read_sbml_model(wd+'input/model_PKT_iprop.xml')"
   ]
  },
  {
   "cell_type": "code",
   "execution_count": 29,
   "metadata": {
    "collapsed": false
   },
   "outputs": [
    {
     "data": {
      "text/html": [
       "\n",
       "        <table>\n",
       "            <tr>\n",
       "                <td><strong>Metabolite identifier</strong></td><td>glc_dsh_D_e</td>\n",
       "            </tr><tr>\n",
       "                <td><strong>Name</strong></td><td>D-Glucose</td>\n",
       "            </tr><tr>\n",
       "                <td><strong>Memory address</strong></td>\n",
       "                <td>0x0116f0a1d0</td>\n",
       "            </tr><tr>\n",
       "                <td><strong>Formula</strong></td><td>C6H12O6</td>\n",
       "            </tr><tr>\n",
       "                <td><strong>Compartment</strong></td><td>e</td>\n",
       "            </tr><tr>\n",
       "                <td><strong>In 3 reaction(s)</strong></td><td>\n",
       "                    EX_glc_lp_e_rp_, GLCtex, GLCtexi</td>\n",
       "            </tr>\n",
       "        </table>"
      ],
      "text/plain": [
       "<Metabolite glc_dsh_D_e at 0x116f0a1d0>"
      ]
     },
     "execution_count": 29,
     "metadata": {},
     "output_type": "execute_result"
    }
   ],
   "source": [
    "model.metabolites.get_by_id('glc_dsh_D_e')"
   ]
  },
  {
   "cell_type": "code",
   "execution_count": 48,
   "metadata": {
    "collapsed": false
   },
   "outputs": [
    {
     "data": {
      "text/plain": [
       "'acetone_c + h_c + nadph_c --> iprop_c + nadp_c'"
      ]
     },
     "execution_count": 48,
     "metadata": {},
     "output_type": "execute_result"
    }
   ],
   "source": [
    "model.reactions.get_by_id('IPRNADPH').reaction"
   ]
  },
  {
   "cell_type": "markdown",
   "metadata": {},
   "source": [
    "## Production Envelope"
   ]
  },
  {
   "cell_type": "code",
   "execution_count": 37,
   "metadata": {
    "collapsed": false
   },
   "outputs": [
    {
     "data": {
      "text/html": [
       "\n",
       "\n",
       "    <div class=\"bk-root\">\n",
       "        <div class=\"bk-plotdiv\" id=\"da8c4970-33ea-4694-ad68-9e98e4e79075\"></div>\n",
       "    </div>\n",
       "<script type=\"text/javascript\">\n",
       "  \n",
       "  (function(global) {\n",
       "    function now() {\n",
       "      return new Date();\n",
       "    }\n",
       "  \n",
       "    var force = false;\n",
       "  \n",
       "    if (typeof (window._bokeh_onload_callbacks) === \"undefined\" || force === true) {\n",
       "      window._bokeh_onload_callbacks = [];\n",
       "      window._bokeh_is_loading = undefined;\n",
       "    }\n",
       "  \n",
       "  \n",
       "    \n",
       "    if (typeof (window._bokeh_timeout) === \"undefined\" || force === true) {\n",
       "      window._bokeh_timeout = Date.now() + 0;\n",
       "      window._bokeh_failed_load = false;\n",
       "    }\n",
       "  \n",
       "    var NB_LOAD_WARNING = {'data': {'text/html':\n",
       "       \"<div style='background-color: #fdd'>\\n\"+\n",
       "       \"<p>\\n\"+\n",
       "       \"BokehJS does not appear to have successfully loaded. If loading BokehJS from CDN, this \\n\"+\n",
       "       \"may be due to a slow or bad network connection. Possible fixes:\\n\"+\n",
       "       \"</p>\\n\"+\n",
       "       \"<ul>\\n\"+\n",
       "       \"<li>re-rerun `output_notebook()` to attempt to load from CDN again, or</li>\\n\"+\n",
       "       \"<li>use INLINE resources instead, as so:</li>\\n\"+\n",
       "       \"</ul>\\n\"+\n",
       "       \"<code>\\n\"+\n",
       "       \"from bokeh.resources import INLINE\\n\"+\n",
       "       \"output_notebook(resources=INLINE)\\n\"+\n",
       "       \"</code>\\n\"+\n",
       "       \"</div>\"}};\n",
       "  \n",
       "    function display_loaded() {\n",
       "      if (window.Bokeh !== undefined) {\n",
       "        document.getElementById(\"da8c4970-33ea-4694-ad68-9e98e4e79075\").textContent = \"BokehJS successfully loaded.\";\n",
       "      } else if (Date.now() < window._bokeh_timeout) {\n",
       "        setTimeout(display_loaded, 100)\n",
       "      }\n",
       "    }\n",
       "  \n",
       "    function run_callbacks() {\n",
       "      window._bokeh_onload_callbacks.forEach(function(callback) { callback() });\n",
       "      delete window._bokeh_onload_callbacks\n",
       "      console.info(\"Bokeh: all callbacks have finished\");\n",
       "    }\n",
       "  \n",
       "    function load_libs(js_urls, callback) {\n",
       "      window._bokeh_onload_callbacks.push(callback);\n",
       "      if (window._bokeh_is_loading > 0) {\n",
       "        console.log(\"Bokeh: BokehJS is being loaded, scheduling callback at\", now());\n",
       "        return null;\n",
       "      }\n",
       "      if (js_urls == null || js_urls.length === 0) {\n",
       "        run_callbacks();\n",
       "        return null;\n",
       "      }\n",
       "      console.log(\"Bokeh: BokehJS not loaded, scheduling load and callback at\", now());\n",
       "      window._bokeh_is_loading = js_urls.length;\n",
       "      for (var i = 0; i < js_urls.length; i++) {\n",
       "        var url = js_urls[i];\n",
       "        var s = document.createElement('script');\n",
       "        s.src = url;\n",
       "        s.async = false;\n",
       "        s.onreadystatechange = s.onload = function() {\n",
       "          window._bokeh_is_loading--;\n",
       "          if (window._bokeh_is_loading === 0) {\n",
       "            console.log(\"Bokeh: all BokehJS libraries loaded\");\n",
       "            run_callbacks()\n",
       "          }\n",
       "        };\n",
       "        s.onerror = function() {\n",
       "          console.warn(\"failed to load library \" + url);\n",
       "        };\n",
       "        console.log(\"Bokeh: injecting script tag for BokehJS library: \", url);\n",
       "        document.getElementsByTagName(\"head\")[0].appendChild(s);\n",
       "      }\n",
       "    };var element = document.getElementById(\"da8c4970-33ea-4694-ad68-9e98e4e79075\");\n",
       "    if (element == null) {\n",
       "      console.log(\"Bokeh: ERROR: autoload.js configured with elementid 'da8c4970-33ea-4694-ad68-9e98e4e79075' but no matching script tag was found. \")\n",
       "      return false;\n",
       "    }\n",
       "  \n",
       "    var js_urls = [];\n",
       "  \n",
       "    var inline_js = [\n",
       "      function(Bokeh) {\n",
       "        (function() {\n",
       "          var fn = function() {\n",
       "            var docs_json = {\"f280a944-301b-43c1-ae25-b6a4c4f4f1ec\":{\"roots\":{\"references\":[{\"attributes\":{\"data_source\":{\"id\":\"d533565c-9da0-458b-a873-20cecd412a34\",\"type\":\"ColumnDataSource\"},\"glyph\":{\"id\":\"bec836de-8e48-42e8-9c3b-b42cb39c2d2f\",\"type\":\"Line\"},\"hover_glyph\":null,\"nonselection_glyph\":{\"id\":\"3febf359-2245-4791-b92b-46e8be923401\",\"type\":\"Line\"},\"selection_glyph\":null},\"id\":\"a0da1a6e-e2ca-455f-83cf-8c981dfd57d1\",\"type\":\"GlyphRenderer\"},{\"attributes\":{\"callback\":null,\"column_names\":[\"x\",\"y\"],\"data\":{\"x\":[9.271992328474978,9.271992328474978],\"y\":[8.976375198699316e-11,0.0]}},\"id\":\"d533565c-9da0-458b-a873-20cecd412a34\",\"type\":\"ColumnDataSource\"},{\"attributes\":{\"line_alpha\":{\"value\":0.1},\"line_color\":{\"value\":\"#1f77b4\"},\"x\":{\"field\":\"x\"},\"y\":{\"field\":\"y\"}},\"id\":\"3febf359-2245-4791-b92b-46e8be923401\",\"type\":\"Line\"},{\"attributes\":{\"plot\":{\"id\":\"f70866b0-a490-4a66-b407-24c7979fb8f5\",\"subtype\":\"Figure\",\"type\":\"Plot\"}},\"id\":\"b20fed53-fb58-4a02-8842-cae7c938f0f0\",\"type\":\"ResetTool\"},{\"attributes\":{\"line_alpha\":{\"value\":0.1},\"line_color\":{\"value\":\"#1f77b4\"},\"x\":{\"field\":\"x\"},\"y\":{\"field\":\"y\"}},\"id\":\"40e0a2f1-1a1e-4676-9fef-fdbfcb69b0dc\",\"type\":\"Line\"},{\"attributes\":{\"line_color\":{\"value\":\"#B3E2CD\"},\"x\":{\"field\":\"x\"},\"y\":{\"field\":\"y\"}},\"id\":\"eaf6ab7c-31f1-4db6-b04f-7044aaa37760\",\"type\":\"Line\"},{\"attributes\":{\"label\":{\"value\":\"WT\"},\"renderers\":[{\"id\":\"3ada0948-86be-473f-b6dc-d7476f85a76e\",\"type\":\"GlyphRenderer\"}]},\"id\":\"2553459b-89a2-4ba7-b9ce-cd7304a7653b\",\"type\":\"LegendItem\"},{\"attributes\":{\"plot\":{\"id\":\"f70866b0-a490-4a66-b407-24c7979fb8f5\",\"subtype\":\"Figure\",\"type\":\"Plot\"}},\"id\":\"c1447641-1164-4d9a-ab7a-b7dac9bd3aa7\",\"type\":\"WheelZoomTool\"},{\"attributes\":{\"bottom_units\":\"screen\",\"fill_alpha\":{\"value\":0.5},\"fill_color\":{\"value\":\"lightgrey\"},\"left_units\":\"screen\",\"level\":\"overlay\",\"line_alpha\":{\"value\":1.0},\"line_color\":{\"value\":\"black\"},\"line_dash\":[4,4],\"line_width\":{\"value\":2},\"plot\":null,\"render_mode\":\"css\",\"right_units\":\"screen\",\"top_units\":\"screen\"},\"id\":\"06d7fc57-1394-4654-87b8-d5293bda177b\",\"type\":\"BoxAnnotation\"},{\"attributes\":{\"line_alpha\":{\"value\":0.1},\"line_color\":{\"value\":\"#1f77b4\"},\"x\":{\"field\":\"x\"},\"y\":{\"field\":\"y\"}},\"id\":\"290e6ebf-d3e0-41cb-bafd-a4c7ab8e1924\",\"type\":\"Line\"},{\"attributes\":{\"line_color\":{\"value\":\"#B3E2CD\"},\"x\":{\"field\":\"x\"},\"y\":{\"field\":\"y\"}},\"id\":\"1f836432-517d-4983-b29f-d84685de62c4\",\"type\":\"Line\"},{\"attributes\":{\"axis_label\":\"Ec_biomass_iJO1366_WT_53p95M [h^-1]\",\"formatter\":{\"id\":\"ca6bb80d-bcf0-41ba-be87-d819b8637818\",\"type\":\"BasicTickFormatter\"},\"plot\":{\"id\":\"f70866b0-a490-4a66-b407-24c7979fb8f5\",\"subtype\":\"Figure\",\"type\":\"Plot\"},\"ticker\":{\"id\":\"e2716a50-35a8-4ffd-b798-18d9d6ace22e\",\"type\":\"BasicTicker\"}},\"id\":\"e0dee252-7794-41c4-a7ad-e71669c63b0d\",\"type\":\"LinearAxis\"},{\"attributes\":{},\"id\":\"d1d2dd24-c256-491f-abf4-478d2f6d3bd4\",\"type\":\"ToolEvents\"},{\"attributes\":{},\"id\":\"ca6bb80d-bcf0-41ba-be87-d819b8637818\",\"type\":\"BasicTickFormatter\"},{\"attributes\":{\"items\":[{\"id\":\"2553459b-89a2-4ba7-b9ce-cd7304a7653b\",\"type\":\"LegendItem\"}],\"plot\":{\"id\":\"f70866b0-a490-4a66-b407-24c7979fb8f5\",\"subtype\":\"Figure\",\"type\":\"Plot\"}},\"id\":\"ae4924cb-6bb4-4c0b-b923-bb326e2ee547\",\"type\":\"Legend\"},{\"attributes\":{\"fill_alpha\":{\"value\":0.1},\"fill_color\":{\"value\":\"#1f77b4\"},\"line_alpha\":{\"value\":0.1},\"line_color\":{\"value\":\"#1f77b4\"},\"x\":{\"field\":\"x\"},\"y\":{\"field\":\"y\"}},\"id\":\"85b1fd78-dea8-4437-acfd-4c013d07f852\",\"type\":\"Patch\"},{\"attributes\":{\"callback\":null},\"id\":\"cfadca10-ba77-4988-b837-ee6a5806e209\",\"type\":\"DataRange1d\"},{\"attributes\":{\"data_source\":{\"id\":\"64f32e98-e6bb-4178-91c1-a569065ab1c9\",\"type\":\"ColumnDataSource\"},\"glyph\":{\"id\":\"eaf6ab7c-31f1-4db6-b04f-7044aaa37760\",\"type\":\"Line\"},\"hover_glyph\":null,\"nonselection_glyph\":{\"id\":\"40e0a2f1-1a1e-4676-9fef-fdbfcb69b0dc\",\"type\":\"Line\"},\"selection_glyph\":null},\"id\":\"04387794-6b58-462c-93fa-bc10a473a083\",\"type\":\"GlyphRenderer\"},{\"attributes\":{\"data_source\":{\"id\":\"f57d4582-7080-4e93-a07a-2fe49765b98c\",\"type\":\"ColumnDataSource\"},\"glyph\":{\"id\":\"1f836432-517d-4983-b29f-d84685de62c4\",\"type\":\"Line\"},\"hover_glyph\":null,\"nonselection_glyph\":{\"id\":\"290e6ebf-d3e0-41cb-bafd-a4c7ab8e1924\",\"type\":\"Line\"},\"selection_glyph\":null},\"id\":\"39a349e2-99d9-44ef-b8c7-8b893f5dfe88\",\"type\":\"GlyphRenderer\"},{\"attributes\":{\"plot\":{\"id\":\"f70866b0-a490-4a66-b407-24c7979fb8f5\",\"subtype\":\"Figure\",\"type\":\"Plot\"}},\"id\":\"18e63118-4d6e-4cd1-b0d2-f984ae24bccc\",\"type\":\"SaveTool\"},{\"attributes\":{\"below\":[{\"id\":\"e0dee252-7794-41c4-a7ad-e71669c63b0d\",\"type\":\"LinearAxis\"}],\"left\":[{\"id\":\"c9b9657e-1f22-45da-b439-3857efaa2493\",\"type\":\"LinearAxis\"}],\"plot_height\":432,\"plot_width\":700,\"renderers\":[{\"id\":\"e0dee252-7794-41c4-a7ad-e71669c63b0d\",\"type\":\"LinearAxis\"},{\"id\":\"aee7fab5-6a93-4f29-bc55-c24f33305d06\",\"type\":\"Grid\"},{\"id\":\"c9b9657e-1f22-45da-b439-3857efaa2493\",\"type\":\"LinearAxis\"},{\"id\":\"ac138f69-2904-4551-b2a1-746d00cc01d9\",\"type\":\"Grid\"},{\"id\":\"06d7fc57-1394-4654-87b8-d5293bda177b\",\"type\":\"BoxAnnotation\"},{\"id\":\"ae4924cb-6bb4-4c0b-b923-bb326e2ee547\",\"type\":\"Legend\"},{\"id\":\"3ada0948-86be-473f-b6dc-d7476f85a76e\",\"type\":\"GlyphRenderer\"},{\"id\":\"39a349e2-99d9-44ef-b8c7-8b893f5dfe88\",\"type\":\"GlyphRenderer\"},{\"id\":\"04387794-6b58-462c-93fa-bc10a473a083\",\"type\":\"GlyphRenderer\"},{\"id\":\"a0da1a6e-e2ca-455f-83cf-8c981dfd57d1\",\"type\":\"GlyphRenderer\"}],\"title\":{\"id\":\"41bb0726-22ed-43f1-97a8-21a366981041\",\"type\":\"Title\"},\"tool_events\":{\"id\":\"d1d2dd24-c256-491f-abf4-478d2f6d3bd4\",\"type\":\"ToolEvents\"},\"toolbar\":{\"id\":\"40c6a8e5-081c-42c1-a61f-ce61d423238a\",\"type\":\"Toolbar\"},\"x_range\":{\"id\":\"cd6c7df8-f9d3-436e-beba-d86aa372f5cd\",\"type\":\"DataRange1d\"},\"y_range\":{\"id\":\"cfadca10-ba77-4988-b837-ee6a5806e209\",\"type\":\"DataRange1d\"}},\"id\":\"f70866b0-a490-4a66-b407-24c7979fb8f5\",\"subtype\":\"Figure\",\"type\":\"Plot\"},{\"attributes\":{\"line_color\":{\"value\":\"#B3E2CD\"},\"x\":{\"field\":\"x\"},\"y\":{\"field\":\"y\"}},\"id\":\"bec836de-8e48-42e8-9c3b-b42cb39c2d2f\",\"type\":\"Line\"},{\"attributes\":{\"overlay\":{\"id\":\"06d7fc57-1394-4654-87b8-d5293bda177b\",\"type\":\"BoxAnnotation\"},\"plot\":{\"id\":\"f70866b0-a490-4a66-b407-24c7979fb8f5\",\"subtype\":\"Figure\",\"type\":\"Plot\"}},\"id\":\"6d0e9fc9-eabe-4355-9f48-c0b742535d66\",\"type\":\"BoxZoomTool\"},{\"attributes\":{},\"id\":\"0aee278d-3465-49d7-ab55-c325c27e3733\",\"type\":\"BasicTicker\"},{\"attributes\":{\"callback\":null,\"column_names\":[\"x\",\"y\"],\"data\":{\"x\":[0.0,0.48799959623552513,0.9759991924710503,1.4639987887065753,1.9519983849421005,2.439997981177626,2.9279975774131506,3.415997173648676,3.903996769884201,4.391996366119726,4.879995962355252,5.367995558590777,5.855995154826301,6.343994751061826,6.831994347297352,7.319993943532877,7.807993539768402,8.295993136003927,8.783992732239453,9.271992328474978,9.271992328474978,8.783992732239453,8.295993136003927,7.807993539768402,7.319993943532877,6.831994347297352,6.343994751061826,5.855995154826301,5.367995558590777,4.879995962355252,4.391996366119726,3.903996769884201,3.415997173648676,2.9279975774131506,2.439997981177626,1.9519983849421005,1.4639987887065753,0.9759991924710503,0.48799959623552513,0.0],\"y\":[0.0,0.0,0.0,0.0,0.0,0.0,0.0,0.0,0.0,0.0,0.0,0.0,0.0,0.0,0.0,0.0,0.0,0.0,0.0,0.0,8.976375198699316e-11,7.736257310025595,15.472514619963292,23.208771929898557,30.945029239836764,38.68128654977295,46.41754385971024,54.083121169747926,61.58882881420492,69.09453645866188,76.60024410311752,84.10595174757466,91.61165939203083,99.11736703648717,106.4658178201485,112.75395860394501,119.04209938774106,123.98701367791138,128.66017350562237,133.3333333333333]}},\"id\":\"a5b6adce-4896-423e-9d63-c3a2cdc94100\",\"type\":\"ColumnDataSource\"},{\"attributes\":{\"fill_alpha\":{\"value\":0.3},\"fill_color\":{\"value\":\"#B3E2CD\"},\"line_color\":{\"value\":\"#1f77b4\"},\"x\":{\"field\":\"x\"},\"y\":{\"field\":\"y\"}},\"id\":\"c625d0a1-096b-405b-8fc3-e53c28bcb99b\",\"type\":\"Patch\"},{\"attributes\":{\"callback\":null,\"column_names\":[\"x\",\"y\"],\"data\":{\"x\":{\"__ndarray__\":\"AAAAAAAAAAD+vJKoYjvfP/68kqhiO+8/vg1u/ols9z/+vJKoYjv/Px+2W6kdhQNAvg1u/olsB0BeZYBT9lMLQP68kqhiOw9AT4rSfmeREUAftlupHYUTQO/h5NPTeBVAvg1u/olsF0COOfcoQGAZQF5lgFP2UxtALpEJfqxHHUD+vJKoYjsfQGf0jWmMlyBAT4rSfmeRIUA3IBeUQosiQA==\",\"dtype\":\"float64\",\"shape\":[20]},\"y\":[0.0,0.0,0.0,0.0,0.0,0.0,0.0,0.0,0.0,0.0,0.0,0.0,0.0,0.0,0.0,0.0,0.0,0.0,0.0,0.0]}},\"id\":\"64f32e98-e6bb-4178-91c1-a569065ab1c9\",\"type\":\"ColumnDataSource\"},{\"attributes\":{\"plot\":{\"id\":\"f70866b0-a490-4a66-b407-24c7979fb8f5\",\"subtype\":\"Figure\",\"type\":\"Plot\"},\"ticker\":{\"id\":\"e2716a50-35a8-4ffd-b798-18d9d6ace22e\",\"type\":\"BasicTicker\"}},\"id\":\"aee7fab5-6a93-4f29-bc55-c24f33305d06\",\"type\":\"Grid\"},{\"attributes\":{\"callback\":null},\"id\":\"cd6c7df8-f9d3-436e-beba-d86aa372f5cd\",\"type\":\"DataRange1d\"},{\"attributes\":{\"axis_label\":\"IPRNADH [mmol gDW^-1 h^-1]\",\"formatter\":{\"id\":\"0879fefd-3393-4573-a285-d920a7c04823\",\"type\":\"BasicTickFormatter\"},\"plot\":{\"id\":\"f70866b0-a490-4a66-b407-24c7979fb8f5\",\"subtype\":\"Figure\",\"type\":\"Plot\"},\"ticker\":{\"id\":\"0aee278d-3465-49d7-ab55-c325c27e3733\",\"type\":\"BasicTicker\"}},\"id\":\"c9b9657e-1f22-45da-b439-3857efaa2493\",\"type\":\"LinearAxis\"},{\"attributes\":{},\"id\":\"e2716a50-35a8-4ffd-b798-18d9d6ace22e\",\"type\":\"BasicTicker\"},{\"attributes\":{\"callback\":null,\"column_names\":[\"x\",\"y\"],\"data\":{\"x\":{\"__ndarray__\":\"AAAAAAAAAAD+vJKoYjvfP/68kqhiO+8/vg1u/ols9z/+vJKoYjv/Px+2W6kdhQNAvg1u/olsB0BeZYBT9lMLQP68kqhiOw9AT4rSfmeREUAftlupHYUTQO/h5NPTeBVAvg1u/olsF0COOfcoQGAZQF5lgFP2UxtALpEJfqxHHUD+vJKoYjsfQGf0jWmMlyBAT4rSfmeRIUA3IBeUQosiQA==\",\"dtype\":\"float64\",\"shape\":[20]},\"y\":[133.3333333333333,128.66017350562237,123.98701367791138,119.04209938774106,112.75395860394501,106.4658178201485,99.11736703648717,91.61165939203083,84.10595174757466,76.60024410311752,69.09453645866188,61.58882881420492,54.083121169747926,46.41754385971024,38.68128654977295,30.945029239836764,23.208771929898557,15.472514619963292,7.736257310025595,8.976375198699316e-11]}},\"id\":\"f57d4582-7080-4e93-a07a-2fe49765b98c\",\"type\":\"ColumnDataSource\"},{\"attributes\":{\"dimension\":1,\"plot\":{\"id\":\"f70866b0-a490-4a66-b407-24c7979fb8f5\",\"subtype\":\"Figure\",\"type\":\"Plot\"},\"ticker\":{\"id\":\"0aee278d-3465-49d7-ab55-c325c27e3733\",\"type\":\"BasicTicker\"}},\"id\":\"ac138f69-2904-4551-b2a1-746d00cc01d9\",\"type\":\"Grid\"},{\"attributes\":{\"data_source\":{\"id\":\"a5b6adce-4896-423e-9d63-c3a2cdc94100\",\"type\":\"ColumnDataSource\"},\"glyph\":{\"id\":\"c625d0a1-096b-405b-8fc3-e53c28bcb99b\",\"type\":\"Patch\"},\"hover_glyph\":null,\"nonselection_glyph\":{\"id\":\"85b1fd78-dea8-4437-acfd-4c013d07f852\",\"type\":\"Patch\"},\"selection_glyph\":null},\"id\":\"3ada0948-86be-473f-b6dc-d7476f85a76e\",\"type\":\"GlyphRenderer\"},{\"attributes\":{\"active_drag\":\"auto\",\"active_scroll\":\"auto\",\"active_tap\":\"auto\",\"tools\":[{\"id\":\"59d89074-4e52-4713-96fa-cab18c798f11\",\"type\":\"PanTool\"},{\"id\":\"c1447641-1164-4d9a-ab7a-b7dac9bd3aa7\",\"type\":\"WheelZoomTool\"},{\"id\":\"6d0e9fc9-eabe-4355-9f48-c0b742535d66\",\"type\":\"BoxZoomTool\"},{\"id\":\"18e63118-4d6e-4cd1-b0d2-f984ae24bccc\",\"type\":\"SaveTool\"},{\"id\":\"b20fed53-fb58-4a02-8842-cae7c938f0f0\",\"type\":\"ResetTool\"},{\"id\":\"7038bb61-849a-4c49-b160-93232ecf84d4\",\"type\":\"HelpTool\"}]},\"id\":\"40c6a8e5-081c-42c1-a61f-ce61d423238a\",\"type\":\"Toolbar\"},{\"attributes\":{\"plot\":{\"id\":\"f70866b0-a490-4a66-b407-24c7979fb8f5\",\"subtype\":\"Figure\",\"type\":\"Plot\"}},\"id\":\"7038bb61-849a-4c49-b160-93232ecf84d4\",\"type\":\"HelpTool\"},{\"attributes\":{},\"id\":\"0879fefd-3393-4573-a285-d920a7c04823\",\"type\":\"BasicTickFormatter\"},{\"attributes\":{\"plot\":null,\"text\":\"Phenotypic Phase Plane (flux)\"},\"id\":\"41bb0726-22ed-43f1-97a8-21a366981041\",\"type\":\"Title\"},{\"attributes\":{\"plot\":{\"id\":\"f70866b0-a490-4a66-b407-24c7979fb8f5\",\"subtype\":\"Figure\",\"type\":\"Plot\"}},\"id\":\"59d89074-4e52-4713-96fa-cab18c798f11\",\"type\":\"PanTool\"}],\"root_ids\":[\"f70866b0-a490-4a66-b407-24c7979fb8f5\"]},\"title\":\"Bokeh Application\",\"version\":\"0.12.4\"}};\n",
       "            var render_items = [{\"docid\":\"f280a944-301b-43c1-ae25-b6a4c4f4f1ec\",\"elementid\":\"da8c4970-33ea-4694-ad68-9e98e4e79075\",\"modelid\":\"f70866b0-a490-4a66-b407-24c7979fb8f5\"}];\n",
       "            \n",
       "            Bokeh.embed.embed_items(docs_json, render_items);\n",
       "          };\n",
       "          if (document.readyState != \"loading\") fn();\n",
       "          else document.addEventListener(\"DOMContentLoaded\", fn);\n",
       "        })();\n",
       "      },\n",
       "      function(Bokeh) {\n",
       "      }\n",
       "    ];\n",
       "  \n",
       "    function run_inline_js() {\n",
       "      \n",
       "      if ((window.Bokeh !== undefined) || (force === true)) {\n",
       "        for (var i = 0; i < inline_js.length; i++) {\n",
       "          inline_js[i](window.Bokeh);\n",
       "        }if (force === true) {\n",
       "          display_loaded();\n",
       "        }} else if (Date.now() < window._bokeh_timeout) {\n",
       "        setTimeout(run_inline_js, 100);\n",
       "      } else if (!window._bokeh_failed_load) {\n",
       "        console.log(\"Bokeh: BokehJS failed to load within specified timeout.\");\n",
       "        window._bokeh_failed_load = true;\n",
       "      } else if (force !== true) {\n",
       "        var cell = $(document.getElementById(\"da8c4970-33ea-4694-ad68-9e98e4e79075\")).parents('.cell').data().cell;\n",
       "        cell.output_area.append_execute_result(NB_LOAD_WARNING)\n",
       "      }\n",
       "  \n",
       "    }\n",
       "  \n",
       "    if (window._bokeh_is_loading === 0) {\n",
       "      console.log(\"Bokeh: BokehJS loaded, going straight to plotting\");\n",
       "      run_inline_js();\n",
       "    } else {\n",
       "      load_libs(js_urls, function() {\n",
       "        console.log(\"Bokeh: BokehJS plotting callback run at\", now());\n",
       "        run_inline_js();\n",
       "      });\n",
       "    }\n",
       "  }(this));\n",
       "</script>"
      ]
     },
     "metadata": {},
     "output_type": "display_data"
    }
   ],
   "source": [
    "rbm = 'Ec_biomass_iJO1366_WT_53p95M'\n",
    "cameo.phenotypic_phase_plane(model, 'Ec_biomass_iJO1366_WT_53p95M', 'IPRNADH').plot()"
   ]
  },
  {
   "cell_type": "code",
   "execution_count": 38,
   "metadata": {
    "collapsed": false
   },
   "outputs": [
    {
     "data": {
      "text/html": [
       "\n",
       "\n",
       "    <div class=\"bk-root\">\n",
       "        <div class=\"bk-plotdiv\" id=\"4f0cdb3e-a3e3-4447-89b2-c0266eedabe9\"></div>\n",
       "    </div>\n",
       "<script type=\"text/javascript\">\n",
       "  \n",
       "  (function(global) {\n",
       "    function now() {\n",
       "      return new Date();\n",
       "    }\n",
       "  \n",
       "    var force = false;\n",
       "  \n",
       "    if (typeof (window._bokeh_onload_callbacks) === \"undefined\" || force === true) {\n",
       "      window._bokeh_onload_callbacks = [];\n",
       "      window._bokeh_is_loading = undefined;\n",
       "    }\n",
       "  \n",
       "  \n",
       "    \n",
       "    if (typeof (window._bokeh_timeout) === \"undefined\" || force === true) {\n",
       "      window._bokeh_timeout = Date.now() + 0;\n",
       "      window._bokeh_failed_load = false;\n",
       "    }\n",
       "  \n",
       "    var NB_LOAD_WARNING = {'data': {'text/html':\n",
       "       \"<div style='background-color: #fdd'>\\n\"+\n",
       "       \"<p>\\n\"+\n",
       "       \"BokehJS does not appear to have successfully loaded. If loading BokehJS from CDN, this \\n\"+\n",
       "       \"may be due to a slow or bad network connection. Possible fixes:\\n\"+\n",
       "       \"</p>\\n\"+\n",
       "       \"<ul>\\n\"+\n",
       "       \"<li>re-rerun `output_notebook()` to attempt to load from CDN again, or</li>\\n\"+\n",
       "       \"<li>use INLINE resources instead, as so:</li>\\n\"+\n",
       "       \"</ul>\\n\"+\n",
       "       \"<code>\\n\"+\n",
       "       \"from bokeh.resources import INLINE\\n\"+\n",
       "       \"output_notebook(resources=INLINE)\\n\"+\n",
       "       \"</code>\\n\"+\n",
       "       \"</div>\"}};\n",
       "  \n",
       "    function display_loaded() {\n",
       "      if (window.Bokeh !== undefined) {\n",
       "        document.getElementById(\"4f0cdb3e-a3e3-4447-89b2-c0266eedabe9\").textContent = \"BokehJS successfully loaded.\";\n",
       "      } else if (Date.now() < window._bokeh_timeout) {\n",
       "        setTimeout(display_loaded, 100)\n",
       "      }\n",
       "    }\n",
       "  \n",
       "    function run_callbacks() {\n",
       "      window._bokeh_onload_callbacks.forEach(function(callback) { callback() });\n",
       "      delete window._bokeh_onload_callbacks\n",
       "      console.info(\"Bokeh: all callbacks have finished\");\n",
       "    }\n",
       "  \n",
       "    function load_libs(js_urls, callback) {\n",
       "      window._bokeh_onload_callbacks.push(callback);\n",
       "      if (window._bokeh_is_loading > 0) {\n",
       "        console.log(\"Bokeh: BokehJS is being loaded, scheduling callback at\", now());\n",
       "        return null;\n",
       "      }\n",
       "      if (js_urls == null || js_urls.length === 0) {\n",
       "        run_callbacks();\n",
       "        return null;\n",
       "      }\n",
       "      console.log(\"Bokeh: BokehJS not loaded, scheduling load and callback at\", now());\n",
       "      window._bokeh_is_loading = js_urls.length;\n",
       "      for (var i = 0; i < js_urls.length; i++) {\n",
       "        var url = js_urls[i];\n",
       "        var s = document.createElement('script');\n",
       "        s.src = url;\n",
       "        s.async = false;\n",
       "        s.onreadystatechange = s.onload = function() {\n",
       "          window._bokeh_is_loading--;\n",
       "          if (window._bokeh_is_loading === 0) {\n",
       "            console.log(\"Bokeh: all BokehJS libraries loaded\");\n",
       "            run_callbacks()\n",
       "          }\n",
       "        };\n",
       "        s.onerror = function() {\n",
       "          console.warn(\"failed to load library \" + url);\n",
       "        };\n",
       "        console.log(\"Bokeh: injecting script tag for BokehJS library: \", url);\n",
       "        document.getElementsByTagName(\"head\")[0].appendChild(s);\n",
       "      }\n",
       "    };var element = document.getElementById(\"4f0cdb3e-a3e3-4447-89b2-c0266eedabe9\");\n",
       "    if (element == null) {\n",
       "      console.log(\"Bokeh: ERROR: autoload.js configured with elementid '4f0cdb3e-a3e3-4447-89b2-c0266eedabe9' but no matching script tag was found. \")\n",
       "      return false;\n",
       "    }\n",
       "  \n",
       "    var js_urls = [];\n",
       "  \n",
       "    var inline_js = [\n",
       "      function(Bokeh) {\n",
       "        (function() {\n",
       "          var fn = function() {\n",
       "            var docs_json = {\"e2f9af1f-724b-43c0-9c82-c76f462aa85a\":{\"roots\":{\"references\":[{\"attributes\":{\"line_color\":{\"value\":\"#B3E2CD\"},\"x\":{\"field\":\"x\"},\"y\":{\"field\":\"y\"}},\"id\":\"1121fd9a-2373-4965-930c-30727bdd9567\",\"type\":\"Line\"},{\"attributes\":{\"data_source\":{\"id\":\"542eae61-d0b2-4a45-9747-4e8186e9364f\",\"type\":\"ColumnDataSource\"},\"glyph\":{\"id\":\"5f8d217d-85bd-4f93-bff8-9ff0d0b2ad58\",\"type\":\"Line\"},\"hover_glyph\":null,\"nonselection_glyph\":{\"id\":\"43048446-5179-4805-af5e-8ff749ce2784\",\"type\":\"Line\"},\"selection_glyph\":null},\"id\":\"6a076912-c7f5-4b97-8e6b-d675b29be240\",\"type\":\"GlyphRenderer\"},{\"attributes\":{\"line_color\":{\"value\":\"#B3E2CD\"},\"x\":{\"field\":\"x\"},\"y\":{\"field\":\"y\"}},\"id\":\"5f8d217d-85bd-4f93-bff8-9ff0d0b2ad58\",\"type\":\"Line\"},{\"attributes\":{\"plot\":{\"id\":\"61ab4b50-8057-450f-8b2a-b6ebd62be007\",\"subtype\":\"Figure\",\"type\":\"Plot\"}},\"id\":\"6ff82acf-8150-4400-8f3b-252c2327991d\",\"type\":\"SaveTool\"},{\"attributes\":{\"callback\":null,\"column_names\":[\"x\",\"y\"],\"data\":{\"x\":{\"__ndarray__\":\"AAAAAAAAAAB2cJOoYjvfP3Zwk6hiO+8/WJRu/ols9z92cJOoYjv/P0omXKkdhQNAWJRu/olsB0BnAoFT9lMLQHZwk6hiOw9AQu/SfmeREUBKJlypHYUTQFFd5dPTeBVAWJRu/olsF0Bgy/coQGAZQGcCgVP2UxtAbzkKfqxHHUB2cJOoYjsfQL9TjmmMlyBAQu/SfmeRIUDGiheUQosiQA==\",\"dtype\":\"float64\",\"shape\":[20]},\"y\":[0.0,0.0,0.0,0.0,0.0,0.0,0.0,0.0,0.0,0.0,0.0,0.0,0.0,0.0,0.0,0.0,0.0,0.0,0.0,0.0]}},\"id\":\"542eae61-d0b2-4a45-9747-4e8186e9364f\",\"type\":\"ColumnDataSource\"},{\"attributes\":{},\"id\":\"fc259d19-77fc-47a4-b56f-5f63e3abe10a\",\"type\":\"BasicTicker\"},{\"attributes\":{\"overlay\":{\"id\":\"9a17c5bc-e9ec-43fd-b45c-4d4754a2cd23\",\"type\":\"BoxAnnotation\"},\"plot\":{\"id\":\"61ab4b50-8057-450f-8b2a-b6ebd62be007\",\"subtype\":\"Figure\",\"type\":\"Plot\"}},\"id\":\"0e60887b-2035-481d-92fe-18342f48f720\",\"type\":\"BoxZoomTool\"},{\"attributes\":{\"callback\":null},\"id\":\"a85541fc-98fb-4dfc-aeb6-3e676b9cb944\",\"type\":\"DataRange1d\"},{\"attributes\":{\"data_source\":{\"id\":\"77c3c3b4-bcd0-4e99-8d0e-e576005c423a\",\"type\":\"ColumnDataSource\"},\"glyph\":{\"id\":\"1121fd9a-2373-4965-930c-30727bdd9567\",\"type\":\"Line\"},\"hover_glyph\":null,\"nonselection_glyph\":{\"id\":\"44eb4200-40b2-4d9e-864c-7f416255c51c\",\"type\":\"Line\"},\"selection_glyph\":null},\"id\":\"3b7addf3-29f2-4b98-8c00-17c4104030fe\",\"type\":\"GlyphRenderer\"},{\"attributes\":{\"line_alpha\":{\"value\":0.1},\"line_color\":{\"value\":\"#1f77b4\"},\"x\":{\"field\":\"x\"},\"y\":{\"field\":\"y\"}},\"id\":\"43048446-5179-4805-af5e-8ff749ce2784\",\"type\":\"Line\"},{\"attributes\":{\"dimension\":1,\"plot\":{\"id\":\"61ab4b50-8057-450f-8b2a-b6ebd62be007\",\"subtype\":\"Figure\",\"type\":\"Plot\"},\"ticker\":{\"id\":\"5c4021e7-8999-40d5-8a06-ec2d9221300c\",\"type\":\"BasicTicker\"}},\"id\":\"aba7302a-10f7-45a6-930e-0723d68bf622\",\"type\":\"Grid\"},{\"attributes\":{\"plot\":null,\"text\":\"Phenotypic Phase Plane (flux)\"},\"id\":\"bcabe307-280d-4b63-9385-a0de529f5356\",\"type\":\"Title\"},{\"attributes\":{\"plot\":{\"id\":\"61ab4b50-8057-450f-8b2a-b6ebd62be007\",\"subtype\":\"Figure\",\"type\":\"Plot\"}},\"id\":\"9e696620-a0d9-4275-af6f-c074dd7c14f3\",\"type\":\"PanTool\"},{\"attributes\":{\"items\":[{\"id\":\"745efeae-62d3-4196-b1b3-158ce33059ba\",\"type\":\"LegendItem\"}],\"plot\":{\"id\":\"61ab4b50-8057-450f-8b2a-b6ebd62be007\",\"subtype\":\"Figure\",\"type\":\"Plot\"}},\"id\":\"96ca535a-49cb-4323-a9d4-c65955e3404b\",\"type\":\"Legend\"},{\"attributes\":{},\"id\":\"23763f87-e502-4046-bf5a-f8f0ae830861\",\"type\":\"BasicTickFormatter\"},{\"attributes\":{},\"id\":\"5c4021e7-8999-40d5-8a06-ec2d9221300c\",\"type\":\"BasicTicker\"},{\"attributes\":{\"bottom_units\":\"screen\",\"fill_alpha\":{\"value\":0.5},\"fill_color\":{\"value\":\"lightgrey\"},\"left_units\":\"screen\",\"level\":\"overlay\",\"line_alpha\":{\"value\":1.0},\"line_color\":{\"value\":\"black\"},\"line_dash\":[4,4],\"line_width\":{\"value\":2},\"plot\":null,\"render_mode\":\"css\",\"right_units\":\"screen\",\"top_units\":\"screen\"},\"id\":\"9a17c5bc-e9ec-43fd-b45c-4d4754a2cd23\",\"type\":\"BoxAnnotation\"},{\"attributes\":{\"axis_label\":\"Ec_biomass_iJO1366_WT_53p95M [h^-1]\",\"formatter\":{\"id\":\"23763f87-e502-4046-bf5a-f8f0ae830861\",\"type\":\"BasicTickFormatter\"},\"plot\":{\"id\":\"61ab4b50-8057-450f-8b2a-b6ebd62be007\",\"subtype\":\"Figure\",\"type\":\"Plot\"},\"ticker\":{\"id\":\"fc259d19-77fc-47a4-b56f-5f63e3abe10a\",\"type\":\"BasicTicker\"}},\"id\":\"d9423b6c-f9eb-4538-97ab-76608ef7141a\",\"type\":\"LinearAxis\"},{\"attributes\":{\"data_source\":{\"id\":\"cea223b2-c8e9-458b-a89d-5555346ee982\",\"type\":\"ColumnDataSource\"},\"glyph\":{\"id\":\"086fe186-579a-400b-8e07-42c9618dc65f\",\"type\":\"Line\"},\"hover_glyph\":null,\"nonselection_glyph\":{\"id\":\"1e300805-d389-4760-a5d1-a254fac06dbb\",\"type\":\"Line\"},\"selection_glyph\":null},\"id\":\"cc03c473-f9a2-4797-857f-c8e080d109c0\",\"type\":\"GlyphRenderer\"},{\"attributes\":{\"callback\":null,\"column_names\":[\"x\",\"y\"],\"data\":{\"x\":[0.0,0.48799959623807554,0.9759991924761511,1.4639987887142265,1.9519983849523022,2.439997981190378,2.927997577428453,3.4159971736665287,3.9039967699046043,4.3919963661426795,4.879995962380756,5.367995558618831,5.855995154856906,6.343994751094982,6.831994347333057,7.319993943571133,7.807993539809209,8.295993136047285,8.783992732285359,9.271992328523435,9.271992328523435,8.783992732285359,8.295993136047285,7.807993539809209,7.319993943571133,6.831994347333057,6.343994751094982,5.855995154856906,5.367995558618831,4.879995962380756,4.3919963661426795,3.9039967699046043,3.4159971736665287,2.927997577428453,2.439997981190378,1.9519983849523022,1.4639987887142265,0.9759991924761511,0.48799959623807554,0.0],\"y\":[0.0,0.0,0.0,0.0,0.0,0.0,0.0,0.0,0.0,0.0,0.0,0.0,0.0,0.0,0.0,0.0,0.0,0.0,0.0,0.0,-6.782929773407885e-10,7.736257309299543,15.472514619275893,23.208771929252194,30.579560790922475,37.85071507152806,45.12186935213208,52.393023632738704,59.66417791334297,66.93533219394813,74.20648647455397,81.47764075515862,88.74879503576335,96.01994931636932,103.29110359697452,110.35493820798725,116.50928876237388,122.66363931675981,128.66017350559792,133.33333333333331]}},\"id\":\"fc30bc14-b783-462b-83b7-f117ff151293\",\"type\":\"ColumnDataSource\"},{\"attributes\":{\"line_alpha\":{\"value\":0.1},\"line_color\":{\"value\":\"#1f77b4\"},\"x\":{\"field\":\"x\"},\"y\":{\"field\":\"y\"}},\"id\":\"1e300805-d389-4760-a5d1-a254fac06dbb\",\"type\":\"Line\"},{\"attributes\":{\"fill_alpha\":{\"value\":0.3},\"fill_color\":{\"value\":\"#B3E2CD\"},\"line_color\":{\"value\":\"#1f77b4\"},\"x\":{\"field\":\"x\"},\"y\":{\"field\":\"y\"}},\"id\":\"3d21137d-548a-4c85-a1ee-72cba571e878\",\"type\":\"Patch\"},{\"attributes\":{\"data_source\":{\"id\":\"fc30bc14-b783-462b-83b7-f117ff151293\",\"type\":\"ColumnDataSource\"},\"glyph\":{\"id\":\"3d21137d-548a-4c85-a1ee-72cba571e878\",\"type\":\"Patch\"},\"hover_glyph\":null,\"nonselection_glyph\":{\"id\":\"a48abf4b-d25f-4297-b72e-6d1b58f37128\",\"type\":\"Patch\"},\"selection_glyph\":null},\"id\":\"441cb23e-cb0b-483b-b2d7-5b44f2057fb2\",\"type\":\"GlyphRenderer\"},{\"attributes\":{\"plot\":{\"id\":\"61ab4b50-8057-450f-8b2a-b6ebd62be007\",\"subtype\":\"Figure\",\"type\":\"Plot\"}},\"id\":\"05b6f608-4c8e-4648-8cba-974336d758ef\",\"type\":\"HelpTool\"},{\"attributes\":{},\"id\":\"c7e907f5-e270-4a44-ae69-859cb770403d\",\"type\":\"ToolEvents\"},{\"attributes\":{\"plot\":{\"id\":\"61ab4b50-8057-450f-8b2a-b6ebd62be007\",\"subtype\":\"Figure\",\"type\":\"Plot\"}},\"id\":\"015b39c5-37ae-4688-9644-ef3827c0a28f\",\"type\":\"WheelZoomTool\"},{\"attributes\":{\"callback\":null,\"column_names\":[\"x\",\"y\"],\"data\":{\"x\":[9.271992328523435,9.271992328523435],\"y\":[-6.782929773407885e-10,0.0]}},\"id\":\"cea223b2-c8e9-458b-a89d-5555346ee982\",\"type\":\"ColumnDataSource\"},{\"attributes\":{\"plot\":{\"id\":\"61ab4b50-8057-450f-8b2a-b6ebd62be007\",\"subtype\":\"Figure\",\"type\":\"Plot\"}},\"id\":\"396709d4-7234-4fdc-9751-f7f0b3a41c93\",\"type\":\"ResetTool\"},{\"attributes\":{\"axis_label\":\"IPRNADPH [mmol gDW^-1 h^-1]\",\"formatter\":{\"id\":\"06df3906-e579-4b1d-aafd-e905f70b61a4\",\"type\":\"BasicTickFormatter\"},\"plot\":{\"id\":\"61ab4b50-8057-450f-8b2a-b6ebd62be007\",\"subtype\":\"Figure\",\"type\":\"Plot\"},\"ticker\":{\"id\":\"5c4021e7-8999-40d5-8a06-ec2d9221300c\",\"type\":\"BasicTicker\"}},\"id\":\"fe6daf59-674d-4953-a951-e8035daf4295\",\"type\":\"LinearAxis\"},{\"attributes\":{\"line_alpha\":{\"value\":0.1},\"line_color\":{\"value\":\"#1f77b4\"},\"x\":{\"field\":\"x\"},\"y\":{\"field\":\"y\"}},\"id\":\"44eb4200-40b2-4d9e-864c-7f416255c51c\",\"type\":\"Line\"},{\"attributes\":{\"plot\":{\"id\":\"61ab4b50-8057-450f-8b2a-b6ebd62be007\",\"subtype\":\"Figure\",\"type\":\"Plot\"},\"ticker\":{\"id\":\"fc259d19-77fc-47a4-b56f-5f63e3abe10a\",\"type\":\"BasicTicker\"}},\"id\":\"732a0970-de3e-4717-a66a-9e1d34b3fb50\",\"type\":\"Grid\"},{\"attributes\":{\"fill_alpha\":{\"value\":0.1},\"fill_color\":{\"value\":\"#1f77b4\"},\"line_alpha\":{\"value\":0.1},\"line_color\":{\"value\":\"#1f77b4\"},\"x\":{\"field\":\"x\"},\"y\":{\"field\":\"y\"}},\"id\":\"a48abf4b-d25f-4297-b72e-6d1b58f37128\",\"type\":\"Patch\"},{\"attributes\":{\"callback\":null,\"column_names\":[\"x\",\"y\"],\"data\":{\"x\":{\"__ndarray__\":\"AAAAAAAAAAB2cJOoYjvfP3Zwk6hiO+8/WJRu/ols9z92cJOoYjv/P0omXKkdhQNAWJRu/olsB0BnAoFT9lMLQHZwk6hiOw9AQu/SfmeREUBKJlypHYUTQFFd5dPTeBVAWJRu/olsF0Bgy/coQGAZQGcCgVP2UxtAbzkKfqxHHUB2cJOoYjsfQL9TjmmMlyBAQu/SfmeRIUDGiheUQosiQA==\",\"dtype\":\"float64\",\"shape\":[20]},\"y\":[133.33333333333331,128.66017350559792,122.66363931675981,116.50928876237388,110.35493820798725,103.29110359697452,96.01994931636932,88.74879503576335,81.47764075515862,74.20648647455397,66.93533219394813,59.66417791334297,52.393023632738704,45.12186935213208,37.85071507152806,30.579560790922475,23.208771929252194,15.472514619275893,7.736257309299543,-6.782929773407885e-10]}},\"id\":\"77c3c3b4-bcd0-4e99-8d0e-e576005c423a\",\"type\":\"ColumnDataSource\"},{\"attributes\":{\"callback\":null},\"id\":\"fda99369-8f71-42a9-ab59-a2f24305d080\",\"type\":\"DataRange1d\"},{\"attributes\":{\"active_drag\":\"auto\",\"active_scroll\":\"auto\",\"active_tap\":\"auto\",\"tools\":[{\"id\":\"9e696620-a0d9-4275-af6f-c074dd7c14f3\",\"type\":\"PanTool\"},{\"id\":\"015b39c5-37ae-4688-9644-ef3827c0a28f\",\"type\":\"WheelZoomTool\"},{\"id\":\"0e60887b-2035-481d-92fe-18342f48f720\",\"type\":\"BoxZoomTool\"},{\"id\":\"6ff82acf-8150-4400-8f3b-252c2327991d\",\"type\":\"SaveTool\"},{\"id\":\"396709d4-7234-4fdc-9751-f7f0b3a41c93\",\"type\":\"ResetTool\"},{\"id\":\"05b6f608-4c8e-4648-8cba-974336d758ef\",\"type\":\"HelpTool\"}]},\"id\":\"319dd18b-2917-4f39-9bf5-ba7026925ee1\",\"type\":\"Toolbar\"},{\"attributes\":{\"label\":{\"value\":\"WT\"},\"renderers\":[{\"id\":\"441cb23e-cb0b-483b-b2d7-5b44f2057fb2\",\"type\":\"GlyphRenderer\"}]},\"id\":\"745efeae-62d3-4196-b1b3-158ce33059ba\",\"type\":\"LegendItem\"},{\"attributes\":{\"below\":[{\"id\":\"d9423b6c-f9eb-4538-97ab-76608ef7141a\",\"type\":\"LinearAxis\"}],\"left\":[{\"id\":\"fe6daf59-674d-4953-a951-e8035daf4295\",\"type\":\"LinearAxis\"}],\"plot_height\":432,\"plot_width\":700,\"renderers\":[{\"id\":\"d9423b6c-f9eb-4538-97ab-76608ef7141a\",\"type\":\"LinearAxis\"},{\"id\":\"732a0970-de3e-4717-a66a-9e1d34b3fb50\",\"type\":\"Grid\"},{\"id\":\"fe6daf59-674d-4953-a951-e8035daf4295\",\"type\":\"LinearAxis\"},{\"id\":\"aba7302a-10f7-45a6-930e-0723d68bf622\",\"type\":\"Grid\"},{\"id\":\"9a17c5bc-e9ec-43fd-b45c-4d4754a2cd23\",\"type\":\"BoxAnnotation\"},{\"id\":\"96ca535a-49cb-4323-a9d4-c65955e3404b\",\"type\":\"Legend\"},{\"id\":\"441cb23e-cb0b-483b-b2d7-5b44f2057fb2\",\"type\":\"GlyphRenderer\"},{\"id\":\"3b7addf3-29f2-4b98-8c00-17c4104030fe\",\"type\":\"GlyphRenderer\"},{\"id\":\"6a076912-c7f5-4b97-8e6b-d675b29be240\",\"type\":\"GlyphRenderer\"},{\"id\":\"cc03c473-f9a2-4797-857f-c8e080d109c0\",\"type\":\"GlyphRenderer\"}],\"title\":{\"id\":\"bcabe307-280d-4b63-9385-a0de529f5356\",\"type\":\"Title\"},\"tool_events\":{\"id\":\"c7e907f5-e270-4a44-ae69-859cb770403d\",\"type\":\"ToolEvents\"},\"toolbar\":{\"id\":\"319dd18b-2917-4f39-9bf5-ba7026925ee1\",\"type\":\"Toolbar\"},\"x_range\":{\"id\":\"a85541fc-98fb-4dfc-aeb6-3e676b9cb944\",\"type\":\"DataRange1d\"},\"y_range\":{\"id\":\"fda99369-8f71-42a9-ab59-a2f24305d080\",\"type\":\"DataRange1d\"}},\"id\":\"61ab4b50-8057-450f-8b2a-b6ebd62be007\",\"subtype\":\"Figure\",\"type\":\"Plot\"},{\"attributes\":{\"line_color\":{\"value\":\"#B3E2CD\"},\"x\":{\"field\":\"x\"},\"y\":{\"field\":\"y\"}},\"id\":\"086fe186-579a-400b-8e07-42c9618dc65f\",\"type\":\"Line\"},{\"attributes\":{},\"id\":\"06df3906-e579-4b1d-aafd-e905f70b61a4\",\"type\":\"BasicTickFormatter\"}],\"root_ids\":[\"61ab4b50-8057-450f-8b2a-b6ebd62be007\"]},\"title\":\"Bokeh Application\",\"version\":\"0.12.4\"}};\n",
       "            var render_items = [{\"docid\":\"e2f9af1f-724b-43c0-9c82-c76f462aa85a\",\"elementid\":\"4f0cdb3e-a3e3-4447-89b2-c0266eedabe9\",\"modelid\":\"61ab4b50-8057-450f-8b2a-b6ebd62be007\"}];\n",
       "            \n",
       "            Bokeh.embed.embed_items(docs_json, render_items);\n",
       "          };\n",
       "          if (document.readyState != \"loading\") fn();\n",
       "          else document.addEventListener(\"DOMContentLoaded\", fn);\n",
       "        })();\n",
       "      },\n",
       "      function(Bokeh) {\n",
       "      }\n",
       "    ];\n",
       "  \n",
       "    function run_inline_js() {\n",
       "      \n",
       "      if ((window.Bokeh !== undefined) || (force === true)) {\n",
       "        for (var i = 0; i < inline_js.length; i++) {\n",
       "          inline_js[i](window.Bokeh);\n",
       "        }if (force === true) {\n",
       "          display_loaded();\n",
       "        }} else if (Date.now() < window._bokeh_timeout) {\n",
       "        setTimeout(run_inline_js, 100);\n",
       "      } else if (!window._bokeh_failed_load) {\n",
       "        console.log(\"Bokeh: BokehJS failed to load within specified timeout.\");\n",
       "        window._bokeh_failed_load = true;\n",
       "      } else if (force !== true) {\n",
       "        var cell = $(document.getElementById(\"4f0cdb3e-a3e3-4447-89b2-c0266eedabe9\")).parents('.cell').data().cell;\n",
       "        cell.output_area.append_execute_result(NB_LOAD_WARNING)\n",
       "      }\n",
       "  \n",
       "    }\n",
       "  \n",
       "    if (window._bokeh_is_loading === 0) {\n",
       "      console.log(\"Bokeh: BokehJS loaded, going straight to plotting\");\n",
       "      run_inline_js();\n",
       "    } else {\n",
       "      load_libs(js_urls, function() {\n",
       "        console.log(\"Bokeh: BokehJS plotting callback run at\", now());\n",
       "        run_inline_js();\n",
       "      });\n",
       "    }\n",
       "  }(this));\n",
       "</script>"
      ]
     },
     "metadata": {},
     "output_type": "display_data"
    }
   ],
   "source": [
    "cameo.phenotypic_phase_plane(model, 'Ec_biomass_iJO1366_WT_53p95M', 'IPRNADPH').plot()"
   ]
  },
  {
   "cell_type": "markdown",
   "metadata": {
    "collapsed": true
   },
   "source": [
    "#### Both productions are zero at the maximum"
   ]
  },
  {
   "cell_type": "code",
   "execution_count": 39,
   "metadata": {
    "collapsed": true
   },
   "outputs": [],
   "source": [
    "from cameo.strain_design.heuristic.evolutionary_based import OptGene"
   ]
  },
  {
   "cell_type": "code",
   "execution_count": 40,
   "metadata": {
    "collapsed": true
   },
   "outputs": [],
   "source": [
    "optgene = OptGene(model)"
   ]
  },
  {
   "cell_type": "code",
   "execution_count": 49,
   "metadata": {
    "collapsed": true
   },
   "outputs": [],
   "source": [
    "model.reactions.IPRNADPH.bounds=(0,0)\n",
    "model.reactions.IPRNADH.bounds=(0,1000)"
   ]
  },
  {
   "cell_type": "code",
   "execution_count": 50,
   "metadata": {
    "collapsed": false
   },
   "outputs": [
    {
     "name": "stdout",
     "output_type": "stream",
     "text": [
      "Starting optimization at Thu, 05 Oct 2017 09:52:13\n"
     ]
    },
    {
     "data": {
      "text/html": [
       "\n",
       "\n",
       "    <div class=\"bk-root\">\n",
       "        <div class=\"bk-plotdiv\" id=\"76649774-7cfe-440d-94a4-78b5d12f2055\"></div>\n",
       "    </div>\n",
       "<script type=\"text/javascript\">\n",
       "  \n",
       "  (function(global) {\n",
       "    function now() {\n",
       "      return new Date();\n",
       "    }\n",
       "  \n",
       "    var force = false;\n",
       "  \n",
       "    if (typeof (window._bokeh_onload_callbacks) === \"undefined\" || force === true) {\n",
       "      window._bokeh_onload_callbacks = [];\n",
       "      window._bokeh_is_loading = undefined;\n",
       "    }\n",
       "  \n",
       "  \n",
       "    \n",
       "    if (typeof (window._bokeh_timeout) === \"undefined\" || force === true) {\n",
       "      window._bokeh_timeout = Date.now() + 0;\n",
       "      window._bokeh_failed_load = false;\n",
       "    }\n",
       "  \n",
       "    var NB_LOAD_WARNING = {'data': {'text/html':\n",
       "       \"<div style='background-color: #fdd'>\\n\"+\n",
       "       \"<p>\\n\"+\n",
       "       \"BokehJS does not appear to have successfully loaded. If loading BokehJS from CDN, this \\n\"+\n",
       "       \"may be due to a slow or bad network connection. Possible fixes:\\n\"+\n",
       "       \"</p>\\n\"+\n",
       "       \"<ul>\\n\"+\n",
       "       \"<li>re-rerun `output_notebook()` to attempt to load from CDN again, or</li>\\n\"+\n",
       "       \"<li>use INLINE resources instead, as so:</li>\\n\"+\n",
       "       \"</ul>\\n\"+\n",
       "       \"<code>\\n\"+\n",
       "       \"from bokeh.resources import INLINE\\n\"+\n",
       "       \"output_notebook(resources=INLINE)\\n\"+\n",
       "       \"</code>\\n\"+\n",
       "       \"</div>\"}};\n",
       "  \n",
       "    function display_loaded() {\n",
       "      if (window.Bokeh !== undefined) {\n",
       "        document.getElementById(\"76649774-7cfe-440d-94a4-78b5d12f2055\").textContent = \"BokehJS successfully loaded.\";\n",
       "      } else if (Date.now() < window._bokeh_timeout) {\n",
       "        setTimeout(display_loaded, 100)\n",
       "      }\n",
       "    }if ((window.Jupyter !== undefined) && Jupyter.notebook.kernel) {\n",
       "      comm_manager = Jupyter.notebook.kernel.comm_manager\n",
       "      comm_manager.register_target(\"bc7c5fbe-6808-4d1a-9ed1-45a8e4b14964\", function () {});\n",
       "    }\n",
       "  \n",
       "    function run_callbacks() {\n",
       "      window._bokeh_onload_callbacks.forEach(function(callback) { callback() });\n",
       "      delete window._bokeh_onload_callbacks\n",
       "      console.info(\"Bokeh: all callbacks have finished\");\n",
       "    }\n",
       "  \n",
       "    function load_libs(js_urls, callback) {\n",
       "      window._bokeh_onload_callbacks.push(callback);\n",
       "      if (window._bokeh_is_loading > 0) {\n",
       "        console.log(\"Bokeh: BokehJS is being loaded, scheduling callback at\", now());\n",
       "        return null;\n",
       "      }\n",
       "      if (js_urls == null || js_urls.length === 0) {\n",
       "        run_callbacks();\n",
       "        return null;\n",
       "      }\n",
       "      console.log(\"Bokeh: BokehJS not loaded, scheduling load and callback at\", now());\n",
       "      window._bokeh_is_loading = js_urls.length;\n",
       "      for (var i = 0; i < js_urls.length; i++) {\n",
       "        var url = js_urls[i];\n",
       "        var s = document.createElement('script');\n",
       "        s.src = url;\n",
       "        s.async = false;\n",
       "        s.onreadystatechange = s.onload = function() {\n",
       "          window._bokeh_is_loading--;\n",
       "          if (window._bokeh_is_loading === 0) {\n",
       "            console.log(\"Bokeh: all BokehJS libraries loaded\");\n",
       "            run_callbacks()\n",
       "          }\n",
       "        };\n",
       "        s.onerror = function() {\n",
       "          console.warn(\"failed to load library \" + url);\n",
       "        };\n",
       "        console.log(\"Bokeh: injecting script tag for BokehJS library: \", url);\n",
       "        document.getElementsByTagName(\"head\")[0].appendChild(s);\n",
       "      }\n",
       "    };var element = document.getElementById(\"76649774-7cfe-440d-94a4-78b5d12f2055\");\n",
       "    if (element == null) {\n",
       "      console.log(\"Bokeh: ERROR: autoload.js configured with elementid '76649774-7cfe-440d-94a4-78b5d12f2055' but no matching script tag was found. \")\n",
       "      return false;\n",
       "    }\n",
       "  \n",
       "    var js_urls = [];\n",
       "  \n",
       "    var inline_js = [\n",
       "      function(Bokeh) {\n",
       "        (function() {\n",
       "          var fn = function() {\n",
       "            var docs_json = {\"6aabce89-b266-4a68-81c5-b16391faa78d\":{\"roots\":{\"references\":[{\"attributes\":{\"dimension\":1,\"plot\":{\"id\":\"5c325604-db57-4a0b-a0fc-0d7336b439bc\",\"subtype\":\"Figure\",\"type\":\"Plot\"},\"ticker\":{\"id\":\"a956b8cc-905b-4a45-932f-123fd7e2bb38\",\"type\":\"BasicTicker\"}},\"id\":\"351321b8-d203-431d-9bf2-8fe6a9dc6f73\",\"type\":\"Grid\"},{\"attributes\":{\"callback\":null,\"column_names\":[\"x\",\"y\"],\"data\":{\"x\":[],\"y\":[]}},\"id\":\"e2fa9c50-ee39-4c6d-8fb5-a891ef52802a\",\"type\":\"ColumnDataSource\"},{\"attributes\":{\"active_drag\":\"auto\",\"active_scroll\":\"auto\",\"active_tap\":\"auto\"},\"id\":\"822af255-3d24-4bbe-9179-504f6c02bdcf\",\"type\":\"Toolbar\"},{\"attributes\":{},\"id\":\"3bd5bfa6-d627-44b2-93e7-ab99ef138d73\",\"type\":\"ToolEvents\"},{\"attributes\":{\"data_source\":{\"id\":\"e2fa9c50-ee39-4c6d-8fb5-a891ef52802a\",\"type\":\"ColumnDataSource\"},\"glyph\":{\"id\":\"4a6e19b1-1f4b-4f5c-9a29-104f079c2f08\",\"type\":\"Circle\"},\"hover_glyph\":null,\"nonselection_glyph\":{\"id\":\"3696a729-9d73-4a02-976a-9995be576789\",\"type\":\"Circle\"},\"selection_glyph\":null},\"id\":\"d17d09cd-e18e-4e4c-aab3-645e966aae4a\",\"type\":\"GlyphRenderer\"},{\"attributes\":{\"callback\":null},\"id\":\"bef7ee72-34d1-4ac9-9dca-06208cfa9f9d\",\"type\":\"DataRange1d\"},{\"attributes\":{\"fill_alpha\":{\"value\":0.1},\"fill_color\":{\"value\":\"#1f77b4\"},\"line_alpha\":{\"value\":0.1},\"line_color\":{\"value\":\"#1f77b4\"},\"x\":{\"field\":\"x\"},\"y\":{\"field\":\"y\"}},\"id\":\"3696a729-9d73-4a02-976a-9995be576789\",\"type\":\"Circle\"},{\"attributes\":{\"plot\":{\"id\":\"5c325604-db57-4a0b-a0fc-0d7336b439bc\",\"subtype\":\"Figure\",\"type\":\"Plot\"},\"ticker\":{\"id\":\"550b114f-0072-4e03-b593-8c1265928bdd\",\"type\":\"BasicTicker\"}},\"id\":\"f930413a-8f36-4970-b00f-3b8332eaa4e1\",\"type\":\"Grid\"},{\"attributes\":{},\"id\":\"a956b8cc-905b-4a45-932f-123fd7e2bb38\",\"type\":\"BasicTicker\"},{\"attributes\":{\"axis_label\":\"Iteration\",\"formatter\":{\"id\":\"fe5f8152-65c6-4f87-b1fe-de264e0e8298\",\"type\":\"BasicTickFormatter\"},\"plot\":{\"id\":\"5c325604-db57-4a0b-a0fc-0d7336b439bc\",\"subtype\":\"Figure\",\"type\":\"Plot\"},\"ticker\":{\"id\":\"550b114f-0072-4e03-b593-8c1265928bdd\",\"type\":\"BasicTicker\"}},\"id\":\"9e385c67-6ad2-406f-857d-660260692477\",\"type\":\"LinearAxis\"},{\"attributes\":{},\"id\":\"fe5f8152-65c6-4f87-b1fe-de264e0e8298\",\"type\":\"BasicTickFormatter\"},{\"attributes\":{\"plot\":null,\"text\":\"Fitness plot\"},\"id\":\"d92dca4a-396c-4354-a3ab-2f7a689767d2\",\"type\":\"Title\"},{\"attributes\":{\"axis_label\":\"Fitness\",\"formatter\":{\"id\":\"00828302-ccf0-45d7-bcb3-9a71ac88c525\",\"type\":\"BasicTickFormatter\"},\"plot\":{\"id\":\"5c325604-db57-4a0b-a0fc-0d7336b439bc\",\"subtype\":\"Figure\",\"type\":\"Plot\"},\"ticker\":{\"id\":\"a956b8cc-905b-4a45-932f-123fd7e2bb38\",\"type\":\"BasicTicker\"}},\"id\":\"07999bd9-c88d-4bff-a682-495b6c83cca9\",\"type\":\"LinearAxis\"},{\"attributes\":{},\"id\":\"00828302-ccf0-45d7-bcb3-9a71ac88c525\",\"type\":\"BasicTickFormatter\"},{\"attributes\":{\"callback\":null},\"id\":\"309a3575-0988-45c7-b12f-d40f49ea612c\",\"type\":\"DataRange1d\"},{\"attributes\":{},\"id\":\"550b114f-0072-4e03-b593-8c1265928bdd\",\"type\":\"BasicTicker\"},{\"attributes\":{\"below\":[{\"id\":\"9e385c67-6ad2-406f-857d-660260692477\",\"type\":\"LinearAxis\"}],\"left\":[{\"id\":\"07999bd9-c88d-4bff-a682-495b6c83cca9\",\"type\":\"LinearAxis\"}],\"plot_height\":400,\"plot_width\":650,\"renderers\":[{\"id\":\"9e385c67-6ad2-406f-857d-660260692477\",\"type\":\"LinearAxis\"},{\"id\":\"f930413a-8f36-4970-b00f-3b8332eaa4e1\",\"type\":\"Grid\"},{\"id\":\"07999bd9-c88d-4bff-a682-495b6c83cca9\",\"type\":\"LinearAxis\"},{\"id\":\"351321b8-d203-431d-9bf2-8fe6a9dc6f73\",\"type\":\"Grid\"},{\"id\":\"d17d09cd-e18e-4e4c-aab3-645e966aae4a\",\"type\":\"GlyphRenderer\"}],\"title\":{\"id\":\"d92dca4a-396c-4354-a3ab-2f7a689767d2\",\"type\":\"Title\"},\"tool_events\":{\"id\":\"3bd5bfa6-d627-44b2-93e7-ab99ef138d73\",\"type\":\"ToolEvents\"},\"toolbar\":{\"id\":\"822af255-3d24-4bbe-9179-504f6c02bdcf\",\"type\":\"Toolbar\"},\"x_range\":{\"id\":\"309a3575-0988-45c7-b12f-d40f49ea612c\",\"type\":\"DataRange1d\"},\"y_range\":{\"id\":\"bef7ee72-34d1-4ac9-9dca-06208cfa9f9d\",\"type\":\"DataRange1d\"}},\"id\":\"5c325604-db57-4a0b-a0fc-0d7336b439bc\",\"subtype\":\"Figure\",\"type\":\"Plot\"},{\"attributes\":{\"fill_color\":{\"value\":\"#1f77b4\"},\"line_color\":{\"value\":\"#1f77b4\"},\"x\":{\"field\":\"x\"},\"y\":{\"field\":\"y\"}},\"id\":\"4a6e19b1-1f4b-4f5c-9a29-104f079c2f08\",\"type\":\"Circle\"}],\"root_ids\":[\"5c325604-db57-4a0b-a0fc-0d7336b439bc\"]},\"title\":\"Bokeh Application\",\"version\":\"0.12.4\"}};\n",
       "            var render_items = [{\"docid\":\"6aabce89-b266-4a68-81c5-b16391faa78d\",\"elementid\":\"76649774-7cfe-440d-94a4-78b5d12f2055\",\"modelid\":\"5c325604-db57-4a0b-a0fc-0d7336b439bc\",\"notebook_comms_target\":\"bc7c5fbe-6808-4d1a-9ed1-45a8e4b14964\"}];\n",
       "            \n",
       "            Bokeh.embed.embed_items(docs_json, render_items);\n",
       "          };\n",
       "          if (document.readyState != \"loading\") fn();\n",
       "          else document.addEventListener(\"DOMContentLoaded\", fn);\n",
       "        })();\n",
       "      },\n",
       "      function(Bokeh) {\n",
       "      }\n",
       "    ];\n",
       "  \n",
       "    function run_inline_js() {\n",
       "      \n",
       "      if ((window.Bokeh !== undefined) || (force === true)) {\n",
       "        for (var i = 0; i < inline_js.length; i++) {\n",
       "          inline_js[i](window.Bokeh);\n",
       "        }if (force === true) {\n",
       "          display_loaded();\n",
       "        }} else if (Date.now() < window._bokeh_timeout) {\n",
       "        setTimeout(run_inline_js, 100);\n",
       "      } else if (!window._bokeh_failed_load) {\n",
       "        console.log(\"Bokeh: BokehJS failed to load within specified timeout.\");\n",
       "        window._bokeh_failed_load = true;\n",
       "      } else if (force !== true) {\n",
       "        var cell = $(document.getElementById(\"76649774-7cfe-440d-94a4-78b5d12f2055\")).parents('.cell').data().cell;\n",
       "        cell.output_area.append_execute_result(NB_LOAD_WARNING)\n",
       "      }\n",
       "  \n",
       "    }\n",
       "  \n",
       "    if (window._bokeh_is_loading === 0) {\n",
       "      console.log(\"Bokeh: BokehJS loaded, going straight to plotting\");\n",
       "      run_inline_js();\n",
       "    } else {\n",
       "      load_libs(js_urls, function() {\n",
       "        console.log(\"Bokeh: BokehJS plotting callback run at\", now());\n",
       "        run_inline_js();\n",
       "      });\n",
       "    }\n",
       "  }(this));\n",
       "</script>"
      ]
     },
     "metadata": {},
     "output_type": "display_data"
    },
    {
     "name": "stderr",
     "output_type": "stream",
     "text": [
      "/Users/aalarcon/anaconda/envs/cameo3.4/lib/python3.4/site-packages/bokeh/models/sources.py:81 \u001b[1;31mBokehUserWarning\u001b[0m: ColumnDataSource's columns must be of the same length\n",
      "/Users/aalarcon/anaconda/envs/cameo3.4/lib/python3.4/site-packages/bokeh/models/sources.py:81 \u001b[1;31mBokehUserWarning\u001b[0m: ColumnDataSource's columns must be of the same length\n",
      "/Users/aalarcon/anaconda/envs/cameo3.4/lib/python3.4/site-packages/bokeh/models/sources.py:81 \u001b[1;31mBokehUserWarning\u001b[0m: ColumnDataSource's columns must be of the same length\n",
      "/Users/aalarcon/anaconda/envs/cameo3.4/lib/python3.4/site-packages/bokeh/models/sources.py:81 \u001b[1;31mBokehUserWarning\u001b[0m: ColumnDataSource's columns must be of the same length\n",
      "/Users/aalarcon/anaconda/envs/cameo3.4/lib/python3.4/site-packages/bokeh/models/sources.py:81 \u001b[1;31mBokehUserWarning\u001b[0m: ColumnDataSource's columns must be of the same length\n",
      "/Users/aalarcon/anaconda/envs/cameo3.4/lib/python3.4/site-packages/bokeh/models/sources.py:81 \u001b[1;31mBokehUserWarning\u001b[0m: ColumnDataSource's columns must be of the same length\n",
      "/Users/aalarcon/anaconda/envs/cameo3.4/lib/python3.4/site-packages/bokeh/models/sources.py:81 \u001b[1;31mBokehUserWarning\u001b[0m: ColumnDataSource's columns must be of the same length\n",
      "/Users/aalarcon/anaconda/envs/cameo3.4/lib/python3.4/site-packages/bokeh/models/sources.py:81 \u001b[1;31mBokehUserWarning\u001b[0m: ColumnDataSource's columns must be of the same length\n",
      "/Users/aalarcon/anaconda/envs/cameo3.4/lib/python3.4/site-packages/bokeh/models/sources.py:81 \u001b[1;31mBokehUserWarning\u001b[0m: ColumnDataSource's columns must be of the same length\n",
      "/Users/aalarcon/anaconda/envs/cameo3.4/lib/python3.4/site-packages/bokeh/models/sources.py:81 \u001b[1;31mBokehUserWarning\u001b[0m: ColumnDataSource's columns must be of the same length\n",
      "/Users/aalarcon/anaconda/envs/cameo3.4/lib/python3.4/site-packages/bokeh/models/sources.py:81 \u001b[1;31mBokehUserWarning\u001b[0m: ColumnDataSource's columns must be of the same length\n",
      "/Users/aalarcon/anaconda/envs/cameo3.4/lib/python3.4/site-packages/bokeh/models/sources.py:81 \u001b[1;31mBokehUserWarning\u001b[0m: ColumnDataSource's columns must be of the same length\n",
      "/Users/aalarcon/anaconda/envs/cameo3.4/lib/python3.4/site-packages/bokeh/models/sources.py:81 \u001b[1;31mBokehUserWarning\u001b[0m: ColumnDataSource's columns must be of the same length\n",
      "/Users/aalarcon/anaconda/envs/cameo3.4/lib/python3.4/site-packages/bokeh/models/sources.py:81 \u001b[1;31mBokehUserWarning\u001b[0m: ColumnDataSource's columns must be of the same length\n",
      "/Users/aalarcon/anaconda/envs/cameo3.4/lib/python3.4/site-packages/bokeh/models/sources.py:81 \u001b[1;31mBokehUserWarning\u001b[0m: ColumnDataSource's columns must be of the same length\n",
      "/Users/aalarcon/anaconda/envs/cameo3.4/lib/python3.4/site-packages/bokeh/models/sources.py:81 \u001b[1;31mBokehUserWarning\u001b[0m: ColumnDataSource's columns must be of the same length\n",
      "/Users/aalarcon/anaconda/envs/cameo3.4/lib/python3.4/site-packages/bokeh/models/sources.py:81 \u001b[1;31mBokehUserWarning\u001b[0m: ColumnDataSource's columns must be of the same length\n",
      "/Users/aalarcon/anaconda/envs/cameo3.4/lib/python3.4/site-packages/bokeh/models/sources.py:81 \u001b[1;31mBokehUserWarning\u001b[0m: ColumnDataSource's columns must be of the same length\n",
      "/Users/aalarcon/anaconda/envs/cameo3.4/lib/python3.4/site-packages/bokeh/models/sources.py:81 \u001b[1;31mBokehUserWarning\u001b[0m: ColumnDataSource's columns must be of the same length\n",
      "/Users/aalarcon/anaconda/envs/cameo3.4/lib/python3.4/site-packages/bokeh/models/sources.py:81 \u001b[1;31mBokehUserWarning\u001b[0m: ColumnDataSource's columns must be of the same length\n",
      "/Users/aalarcon/anaconda/envs/cameo3.4/lib/python3.4/site-packages/bokeh/models/sources.py:81 \u001b[1;31mBokehUserWarning\u001b[0m: ColumnDataSource's columns must be of the same length\n",
      "/Users/aalarcon/anaconda/envs/cameo3.4/lib/python3.4/site-packages/bokeh/models/sources.py:81 \u001b[1;31mBokehUserWarning\u001b[0m: ColumnDataSource's columns must be of the same length\n",
      "/Users/aalarcon/anaconda/envs/cameo3.4/lib/python3.4/site-packages/bokeh/models/sources.py:81 \u001b[1;31mBokehUserWarning\u001b[0m: ColumnDataSource's columns must be of the same length\n",
      "/Users/aalarcon/anaconda/envs/cameo3.4/lib/python3.4/site-packages/bokeh/models/sources.py:81 \u001b[1;31mBokehUserWarning\u001b[0m: ColumnDataSource's columns must be of the same length\n"
     ]
    },
    {
     "name": "stdout",
     "output_type": "stream",
     "text": [
      "Finished after 00:12:30\n"
     ]
    },
    {
     "name": "stderr",
     "output_type": "stream",
     "text": [
      "/Users/aalarcon/anaconda/envs/cameo3.4/lib/python3.4/site-packages/bokeh/models/sources.py:81 \u001b[1;31mBokehUserWarning\u001b[0m: ColumnDataSource's columns must be of the same length\n"
     ]
    }
   ],
   "source": [
    "result = optgene.run(target=\"IPRNADH\", \n",
    "                     biomass=\"Ec_biomass_iJO1366_WT_53p95M\",\n",
    "                     substrate=\"glc_dsh_D_e\",\n",
    "                     max_evaluations=5000,\n",
    "                     plot=False)"
   ]
  },
  {
   "cell_type": "code",
   "execution_count": 51,
   "metadata": {
    "collapsed": false
   },
   "outputs": [
    {
     "name": "stderr",
     "output_type": "stream",
     "text": [
      "No solutions found\n"
     ]
    },
    {
     "data": {
      "text/html": [
       "\n",
       "        <h3>OptGene Result</h3>\n",
       "        <ul>\n",
       "            <li>Simulation: fba<br/></li>\n",
       "            <li>Objective Function: $$bpcy = \\frac{(Ec\\_biomass\\_iJO1366\\_core\\_53p95M * IPRNADH)}{DM\\_glc\\_dsh\\_D\\_e}$$<br/></li>\n",
       "        </ul>\n",
       "        <div>\n",
       "<style>\n",
       "    .dataframe thead tr:only-child th {\n",
       "        text-align: right;\n",
       "    }\n",
       "\n",
       "    .dataframe thead th {\n",
       "        text-align: left;\n",
       "    }\n",
       "\n",
       "    .dataframe tbody tr th {\n",
       "        vertical-align: top;\n",
       "    }\n",
       "</style>\n",
       "<table border=\"1\" class=\"dataframe\">\n",
       "  <thead>\n",
       "    <tr style=\"text-align: right;\">\n",
       "      <th></th>\n",
       "      <th>reactions</th>\n",
       "      <th>genes</th>\n",
       "      <th>size</th>\n",
       "      <th>fva_min</th>\n",
       "      <th>fva_max</th>\n",
       "      <th>target_flux</th>\n",
       "      <th>biomass_flux</th>\n",
       "      <th>yield</th>\n",
       "      <th>fitness</th>\n",
       "    </tr>\n",
       "  </thead>\n",
       "  <tbody>\n",
       "  </tbody>\n",
       "</table>\n",
       "</div>\n",
       "        "
      ],
      "text/plain": [
       "<cameo.strain_design.heuristic.evolutionary_based.OptGeneResult at 0x111eb1358>"
      ]
     },
     "execution_count": 51,
     "metadata": {},
     "output_type": "execute_result"
    }
   ],
   "source": [
    "result"
   ]
  },
  {
   "cell_type": "code",
   "execution_count": null,
   "metadata": {
    "collapsed": true
   },
   "outputs": [],
   "source": []
  }
 ],
 "metadata": {
  "kernelspec": {
   "display_name": "Python 3",
   "language": "python",
   "name": "python3"
  },
  "language_info": {
   "codemirror_mode": {
    "name": "ipython",
    "version": 3
   },
   "file_extension": ".py",
   "mimetype": "text/x-python",
   "name": "python",
   "nbconvert_exporter": "python",
   "pygments_lexer": "ipython3",
   "version": "3.4.5"
  },
  "widgets": {
   "state": {
    "afc6124b94714cfa8246150f26b0718e": {
     "views": [
      {
       "cell_index": 13
      }
     ]
    }
   },
   "version": "1.2.0"
  }
 },
 "nbformat": 4,
 "nbformat_minor": 2
}
