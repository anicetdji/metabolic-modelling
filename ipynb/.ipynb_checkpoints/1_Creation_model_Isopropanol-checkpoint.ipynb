{
 "cells": [
  {
   "cell_type": "markdown",
   "metadata": {},
   "source": [
    "# Create Model PKT et WT Isopropanol"
   ]
  },
  {
   "cell_type": "code",
   "execution_count": 151,
   "metadata": {},
   "outputs": [],
   "source": [
    "import cobra\n",
    "import pandas as pd\n",
    "import escher\n",
    "import cameo"
   ]
  },
  {
   "cell_type": "code",
   "execution_count": 152,
   "metadata": {
    "collapsed": true
   },
   "outputs": [],
   "source": [
    "wd = '/Users/aalarcon/Documents/Jupyter/3_Isopropanol/'"
   ]
  },
  {
   "cell_type": "code",
   "execution_count": 153,
   "metadata": {
    "collapsed": true
   },
   "outputs": [],
   "source": [
    "model = cameo.load_model(wd + 'input/model_PKT.xml')"
   ]
  },
  {
   "cell_type": "code",
   "execution_count": 154,
   "metadata": {},
   "outputs": [
    {
     "data": {
      "text/html": [
       "\n",
       "        <table>\n",
       "            <tr>\n",
       "                <td><strong>Name</strong></td>\n",
       "                <td>iJO1366</td>\n",
       "            </tr><tr>\n",
       "                <td><strong>Memory address</strong></td>\n",
       "                <td>0x01126bad68</td>\n",
       "            </tr><tr>\n",
       "                <td><strong>Number of metabolites</strong></td>\n",
       "                <td>1806</td>\n",
       "            </tr><tr>\n",
       "                <td><strong>Number of reactions</strong></td>\n",
       "                <td>2590</td>\n",
       "            </tr><tr>\n",
       "                <td><strong>Objective expression</strong></td>\n",
       "                <td>-1.0*Ec_biomass_iJO1366_WT_53p95M_reverse_55db7 + 1.0*Ec_biomass_iJO1366_WT_53p95M</td>\n",
       "            </tr><tr>\n",
       "                <td><strong>Compartments</strong></td>\n",
       "                <td>Cytoplasm, Periplasm, Extracellular</td>\n",
       "            </tr>\n",
       "          </table>"
      ],
      "text/plain": [
       "<Model iJO1366 at 0x1126bad68>"
      ]
     },
     "execution_count": 154,
     "metadata": {},
     "output_type": "execute_result"
    }
   ],
   "source": [
    "model"
   ]
  },
  {
   "cell_type": "code",
   "execution_count": 155,
   "metadata": {
    "collapsed": true
   },
   "outputs": [],
   "source": [
    "model.reactions.SUCOAS.bounds=(-1000,1000)\n",
    "model.reactions.AKGDH.bounds=(-1000,1000)"
   ]
  },
  {
   "cell_type": "markdown",
   "metadata": {},
   "source": [
    "Add Metabolite isopropanol"
   ]
  },
  {
   "cell_type": "code",
   "execution_count": 156,
   "metadata": {},
   "outputs": [],
   "source": [
    "iprop_c = cobra.Metabolite(id='iprop_c', formula='C3H8O', name='isopropanol', compartment='c')\n",
    "model.add_metabolites(iprop_c)"
   ]
  },
  {
   "cell_type": "markdown",
   "metadata": {
    "collapsed": true
   },
   "source": [
    "Add Reactions"
   ]
  },
  {
   "cell_type": "code",
   "execution_count": 157,
   "metadata": {},
   "outputs": [],
   "source": [
    "r_isoprop_nadh = cobra.Reaction(id='IPRNADH', name='Propane 2-Monooxygenase (EC 1.14.13.227)', lower_bound=0, upper_bound=1000)\n",
    "r_isoprop_nadph = cobra.Reaction(id='IPRNADPH', name='Isopropanol Dehydrogenase (EC 1.1.1.80)', lower_bound=0, upper_bound=1000)\n",
    "model.add_reactions([r_isoprop_nadh, r_isoprop_nadph])"
   ]
  },
  {
   "cell_type": "code",
   "execution_count": 158,
   "metadata": {},
   "outputs": [],
   "source": [
    "r_isoprop_nadh.add_metabolites({'acetone_c':-1, 'nadh_c':-1, 'h_c':-1, 'iprop_c':1, 'nad_c':1})\n",
    "r_isoprop_nadph.add_metabolites({'acetone_c':-1, 'nadph_c':-1, 'h_c':-1, 'iprop_c':1, 'nadp_c':1})"
   ]
  },
  {
   "cell_type": "code",
   "execution_count": 159,
   "metadata": {},
   "outputs": [
    {
     "data": {
      "text/plain": [
       "'acetone_c + h_c + nadh_c --> iprop_c + nad_c'"
      ]
     },
     "execution_count": 159,
     "metadata": {},
     "output_type": "execute_result"
    }
   ],
   "source": [
    "r_isoprop_nadh.reaction"
   ]
  },
  {
   "cell_type": "code",
   "execution_count": 160,
   "metadata": {},
   "outputs": [
    {
     "data": {
      "text/plain": [
       "'acetone_c + h_c + nadph_c --> iprop_c + nadp_c'"
      ]
     },
     "execution_count": 160,
     "metadata": {},
     "output_type": "execute_result"
    }
   ],
   "source": [
    "r_isoprop_nadph.reaction"
   ]
  },
  {
   "cell_type": "code",
   "execution_count": 161,
   "metadata": {
    "collapsed": true
   },
   "outputs": [],
   "source": [
    "r_isoprop_exch = cobra.Reaction(id='EX_iprop', name='Isopropanol Exchange')\n",
    "model.add_reaction(r_isoprop_exch)"
   ]
  },
  {
   "cell_type": "code",
   "execution_count": 162,
   "metadata": {},
   "outputs": [
    {
     "data": {
      "text/plain": [
       "'iprop_c --> '"
      ]
     },
     "execution_count": 162,
     "metadata": {},
     "output_type": "execute_result"
    }
   ],
   "source": [
    "r_isoprop_exch.add_metabolites({'iprop_c':-1})\n",
    "r_isoprop_exch.reaction"
   ]
  },
  {
   "cell_type": "markdown",
   "metadata": {},
   "source": [
    "## Clean names of reactions and metabolites\n",
    "\n",
    "no more:\n",
    " _lp_e_rp\n",
    " _dsh_"
   ]
  },
  {
   "cell_type": "code",
   "execution_count": 163,
   "metadata": {},
   "outputs": [],
   "source": [
    "for r in model.reactions:\n",
    "    if r.id.count('EX')>0:\n",
    "        if r.id.count('_lp_e_rp_')>0:\n",
    "            r.id = r.id.replace('_lp_e_rp_', '')\n",
    "        if r.id.count('_dsh_')>0:\n",
    "            r.id = r.id.replace('_dsh_', '_')\n",
    "\n",
    "for m in model.metabolites:\n",
    "    if m.id.count('_dsh_') > 0:\n",
    "        m.id = m.id.replace('_dsh_', '_')"
   ]
  },
  {
   "cell_type": "code",
   "execution_count": 164,
   "metadata": {},
   "outputs": [
    {
     "data": {
      "text/html": [
       "\n",
       "        <table>\n",
       "            <tr>\n",
       "                <td><strong>Metabolite identifier</strong></td><td>glc_D_c</td>\n",
       "            </tr><tr>\n",
       "                <td><strong>Name</strong></td><td>D-Glucose</td>\n",
       "            </tr><tr>\n",
       "                <td><strong>Memory address</strong></td>\n",
       "                <td>0x011e7ec6a0</td>\n",
       "            </tr><tr>\n",
       "                <td><strong>Formula</strong></td><td>C6H12O6</td>\n",
       "            </tr><tr>\n",
       "                <td><strong>Compartment</strong></td><td>c</td>\n",
       "            </tr><tr>\n",
       "                <td><strong>In 20 reaction(s)</strong></td><td>\n",
       "                    AMALT1, G6PP, MLTG1, GLCATr, NANK, TREH, TRE6PH, HEX1, MLTG5, XYLI2, AMALT2, GLCabcpp, AMALT3, MLTG2, GLCt2pp, MLTG3, AMALT4, LACZ, MLTG4, GALS3</td>\n",
       "            </tr>\n",
       "        </table>"
      ],
      "text/plain": [
       "<Metabolite glc_D_c at 0x11e7ec6a0>"
      ]
     },
     "execution_count": 164,
     "metadata": {},
     "output_type": "execute_result"
    }
   ],
   "source": [
    "model.metabolites.glc_D_c"
   ]
  },
  {
   "cell_type": "code",
   "execution_count": 165,
   "metadata": {
    "collapsed": true
   },
   "outputs": [],
   "source": [
    "model.reactions.Ec_biomass_iJO1366_core_53p95M.id = 'Biomass_core'\n",
    "model.reactions.Ec_biomass_iJO1366_WT_53p95M.id = 'Biomass_WT'"
   ]
  },
  {
   "cell_type": "code",
   "execution_count": null,
   "metadata": {
    "collapsed": true
   },
   "outputs": [],
   "source": []
  },
  {
   "cell_type": "markdown",
   "metadata": {},
   "source": [
    "## Save model"
   ]
  },
  {
   "cell_type": "code",
   "execution_count": 166,
   "metadata": {
    "collapsed": true
   },
   "outputs": [],
   "source": [
    "cobra.io.write_sbml_model(model, wd+'input/model_PKT_iprop.xml')"
   ]
  },
  {
   "cell_type": "code",
   "execution_count": 167,
   "metadata": {
    "collapsed": true
   },
   "outputs": [],
   "source": [
    "cobra.io.save_json_model(model, wd+'input/model_PKT_iprop.json')"
   ]
  },
  {
   "cell_type": "code",
   "execution_count": null,
   "metadata": {
    "collapsed": true
   },
   "outputs": [],
   "source": []
  }
 ],
 "metadata": {
  "kernelspec": {
   "display_name": "Python 3",
   "language": "python",
   "name": "python3"
  },
  "language_info": {
   "codemirror_mode": {
    "name": "ipython",
    "version": 3
   },
   "file_extension": ".py",
   "mimetype": "text/x-python",
   "name": "python",
   "nbconvert_exporter": "python",
   "pygments_lexer": "ipython3",
   "version": "3.6.1"
  }
 },
 "nbformat": 4,
 "nbformat_minor": 2
}
